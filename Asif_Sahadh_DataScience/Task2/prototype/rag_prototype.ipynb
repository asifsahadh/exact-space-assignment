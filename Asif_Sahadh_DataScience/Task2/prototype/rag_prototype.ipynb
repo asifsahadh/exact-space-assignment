{
 "cells": [
  {
   "cell_type": "markdown",
   "id": "b3df4b85",
   "metadata": {},
   "source": [
    "### _EXACTSPACE DATA SCIENCE INTERNSHIP ASSIGNMENT_\n",
    "## __Part 2: RAG + LLM System Design__"
   ]
  },
  {
   "cell_type": "markdown",
   "id": "d159ccbb",
   "metadata": {},
   "source": [
    "---"
   ]
  },
  {
   "cell_type": "markdown",
   "id": "b3dc91b3",
   "metadata": {},
   "source": [
    "___Note:__ Please refer RUN STEPS form README.md before running the cells below._"
   ]
  },
  {
   "cell_type": "markdown",
   "id": "077e68d2",
   "metadata": {},
   "source": [
    "### Architecture Diagram"
   ]
  },
  {
   "cell_type": "markdown",
   "id": "c3f8d259",
   "metadata": {},
   "source": [
    "<p align=\"center\">\n",
    "  <img src=\"../architecture_diagram.png\" width=\"750\" style=\"border-radius:5px;\">\n",
    "</p>"
   ]
  },
  {
   "cell_type": "markdown",
   "id": "63a3ee4d",
   "metadata": {},
   "source": [
    "The document overall contains 3 modalities: text, image & table. The idea is to sequentially store each of these inside an array. The text data is taken as is, the image data is first passed into an LLM to gets its detailed description. Similar operation is performed on table data. These are stored into the data array.<br><br>\n",
    "Next, they are divided into chunks, where the chunking strategy is overlap. These chunks are converted to vector embeddings using the sentence transformer model `all-mpnet-base-v2`, which converts the data into a 768-dimensional vector. Next, the user query is also converted into its vector using the same embedding model. Cosine similarity is performed to get the top-k indices. Using this, we retrieve the text data from the chunks array.<br><br>\n",
    "Finally, we pass the original user query and the retrieved top-k text chunks and pass it into an LLM for getting the final response.<br><br><br>\n",
    "__Note:__\n",
    "1. For processing image data, the model is sourced from Ollama, where the model (`gemma3:4b`) runs locally on my PC. This is because in my research, vision language models (VLMs) hosted on cloud are not freely available. \n",
    "2. For processing tables and for the final LLM that processes the user query based on the final context, the model is sourced from Groq Cloud (`gpt-oss-120b`). This in my testing was very fast.\n",
    "3. Processing images locally via running the VLM locally is very time consuming. Processing 4 pages entirely using the data extraction pipeline (see function `extract_multimodal_data`) took almost 40 minutes. For this reason, image processing is only done for 30 of the 195 pages."
   ]
  },
  {
   "cell_type": "markdown",
   "id": "7a32e9d3",
   "metadata": {},
   "source": [
    "### Implementation"
   ]
  },
  {
   "cell_type": "markdown",
   "id": "0265f8b0",
   "metadata": {},
   "source": [
    "_Importing libraries._"
   ]
  },
  {
   "cell_type": "code",
   "execution_count": 94,
   "id": "a32a4606",
   "metadata": {},
   "outputs": [],
   "source": [
    "from sentence_transformers import SentenceTransformer\n",
    "from PyPDF2 import PdfMerger\n",
    "from groq import Groq\n",
    "import os\n",
    "import numpy as np\n",
    "from dotenv import load_dotenv\n",
    "from numpy import dot\n",
    "from numpy.linalg import norm\n",
    "import fitz\n",
    "import pdfplumber\n",
    "from pathlib import Path\n",
    "import requests\n",
    "import base64\n",
    "import io\n",
    "import faiss\n",
    "import pickle\n",
    "import time\n",
    "import ast"
   ]
  },
  {
   "cell_type": "markdown",
   "id": "27b85fae",
   "metadata": {},
   "source": [
    "_Combine PDFs._"
   ]
  },
  {
   "cell_type": "code",
   "execution_count": null,
   "id": "43141001",
   "metadata": {},
   "outputs": [],
   "source": [
    "folder = \"pdfs\"\n",
    "files_and_folders = os.listdir(folder)\n",
    "files = [f for f in files_and_folders if f.lower().endswith(\".pdf\")]\n",
    "files.sort()\n",
    "merger = PdfMerger()\n",
    "\n",
    "for pdf in files:\n",
    "    merger.append(os.path.join(folder, pdf))  \n",
    "\n",
    "merger.write(\"final.pdf\")\n",
    "merger.close()"
   ]
  },
  {
   "cell_type": "markdown",
   "id": "95ea0243",
   "metadata": {},
   "source": [
    "_We have the resulting PDF with 195 pages._"
   ]
  },
  {
   "cell_type": "markdown",
   "id": "a0e56033",
   "metadata": {},
   "source": [
    ">##### Data Extraction Pipeline Engineering"
   ]
  },
  {
   "cell_type": "markdown",
   "id": "1d9706e4",
   "metadata": {},
   "source": [
    "The idea is to ultimately save everything in text form. Text data will be extracted as it is, while the images and tables will be passed to an LLM with respective prompts to get their textual descriptions. Another important point is to maintain the sequence. For example if there is an image after a table in one page, the final `data_array` should have the image description after the table description. This is because if a table / image exists in a page, it is possible that the text surrounding that table / image serves as a description for that table / image. Therefore, maintaining the sequence can be better as this may benefit when chunking where similar information is still together.<br><br>\n",
    "On the other hand, if we maintain separate data arrays for each modality, it's possible that some context will be lost, and that retrieving the right information may be difficult. "
   ]
  },
  {
   "cell_type": "markdown",
   "id": "81ed1186",
   "metadata": {},
   "source": [
    "The model I'm using is the Gemma 3 12B model, sourced from Ollama. This is a locally downloaded VLM model that works pretty well with image data. A minor drawback is it's slow processing as the model needs to run locally. The specific model that I downloaded was the its quantized version (q4) to further speed up inference."
   ]
  },
  {
   "cell_type": "markdown",
   "id": "f8b91165",
   "metadata": {},
   "source": [
    "_Python class to send image data for inference._"
   ]
  },
  {
   "cell_type": "code",
   "execution_count": null,
   "id": "383ed8ad",
   "metadata": {},
   "outputs": [],
   "source": [
    "class ImageDescriber:\n",
    "    def __init__(self, model, system_prompt):\n",
    "        self.model = model\n",
    "        self.system_prompt = system_prompt\n",
    "        self.chat_history = []\n",
    "        self.url = \"http://localhost:11434/api/chat\"\n",
    "\n",
    "        if system_prompt:\n",
    "            self.chat_history.append({\"role\" : \"system\", \"content\" : system_prompt})\n",
    "        \n",
    "    def send(self, user_input, image_path = None, image_bytes = None):\n",
    "        if image_path or image_bytes:\n",
    "            return self.send_with_image(user_input, image_path, image_bytes)\n",
    "\n",
    "        self.chat_history.append({\"role\": \"user\", \"content\": user_input})\n",
    "        payload = {\n",
    "            \"model\": self.model,\n",
    "            \"messages\": self.chat_history,\n",
    "            \"stream\": False\n",
    "        }\n",
    "        response = requests.post(self.url, json = payload)\n",
    "        if response.status_code != 200:\n",
    "            raise Exception(f\"Error {response.status_code}: {response.text}\")\n",
    "        \n",
    "        assistant_response = response.json()[\"message\"][\"content\"]\n",
    "        self.chat_history.append({\"role\": \"assistant\", \"content\": assistant_response})\n",
    "        return assistant_response\n",
    "    \n",
    "    def send_with_image(self, prompt, image_path = None, image_bytes = None):\n",
    "        if image_bytes:\n",
    "            image_b64 = base64.b64encode(image_bytes).decode('utf-8')\n",
    "        elif image_path:\n",
    "            with open(image_path, 'rb') as f:\n",
    "                image_b64 = base64.b64encode(f.read()).decode('utf-8')\n",
    "        else:\n",
    "            raise ValueError(\"Provide either image_path or image_bytes\")\n",
    "        \n",
    "        self.chat_history.append({\n",
    "            \"role\": \"user\",\n",
    "            \"content\": prompt,\n",
    "            \"images\": [image_b64]\n",
    "        })\n",
    "        \n",
    "        payload = {\n",
    "            \"model\": self.model,\n",
    "            \"messages\": self.chat_history,\n",
    "            \"stream\": False\n",
    "        }\n",
    "        \n",
    "        response = requests.post(self.url, json=payload)\n",
    "        if response.status_code != 200:\n",
    "            raise Exception(f\"Error {response.status_code}: {response.text}\")\n",
    "        \n",
    "        assistant_response = response.json()[\"message\"][\"content\"]\n",
    "        self.chat_history.append({\"role\": \"assistant\", \"content\": assistant_response})\n",
    "        return assistant_response"
   ]
  },
  {
   "cell_type": "code",
   "execution_count": null,
   "id": "a833a9c1",
   "metadata": {},
   "outputs": [],
   "source": [
    "def pil_image_to_base64(pil_image): # convert PIL image to base64\n",
    "    buffered = io.BytesIO()\n",
    "    pil_image.save(buffered, format = \"PNG\")\n",
    "    return base64.b64encode(buffered.getvalue()).decode(\"utf-8\")"
   ]
  },
  {
   "cell_type": "markdown",
   "id": "ed70257f",
   "metadata": {},
   "source": [
    "_System prompt & model initialization for image processing._"
   ]
  },
  {
   "cell_type": "code",
   "execution_count": null,
   "id": "1e4a6449",
   "metadata": {},
   "outputs": [],
   "source": [
    "# vlm_model_name = \"gemma3:12b-it-q4_K_M\" # good accuracy, but slow\n",
    "vlm_model_name = \"gemma3:4b-it-qat\" # moderate accuracy, but faster\n",
    "vlm_sys_prompt = \"\"\"\n",
    "    You are an expert image analyzer with capabilities in visual interpretation, OCR, and technical documentation. \n",
    "\n",
    "    When analyzing images:\n",
    "    - Extract and transcribe ALL visible text, labels, numbers, and annotations exactly as shown\n",
    "    - Identify the image type (photograph, diagram, chart, screenshot, technical drawing, etc.)\n",
    "    - Describe visual elements systematically from top to bottom, left to right\n",
    "    - For technical content: explain diagrams, formulas, code, data visualizations, and their relationships\n",
    "    - For general content: describe subjects, composition, colors, context, and notable details\n",
    "    - Maintain accuracy - if something is unclear, state \"unclear\" rather than guessing\n",
    "    - Use structured formatting (headings, lists) for complex images to improve readability\n",
    "\n",
    "    Be comprehensive yet concise. Your goal is to make the image content accessible and understandable through text alone.\n",
    "\"\"\"\n",
    "vlm_model = ImageDescriber(vlm_model_name, vlm_sys_prompt)"
   ]
  },
  {
   "cell_type": "markdown",
   "id": "4419acac",
   "metadata": {},
   "source": [
    "_Python class to describe table data._"
   ]
  },
  {
   "cell_type": "code",
   "execution_count": null,
   "id": "4962c21c",
   "metadata": {},
   "outputs": [],
   "source": [
    "load_dotenv()\n",
    "client = Groq(\n",
    "    api_key = os.getenv(\"GROQ_API_KEY\")\n",
    ")"
   ]
  },
  {
   "cell_type": "code",
   "execution_count": null,
   "id": "f84dc038",
   "metadata": {},
   "outputs": [],
   "source": [
    "def table_describe_llm(llm_sys_prompt, prompt_for_llm_model):\n",
    "    completion = client.chat.completions.create(\n",
    "        model=\"openai/gpt-oss-120b\",\n",
    "        messages = [\n",
    "            {\"role\": \"system\", \"content\": llm_sys_prompt},\n",
    "            {\"role\": \"user\", \"content\": prompt_for_llm_model}\n",
    "        ],\n",
    "        temperature = 1,\n",
    "        max_completion_tokens = 8192,\n",
    "        top_p = 1,\n",
    "        reasoning_effort = \"medium\",\n",
    "    )\n",
    "\n",
    "    return completion.choices[0].message.content"
   ]
  },
  {
   "cell_type": "markdown",
   "id": "5a9d973b",
   "metadata": {},
   "source": [
    "_Python function to extract text / image / table information sequencially._"
   ]
  },
  {
   "cell_type": "code",
   "execution_count": null,
   "id": "ced75f0a",
   "metadata": {},
   "outputs": [],
   "source": [
    "def extract_multimodal_data(pdf_path):\n",
    "\n",
    "    pdf_file = Path(pdf_path)\n",
    "    if not pdf_file.is_file() or pdf_file.suffix.lower() != \".pdf\":\n",
    "        raise FileNotFoundError(\"Provided file path is not a valid PDF.\")\n",
    "    \n",
    "    os.makedirs(\"images\", exist_ok = True) # make dir for images\n",
    "\n",
    "    doc = fitz.open(str(pdf_file))\n",
    "    result = []\n",
    "\n",
    "    # text extraction\n",
    "    for page_num, page in enumerate(doc, start = 1):\n",
    "        page_blocks = []\n",
    "\n",
    "        blocks = page.get_text(\"dict\")[\"blocks\"]\n",
    "        for block in blocks:\n",
    "            if block[\"type\"] == 0: # type 0 is text\n",
    "                text_content = \" \".join(\n",
    "                    span[\"text\"] for line in block[\"lines\"] for span in line[\"spans\"]\n",
    "                ).strip()\n",
    "                if text_content:\n",
    "                    y = block[\"bbox\"][1] # top coordinate\n",
    "                    page_blocks.append({\n",
    "                        \"type\": \"TEXT DATA\",\n",
    "                        \"page\": page_num,\n",
    "                        \"y\": y,\n",
    "                        \"content\": text_content\n",
    "                    })\n",
    "        print(f\"Text from page {page_num} extracted.\")\n",
    "\n",
    "        # table extraction    \n",
    "        try:\n",
    "            with pdfplumber.open(str(pdf_file)) as pdf:\n",
    "                pdf_page = pdf.pages[page_num - 1]\n",
    "                table_objects = pdf_page.find_tables()\n",
    "        except Exception as e:\n",
    "            print(f\"Failed to read tables on page {page_num}: {e}\")\n",
    "            table_objects = []\n",
    "\n",
    "        for table_obj in table_objects:\n",
    "            if table_obj:\n",
    "                bbox = table_obj.bbox  \n",
    "                y = bbox[1]  \n",
    "                \n",
    "                table_data = table_obj.extract()\n",
    "\n",
    "                llm_sys_prompt = \"\"\"You are a technical table analysis expert. When given table data in list format:\n",
    "\n",
    "                    1. Identify and clearly state the table headers\n",
    "                    2. Analyze each row systematically, explaining the relationships between columns\n",
    "                    3. Extract key comparisons, advantages, and disadvantages\n",
    "                    4. Summarize the overall purpose and insights from the table\n",
    "                    5. Highlight patterns, trends, or notable information\n",
    "                    6. Use clear formatting with headers and bullet points for readability\n",
    "\n",
    "                    Provide comprehensive yet organized analysis that makes the table's content immediately understandable.\n",
    "                \"\"\"\n",
    "\n",
    "                prompt_for_llm_model = f\"\"\"Analyze this table data and provide a detailed description:\n",
    "\n",
    "                    Table Data:\n",
    "                    {table_data}\n",
    "\n",
    "                    Please provide:\n",
    "                    1. Table title/purpose (infer from content)\n",
    "                    2. Column headers and their meanings\n",
    "                    3. Detailed analysis of each row\n",
    "                    4. Key comparisons and insights\n",
    "                    5. Summary of main findings\n",
    "\n",
    "                    Format your response clearly with sections and bullet points. Keep it minimal.\n",
    "                \"\"\"\n",
    "                \n",
    "                table_desc = table_describe_llm(llm_sys_prompt, prompt_for_llm_model)\n",
    "                page_blocks.append({\n",
    "                    \"type\": \"TABLE DATA\",\n",
    "                    \"page\": page_num,\n",
    "                    \"y\": y,\n",
    "                    \"content\": table_desc\n",
    "                })\n",
    "        print(f\"Description for table from page {page_num} retrieved.\")\n",
    "        \n",
    "        # image extraction only for first 30 pages   \n",
    "        if page_num <= 30:   \n",
    "            image_list = page.get_images(full = True)             \n",
    "            for img_index, img in enumerate(image_list):\n",
    "                xref = img[0]\n",
    "                base_image = doc.extract_image(xref)\n",
    "                image_bytes = base_image[\"image\"]\n",
    "                \n",
    "                img_rects = page.get_image_rects(xref)\n",
    "                y = img_rects[0].y0 if img_rects else 0\n",
    "                \n",
    "                page_text = page.get_text().strip()\n",
    "                prompt_for_vlm_model = f\"\"\"\n",
    "                    This is an image taken from a technical document. \n",
    "                    Unless it is a blank image or a logo or only text in the image,\n",
    "                    analyze this image thoroughly. Identify and transcribe:\n",
    "                        - All text, labels, and annotations\n",
    "                        - Technical diagrams, charts, or graphs\n",
    "                        - Data values, measurements, or statistics\n",
    "                        - Structural elements and their relationships\n",
    "                        - Any equations, formulas, or code\n",
    "                    Explain the purpose and context of what's shown.\n",
    "                    You may use the surrounding textual information taken from the \n",
    "                    same page as the image to get more accurate insights: {page_text}.\n",
    "                    Keep your description minimal.\"\n",
    "                \"\"\"\n",
    "                image_desc = vlm_model.send(prompt_for_vlm_model, image_bytes = image_bytes)\n",
    "                page_blocks.append({\n",
    "                    \"type\": \"IMAGE DATA\",\n",
    "                    \"page\": page_num,\n",
    "                    \"y\": y,\n",
    "                    \"content\": image_desc\n",
    "                })\n",
    "            print(f\"Description for image from page {page_num} retrieved.\")\n",
    "\n",
    "        page_blocks.sort(key = lambda b: b[\"y\"])\n",
    "        result.extend(page_blocks)\n",
    "\n",
    "    return result"
   ]
  },
  {
   "cell_type": "markdown",
   "id": "f6ca3396",
   "metadata": {},
   "source": [
    "__Note:__ In the prompt for the VLM for image processing (`prompt_for_vlm_model`), it can be seen that we provide the entire text from the page from where the image is extracted as context as well. This is because most of the times, the surrounding text, usually the text beneath the image, can be a good describer of the image in hand. This way, the VLM can be more accurate in describing the image that is given."
   ]
  },
  {
   "cell_type": "code",
   "execution_count": null,
   "id": "cdb583d4",
   "metadata": {},
   "outputs": [],
   "source": [
    "start = time.time()\n",
    "data_array = extract_multimodal_data(r\"final.pdf\") # final.pdf is all the 11 pdf's combined into one\n",
    "end = time.time()"
   ]
  },
  {
   "cell_type": "code",
   "execution_count": null,
   "id": "28dd6ea3",
   "metadata": {},
   "outputs": [],
   "source": [
    "print(f\"Time taken to process document: {(end - start) / 60 / 60:.2f} hours\")\n",
    "print(f\"Number of elements extracted: {len(data_array)}\")"
   ]
  },
  {
   "cell_type": "markdown",
   "id": "762ac64b",
   "metadata": {},
   "source": [
    "It must be noted that the prmary reason for such latency is due to the VLM being inferenced locally. Processing a single image takes around 40 seconds in my testing.<br><br>\n",
    "This issue can be reduced in 2 ways:\n",
    "1. By using a cloud based VLM. Example, `gpt-4o-mini` from OpenAI\n",
    "2. Introcuding concurrency / parallel processing"
   ]
  },
  {
   "cell_type": "markdown",
   "id": "1e10cf20",
   "metadata": {},
   "source": [
    "_Saving the data array locally._"
   ]
  },
  {
   "cell_type": "code",
   "execution_count": null,
   "id": "8e6bf52f",
   "metadata": {},
   "outputs": [],
   "source": [
    "with open(\"data_array\", \"wb\") as fp:   \n",
    "    pickle.dump(data_array, fp)"
   ]
  },
  {
   "cell_type": "markdown",
   "id": "077b5c99",
   "metadata": {},
   "source": [
    ">##### RAG Setup"
   ]
  },
  {
   "cell_type": "markdown",
   "id": "1dcd1a7b",
   "metadata": {},
   "source": [
    "_Loading the data array._"
   ]
  },
  {
   "cell_type": "code",
   "execution_count": 32,
   "id": "9dd3d278",
   "metadata": {},
   "outputs": [
    {
     "name": "stdout",
     "output_type": "stream",
     "text": [
      "Element count: 2244\n"
     ]
    }
   ],
   "source": [
    "with open(\"data_array\", \"rb\") as fp:   \n",
    "    data_array = pickle.load(fp)\n",
    "print(f\"Element count: {len(data_array)}\")"
   ]
  },
  {
   "cell_type": "markdown",
   "id": "237ab4db",
   "metadata": {},
   "source": [
    "Now we make chunks. The strategy used here is overlap chunking. My plan is to have chunks of size 20 with an overlap of 10. This can be edited later."
   ]
  },
  {
   "cell_type": "code",
   "execution_count": 33,
   "id": "2f825058",
   "metadata": {},
   "outputs": [],
   "source": [
    "def make_chunks(data_array, size, overlap):\n",
    "    chunks = []\n",
    "    step = size - overlap\n",
    "\n",
    "    for i in range(0, len(data_array), step):\n",
    "        chunk = data_array[i : i + size]\n",
    "        chunks.append(chunk)\n",
    "    return chunks"
   ]
  },
  {
   "cell_type": "code",
   "execution_count": 34,
   "id": "e16484a2",
   "metadata": {},
   "outputs": [
    {
     "name": "stdout",
     "output_type": "stream",
     "text": [
      "Overlap works!\n"
     ]
    }
   ],
   "source": [
    "size = 10\n",
    "overlap = 5\n",
    "\n",
    "chunks = make_chunks(data_array, size, overlap)\n",
    "if chunks[0][overlap] == chunks[1][0]: # checking if the overlap strategy worked\n",
    "    print(\"Overlap works!\")\n",
    "else:\n",
    "    print(\"Overlap strategy not implemented correctly.\")"
   ]
  },
  {
   "cell_type": "code",
   "execution_count": 35,
   "id": "712e9133",
   "metadata": {},
   "outputs": [
    {
     "name": "stdout",
     "output_type": "stream",
     "text": [
      "Number of chunks: 449\n"
     ]
    }
   ],
   "source": [
    "print(f\"Number of chunks: {len(chunks)}\")"
   ]
  },
  {
   "cell_type": "markdown",
   "id": "b0e8225d",
   "metadata": {},
   "source": [
    "_Converting chunks to embeddings._"
   ]
  },
  {
   "cell_type": "code",
   "execution_count": 36,
   "id": "3aa9e23e",
   "metadata": {},
   "outputs": [],
   "source": [
    "embedding_model = SentenceTransformer('sentence-transformers/all-mpnet-base-v2')"
   ]
  },
  {
   "cell_type": "code",
   "execution_count": 37,
   "id": "834bf8b6",
   "metadata": {},
   "outputs": [],
   "source": [
    "def get_embedding_vecs(chunks, embedding_model):\n",
    "    embeddings = []\n",
    "    for chunk in chunks:\n",
    "        chunk = str(chunk)\n",
    "        embedding = embedding_model.encode(chunk).reshape(1, -1)\n",
    "        embeddings.append(embedding)\n",
    "    return embeddings"
   ]
  },
  {
   "cell_type": "code",
   "execution_count": 38,
   "id": "432d9283",
   "metadata": {},
   "outputs": [],
   "source": [
    "embedding_vecs = get_embedding_vecs(chunks, embedding_model)\n",
    "embedding_array = np.array(embedding_vecs).astype('float32')\n",
    "embedding_array = embedding_array.squeeze(1) "
   ]
  },
  {
   "cell_type": "code",
   "execution_count": 39,
   "id": "d38d902b",
   "metadata": {},
   "outputs": [],
   "source": [
    "dimension = embedding_array.shape[1]  \n",
    "faiss.normalize_L2(embedding_array)\n",
    "index = faiss.IndexFlatIP(dimension)  # cosine based indexing\n",
    "index.add(embedding_array)"
   ]
  },
  {
   "cell_type": "markdown",
   "id": "c34dbc74",
   "metadata": {},
   "source": [
    "_Store metadata._"
   ]
  },
  {
   "cell_type": "code",
   "execution_count": 40,
   "id": "45b41572",
   "metadata": {},
   "outputs": [],
   "source": [
    "chunk_id_to_text = {i: chunk for i, chunk in enumerate(chunks)}"
   ]
  },
  {
   "cell_type": "markdown",
   "id": "57e26601",
   "metadata": {},
   "source": [
    "_Get the user query and pass the it into the same embedding model._"
   ]
  },
  {
   "cell_type": "code",
   "execution_count": 41,
   "id": "8dfa9414",
   "metadata": {},
   "outputs": [],
   "source": [
    "def get_query_embedding(data, embedding_model):\n",
    "    return embedding_model.encode(data).reshape(1, -1)"
   ]
  },
  {
   "cell_type": "code",
   "execution_count": 42,
   "id": "610b0aa3",
   "metadata": {},
   "outputs": [],
   "source": [
    "QUERY = \"Tell me about kice cyclone parts.\"\n",
    "query_embedding = get_query_embedding(QUERY, embedding_model)\n",
    "query_vec = np.array(query_embedding).astype('float32')\n",
    "faiss.normalize_L2(query_vec) # normalize vector for cosine"
   ]
  },
  {
   "cell_type": "markdown",
   "id": "73b0667c",
   "metadata": {},
   "source": [
    "_Calculate cosine similarity between user query and all the embedding vectors, get top-k indices & return the final context_"
   ]
  },
  {
   "cell_type": "code",
   "execution_count": 58,
   "id": "f91645c1",
   "metadata": {},
   "outputs": [],
   "source": [
    "def get_final_context(id_to_text_dict, vector_index, k = 10):\n",
    "    _, indices = vector_index.search(query_vec, k)\n",
    "\n",
    "    # retrieve the actual chunks\n",
    "    results = [id_to_text_dict[i] for i in indices[0]]\n",
    "    return results"
   ]
  },
  {
   "cell_type": "code",
   "execution_count": 64,
   "id": "715f6b03",
   "metadata": {},
   "outputs": [
    {
     "name": "stdout",
     "output_type": "stream",
     "text": [
      "[[{'type': 'TEXT DATA', 'page': 66, 'y': 754.7430419921875, 'content': '4 K ice  I ndustries , I nc .'}, {'type': 'TEXT DATA', 'page': 67, 'y': 32.520328521728516, 'content': 'G eneral  I nformation  C ontinued'}, {'type': 'TEXT DATA', 'page': 67, 'y': 68.52032470703125, 'content': 'M odel   and  S erial  N umber The Kice Cyclone model and serial number can be found stamped on the metal identification plate located  near the horizontal inlet of the Cyclone (just behind the air inlet flange).'}, {'type': 'TEXT DATA', 'page': 67, 'y': 276.142578125, 'content': 'Identification Plate Examples'}, {'type': 'TEXT DATA', 'page': 67, 'y': 302.5926818847656, 'content': 'K ice  C yclone  P arts   and  S ervices'}, {'type': 'TEXT DATA', 'page': 67, 'y': 331.34259033203125, 'content': 'Use original Kice Cyclone replacement parts only.  These parts are available from Kice Industries, Inc.  To  obtain prompt, efficient service, always provide the following information when ordering parts:'}, {'type': 'TEXT DATA', 'page': 67, 'y': 370.9425964355469, 'content': '1.\\t Correct model number 2.\\t Correct serial number'}, {'type': 'TEXT DATA', 'page': 67, 'y': 410.5426025390625, 'content': 'For assistance in service or ordering parts, contact the customer service department at Kice Industries,  Inc., 5500 Mill Heights Drive, Wichita, KS 67219-2358, Phone 316-744-7151, and Fax 316-744-7355.'}, {'type': 'TEXT DATA', 'page': 67, 'y': 450.0106201171875, 'content': 'IMPORTANT:  Any unauthorized modification, alteration, or use of non-approved attachments voids the  warranty and releases Kice Industries, Inc., from any liability arising from subsequent use of the equipment.  Each type of Cyclone is designed to be used with a specific type and quantity of material.  Using the  Cyclone for any purpose other than that for which it was designed could result in reduced aspiration  performance or personal injury, as well as, product or property damage.'}, {'type': 'TEXT DATA', 'page': 67, 'y': 529.392578125, 'content': 'F or  M otor   and  S peed  R educer  P arts   and  S ervice'}], [{'type': 'TEXT DATA', 'page': 70, 'y': 97.27030181884766, 'content': 'Kice Industries, Inc. has prepared your new Cyclone for shipment in accordance with the Uniform Freight  Classification.  It has been thoroughly inspected at the factory and, barring damage in transit, should be in  excellent condition upon arrival. \\t The Kice Cyclone and accessory equipment should be inspected upon receipt for any shipping damage.  If  dampers or shutters are provided, check these accessories for free operation of all moving parts. \\t When a carrier signs the Kice Industries, Inc., bill of lading, the  carrier accepts the responsibility  for  any subsequent shortages or damage, evident or concealed, and  any claim must be made against the  carrier by the purchaser .  Evident shortage or  damage should be noted on the carrier’s delivery  document  before signature of acceptance.  Inspection by the carrier of damage, evident or concealed,  must be requested.  After inspection, issue a purchase order for necessary parts or arrange for return of  the equipment to Kice Industries, Inc., for repair.'}, {'type': 'TEXT DATA', 'page': 70, 'y': 282.12030029296875, 'content': 'C yclone  H andling   and  S torage'}, {'type': 'TEXT DATA', 'page': 70, 'y': 310.87030029296875, 'content': 'Kice cyclones are shipped completely assembled and skidded when size permits.  These units may be  handled and moved using good rigging techniques, being careful to avoid concentrated stresses that will  distort any of the parts.  Items or parts of the cyclones that are shipped separately (knocked down) will be  clearly labeled for reassembly.'}, {'type': 'TEXT DATA', 'page': 70, 'y': 376.8703308105469, 'content': 'If the cyclone is not to be installed promptly, store it in a clean, dry location to prevent rust and corrosion  of steel components.  If outdoor storage is necessary, protection should be provided.  Cover the inlets  and outlets to prevent the accumulation of dirt and moisture inside the housing.  Refer to the cyclone  maintenance section of this manual regarding any further storage instructions.'}, {'type': 'TEXT DATA', 'page': 70, 'y': 754.7430419921875, 'content': '8 K ice  I ndustries , I nc .'}, {'type': 'TEXT DATA', 'page': 71, 'y': 32.520328521728516, 'content': 'C yclone  I nformation   and  O perating  I nstructions  C ontinued'}, {'type': 'TEXT DATA', 'page': 71, 'y': 68.52032470703125, 'content': 'C yclone  I nstallation'}, {'type': 'TEXT DATA', 'page': 71, 'y': 97.27030181884766, 'content': 'To ensure appropriate cyclone operation, the unit must be adequately supported and properly installed.'}, {'type': 'TEXT DATA', 'page': 71, 'y': 123.538330078125, 'content': 'After unpacking and inspection has been completed, install the Cyclone with the following  guidelines:'}, {'type': 'TEXT DATA', 'page': 71, 'y': 214.35130310058594, 'content': 'Lifting Lugs'}], [{'type': 'TEXT DATA', 'page': 71, 'y': 242.34629821777344, 'content': 'Mounting Points'}, {'type': 'TEXT DATA', 'page': 71, 'y': 340.7082824707031, 'content': 'The Cyclone has locations where the equipment necessary for lifting the device can be attached.  These  will be the lifting lugs and/or the frame mounts of the cyclone where it will be attached to a support structure  (see figure above).'}, {'type': 'TEXT DATA', 'page': 71, 'y': 393.50830078125, 'content': 'Lifting the cyclone at any other point is hazardous and may compromise human safety as well as the  structural integrity of cyclone itself.'}, {'type': 'TEXT DATA', 'page': 71, 'y': 433.1083068847656, 'content': 'The cyclone must be lifted by a means with sufficient lifting capacity.'}, {'type': 'TEXT DATA', 'page': 71, 'y': 459.3763122558594, 'content': 'CAUTION:  Use the proper equipment when lifting or moving the Cyclone.  Make sure all persons and  obstructions are clear from path and installation area.'}, {'type': 'TEXT DATA', 'page': 71, 'y': 499.1083068847656, 'content': 'Kice Cyclones may be supported in two different ways.  Smaller cyclones may be designed to be supported  by the duct work or machinery connected to them, but most are designed with frame mounts in order to be  supported by an additional structure or framework (see figure above).  The unit should only be mounted  on a structure designed to support it.  The cyclone must be separately grounded, and installed on steel  construction intended for this purpose.  Product inlet or outlet transitions are not designed to support the  weight of accessory equipment such as an airlock valve.  If the unit is installed outdoors, cross bracing from  the angle iron frame may be required for wind loading connections.  The Cyclone should be installed in a  level position, to prevent material from flowing to one side of the unit, thereby ensuring proper and efficient  operation.  Remove all foreign material before fully enclosing and operating the cyclone.'}, {'type': 'TEXT DATA', 'page': 71, 'y': 631.1083374023438, 'content': 'Place a bead of caulking (or any provided gasket material) to seal the inlet and outlet points of the cyclone  during installation.'}, {'type': 'TEXT DATA', 'page': 71, 'y': 670.7083129882812, 'content': 'Proper installation of the cyclone also includes assembling the duct work and required machinery to  the cyclone, fully enclosing it for quality operation.  The unit should only be operated once it is properly  connected and fully encapsulated.  All duct work or stacks should be independently supported as excess  weight may distort the cyclone assembly, causing improper airflow which may affect the efficiency of the  unit, and all subsequent points in the system.'}, {'type': 'TEXT DATA', 'page': 71, 'y': 754.742919921875, 'content': '9 K ice  I ndustries , I nc .'}, {'type': 'TEXT DATA', 'page': 72, 'y': 32.520328521728516, 'content': 'C yclone  I nformation   and  O perating  I nstructions  C ontinued'}], [{'type': 'TEXT DATA', 'page': 64, 'y': 200.9424285888672, 'content': 'This owner’s manual is intended as a guide for the proper installation, operation and maintenance to keep  your Kice Cyclone operating safely and efficiently on the job.  Service information is also included for your  benefit.'}, {'type': 'TEXT DATA', 'page': 64, 'y': 253.7424774169922, 'content': 'Sincerely,'}, {'type': 'TEXT DATA', 'page': 64, 'y': 293.34246826171875, 'content': 'Drew Kice, President Kice Industries, Inc.'}, {'type': 'TEXT DATA', 'page': 64, 'y': 332.9923095703125, 'content': 'W arranty'}, {'type': 'TEXT DATA', 'page': 64, 'y': 361.7422790527344, 'content': 'Limited Warranty and Limitations of Warranty: Kice warrants the equipment manufactured by Kice to be  free of defects in material and workmanship for a period of one (1) year from the date of shipment.  Kice  agrees to repair or replace, at its discretion, any parts found to be defective in the opinion of Kice.  Kice  is not liable for any costs in connection with the removal, shipment or reinstallation of said parts.  This  warranty does not apply to abrasion, corrosion, erosion, abuse or misuse of the product.  Assistance by  Kice in system layout or selecting equipment does not imply Kice’s responsibility.  Buyer agrees to look to  the warranty, if any, of the manufacturer or supplier of products manufactured by others and supplied by  Kice for any alleged defects in such products and for any damages or injuries caused thereby or as a result  thereof.  Where work is made to measurements or specifications furnished by the Buyer, Kice does not  assume any responsibility for the accuracy of Buyer’s specifications.  Kice will not assume responsibility for  alteration or repairs unless the same are made with the written consent and approval of Kice.'}, {'type': 'TEXT DATA', 'page': 64, 'y': 520.0103759765625, 'content': 'BUYER SHALL BE RESPONSIBLE FOR COMPLIANCE WITH ELECTRICAL MANUFACTURER’S  RECOMMENDATIONS, UNDERWRITERS CODE AND ALL SAFETY PRECAUTIONS.'}, {'type': 'TEXT DATA', 'page': 64, 'y': 559.742431640625, 'content': 'Kice extends no other warranty for any of its products other than the above express warranty, and there  are no other warranties, express or implied, including warranties of merchantability, fitness for a particular  purpose or otherwise which extend beyond the above limited express warranty.  Kice and its dealers shall  not in any event be liable for consequential or incidental damages, and this agreement provides buyer’s  sole and exclusive remedy.  Any actions for breach of this agreement or warranty must be commenced  within one year after the cause of action has occurred.'}, {'type': 'TEXT DATA', 'page': 64, 'y': 754.7430419921875, 'content': '2 K ice  I ndustries , I nc .'}, {'type': 'TEXT DATA', 'page': 65, 'y': 30.996490478515625, 'content': 'T able   of  C ontents'}, {'type': 'TEXT DATA', 'page': 65, 'y': 60.288516998291016, 'content': 'I ntroduction ......................................................................................................................................\\x082'}], [{'type': 'TEXT DATA', 'page': 66, 'y': 30.996490478515625, 'content': '1. G eneral  I nformation'}, {'type': 'TEXT DATA', 'page': 66, 'y': 68.52032470703125, 'content': 'T o   the  N ew  O wner \\t The purpose of this manual is to assist owners and operators in maintaining and operating Kice Cyclone  systems.  Please read it carefully; information and instructions furnished can help you achieve years  of dependable performance.  Separate manuals are included for auxiliary equipment, such as airlock  valves, fans, cyclones and filters.  They contain additional information that may not be repeated in this  manual.  You are urged to read all manuals before attempting any operation or repair of the equipment  in the system.  If these manuals are not included in your owner’s packet, contact our customer service  department.  \\t Along with high efficiency separation of particles, some fringe benefits are often obtained which add to the  desirability of the Kice Cyclones.  These benefits include:'}, {'type': 'TEXT DATA', 'page': 66, 'y': 241.2704315185547, 'content': '1.\\t Cooling of material, depending on particle size and temperature differential of air and stock. 2.\\t Conveying of the liftings to the desired destination by the same air that lifts the fines from the stock 3.\\t Virtually no operator or maintenance attention is required because of the simplicity of the unit.  Once  the air volume is adjusted to lift the desired particles, the unit will consistently remove the majority of  these particles that are present in the incoming product.'}, {'type': 'TEXT DATA', 'page': 66, 'y': 320.470458984375, 'content': 'General operation, adjustment and maintenance guidelines are outlined for owners and operators of  Kice Cyclones.  Operating conditions vary considerably and cannot be addressed individually.  Through  experience, however, operators should have no difficulty in developing good operating, safety and  monitoring skills. \\t The term “disconnect and lockout” as used in this manual means that power to the equipment has been  disconnected through the use of a padlock, manual, power cutoff, or power lockout switch. \\t Directions used in this manual, for example RIGHT or LEFT, CLOCKWISE or COUNTERCLOCKWISE,  refer to directions when facing the front (air inlet) side of the Cyclone or looking down in plan view.'}, {'type': 'TEXT DATA', 'page': 66, 'y': 465.6705627441406, 'content': 'Photographs and illustrations were current at the time of printing, but subsequent production revisions  may cause your Cyclone to vary slightly in detail.  Kice Industries, Inc., reserves the right to redesign and  change the equipment as deemed necessary, without notification.  If a change has been made to your Kice  Cyclone that is not reflected in this owner’s manual, please write or call Kice Industries, Inc., for current  parts and information.'}, {'type': 'TEXT DATA', 'page': 66, 'y': 754.7430419921875, 'content': '4 K ice  I ndustries , I nc .'}, {'type': 'TEXT DATA', 'page': 67, 'y': 32.520328521728516, 'content': 'G eneral  I nformation  C ontinued'}, {'type': 'TEXT DATA', 'page': 67, 'y': 68.52032470703125, 'content': 'M odel   and  S erial  N umber The Kice Cyclone model and serial number can be found stamped on the metal identification plate located  near the horizontal inlet of the Cyclone (just behind the air inlet flange).'}, {'type': 'TEXT DATA', 'page': 67, 'y': 276.142578125, 'content': 'Identification Plate Examples'}, {'type': 'TEXT DATA', 'page': 67, 'y': 302.5926818847656, 'content': 'K ice  C yclone  P arts   and  S ervices'}], [{'type': 'TEXT DATA', 'page': 73, 'y': 404.6282958984375, 'content': '4. S tart -U p  P rocedure 1.\\t Insure that all personnel are clear of any moving pieces of equipment. 2.\\t Start the motors on the Cyclone accessory equipment, such as fans, filters and airlock valves.  3.\\t Start any conveying equipment mounted beneath the discharge of the Cyclone. 4.\\t Start the material feeding into the system. 5.\\t Begin opening the fan damper until excessive material (that has a higher terminal velocity than the  material slated to be removed) is detected in the output stream.  The determination of what material  is to be removed will be made by the system operator. 6.\\t Slightly decrease the airflow by slowly closing the fan damper and lock the damper in place at the  optimum setting.'}, {'type': 'TEXT DATA', 'page': 73, 'y': 558.228271484375, 'content': '5. C yclone  M aintenance There are no moving parts in the Kice Cyclone to wear out or malfunction, so no lubrication or periodic  servicing is required.  Kice Cyclones are designed and built in a manner such that all wall thicknesses  are sufficient to the point that danger due to wear and tear can be excluded.  However, elbows, fans and  separators in the system are subject to the normal wear expected in any system handling comparable  stocks, so equipment must be examined regularly for signs of wear and damage.  Painted surfaces must  be cleaned by means of vacuuming and with an anti-static cloth.  If heavy machine components must be  dismantled to carry out service and maintenance activities, suitable lifting equipment must be used.  Use  the proper hardware torque values listed at the end of this manual for all maintenance and installation  activity.'}, {'type': 'TEXT DATA', 'page': 73, 'y': 754.742919921875, 'content': '11 K ice  I ndustries , I nc .'}, {'type': 'TEXT DATA', 'page': 74, 'y': 32.520328521728516, 'content': '5. C yclone  M aintenance  C ontinued'}, {'type': 'TEXT DATA', 'page': 74, 'y': 68.94229888916016, 'content': '1.\\t The cyclone inlet, barrel and cone for signs of wear and damage. 2.\\t The cyclone door & connections (if equipped) for a proper seal. 3.\\t The proper function of the rotary airlock valve attached to the cyclone, to verify that material is  adequately removed to maintain cyclone efficiency.  The airlock may need to be inspected for signs  of wear (see rotary airlock manual). 4.\\t Material buildup inside the cyclone which may affect function and efficiency.'}, {'type': 'TEXT DATA', 'page': 74, 'y': 161.34239196777344, 'content': 'Painted surfaces must be cleaned by means of vacuuming and with an anti-static cloth.   As a means to verify or troubleshoot cyclone efficiency, air volume can be measured and checked against  the air system specifications as well.'}, {'type': 'TEXT DATA', 'page': 74, 'y': 214.14244079589844, 'content': 'If heavy machine components must be dismantled to carry out service and maintenance activities, suitable  lifting equipment must be used.  Use the proper hardware torque values listed at the end of this manual for  all maintenance and installation activity.'}, {'type': 'TEXT DATA', 'page': 74, 'y': 268.30029296875, 'content': '6. S pecial  ATEX I nformation'}, {'type': 'TEXT DATA', 'page': 74, 'y': 301.7422790527344, 'content': 'The Cyclone is intended for use in areas in which explosive atmospheres caused by air/dusts mixtures are  unlikely to occur or, if they do occur, are likely to do so only infrequently and for a short period only.'}, {'type': 'TEXT DATA', 'page': 74, 'y': 341.4302978515625, 'content': 'When installing any electric or non-electric equipment on the cyclone, be sure that all those components  are suitable for being operated in zone 22, meaning they must fulfill the ATEX-requirements for Group II  category 3D equipment.'}], [{'type': 'TEXT DATA', 'page': 63, 'y': 758.3043823242188, 'content': 'II 3 D c'}, {'type': 'TEXT DATA', 'page': 64, 'y': 30.996490478515625, 'content': 'I ntroduction'}, {'type': 'TEXT DATA', 'page': 64, 'y': 68.94229888916016, 'content': 'When you purchased your Kice Cyclone, you obtained a high efficiency product cleaner of a proven design  based on thousands of installations and years of proven reliability and operation.'}, {'type': 'TEXT DATA', 'page': 64, 'y': 108.5423355102539, 'content': 'We’re proud of our products and the people at Kice Industries who craft them.  At Kice, we use high  manufacturing standards and processes to produce the highest quality products, which have been a  trademark of our organization for over 60 years.'}, {'type': 'TEXT DATA', 'page': 64, 'y': 161.34239196777344, 'content': 'Our product development work, driven by the requirements of our customers, has resulted in the present  designs of the Kice Cyclones.'}, {'type': 'TEXT DATA', 'page': 64, 'y': 200.9424285888672, 'content': 'This owner’s manual is intended as a guide for the proper installation, operation and maintenance to keep  your Kice Cyclone operating safely and efficiently on the job.  Service information is also included for your  benefit.'}, {'type': 'TEXT DATA', 'page': 64, 'y': 253.7424774169922, 'content': 'Sincerely,'}, {'type': 'TEXT DATA', 'page': 64, 'y': 293.34246826171875, 'content': 'Drew Kice, President Kice Industries, Inc.'}, {'type': 'TEXT DATA', 'page': 64, 'y': 332.9923095703125, 'content': 'W arranty'}, {'type': 'TEXT DATA', 'page': 64, 'y': 361.7422790527344, 'content': 'Limited Warranty and Limitations of Warranty: Kice warrants the equipment manufactured by Kice to be  free of defects in material and workmanship for a period of one (1) year from the date of shipment.  Kice  agrees to repair or replace, at its discretion, any parts found to be defective in the opinion of Kice.  Kice  is not liable for any costs in connection with the removal, shipment or reinstallation of said parts.  This  warranty does not apply to abrasion, corrosion, erosion, abuse or misuse of the product.  Assistance by  Kice in system layout or selecting equipment does not imply Kice’s responsibility.  Buyer agrees to look to  the warranty, if any, of the manufacturer or supplier of products manufactured by others and supplied by  Kice for any alleged defects in such products and for any damages or injuries caused thereby or as a result  thereof.  Where work is made to measurements or specifications furnished by the Buyer, Kice does not  assume any responsibility for the accuracy of Buyer’s specifications.  Kice will not assume responsibility for  alteration or repairs unless the same are made with the written consent and approval of Kice.'}], [{'type': 'TEXT DATA', 'page': 71, 'y': 499.1083068847656, 'content': 'Kice Cyclones may be supported in two different ways.  Smaller cyclones may be designed to be supported  by the duct work or machinery connected to them, but most are designed with frame mounts in order to be  supported by an additional structure or framework (see figure above).  The unit should only be mounted  on a structure designed to support it.  The cyclone must be separately grounded, and installed on steel  construction intended for this purpose.  Product inlet or outlet transitions are not designed to support the  weight of accessory equipment such as an airlock valve.  If the unit is installed outdoors, cross bracing from  the angle iron frame may be required for wind loading connections.  The Cyclone should be installed in a  level position, to prevent material from flowing to one side of the unit, thereby ensuring proper and efficient  operation.  Remove all foreign material before fully enclosing and operating the cyclone.'}, {'type': 'TEXT DATA', 'page': 71, 'y': 631.1083374023438, 'content': 'Place a bead of caulking (or any provided gasket material) to seal the inlet and outlet points of the cyclone  during installation.'}, {'type': 'TEXT DATA', 'page': 71, 'y': 670.7083129882812, 'content': 'Proper installation of the cyclone also includes assembling the duct work and required machinery to  the cyclone, fully enclosing it for quality operation.  The unit should only be operated once it is properly  connected and fully encapsulated.  All duct work or stacks should be independently supported as excess  weight may distort the cyclone assembly, causing improper airflow which may affect the efficiency of the  unit, and all subsequent points in the system.'}, {'type': 'TEXT DATA', 'page': 71, 'y': 754.742919921875, 'content': '9 K ice  I ndustries , I nc .'}, {'type': 'TEXT DATA', 'page': 72, 'y': 32.520328521728516, 'content': 'C yclone  I nformation   and  O perating  I nstructions  C ontinued'}, {'type': 'TEXT DATA', 'page': 72, 'y': 68.94229888916016, 'content': 'NOTE:  To ensure proper operation and optimum cyclone efficiency, inlet and outlet ductwork design is  critical.  The ductwork should have a length of straight section from the inlet and outlet of the cyclone that is  at least five times the diameter of the duct.  If this not possible, elbows in the ductwork should be oriented  in a manner that refrains from countering the air rotation inside the cyclone.  This will help maintain  efficiency.  Some acceptable examples include:'}, {'type': 'TEXT DATA', 'page': 72, 'y': 342.0105895996094, 'content': 'An unacceptable example would include:'}, {'type': 'TEXT DATA', 'page': 72, 'y': 554.7489013671875, 'content': 'Also to ensure proper rotation, verify the cyclone outlet is opposite the inlet on the cyclone body as  shown in the above figures.'}, {'type': 'TEXT DATA', 'page': 72, 'y': 754.7430419921875, 'content': '10 K ice  I ndustries , I nc .'}, {'type': 'TEXT DATA', 'page': 73, 'y': 32.520328521728516, 'content': 'C yclone  I nformation   and  O perating  I nstructions  C ontinued'}], [{'type': 'TEXT DATA', 'page': 74, 'y': 161.34239196777344, 'content': 'Painted surfaces must be cleaned by means of vacuuming and with an anti-static cloth.   As a means to verify or troubleshoot cyclone efficiency, air volume can be measured and checked against  the air system specifications as well.'}, {'type': 'TEXT DATA', 'page': 74, 'y': 214.14244079589844, 'content': 'If heavy machine components must be dismantled to carry out service and maintenance activities, suitable  lifting equipment must be used.  Use the proper hardware torque values listed at the end of this manual for  all maintenance and installation activity.'}, {'type': 'TEXT DATA', 'page': 74, 'y': 268.30029296875, 'content': '6. S pecial  ATEX I nformation'}, {'type': 'TEXT DATA', 'page': 74, 'y': 301.7422790527344, 'content': 'The Cyclone is intended for use in areas in which explosive atmospheres caused by air/dusts mixtures are  unlikely to occur or, if they do occur, are likely to do so only infrequently and for a short period only.'}, {'type': 'TEXT DATA', 'page': 74, 'y': 341.4302978515625, 'content': 'When installing any electric or non-electric equipment on the cyclone, be sure that all those components  are suitable for being operated in zone 22, meaning they must fulfill the ATEX-requirements for Group II  category 3D equipment.'}, {'type': 'TABLE DATA', 'page': 74, 'y': 396.5083, 'content': '**1. Table Title / Purpose (inferred)**  \\n*Guidelines for preventing explosive or hazardous situations during the installation and initial start‑up of a cyclone (dust‑collector) in potentially explosive atmospheres.*\\n\\n---\\n\\n**2. Column Headers & Their Meaning**\\n\\n| Header (as shown) | What it represents |\\n|-------------------|--------------------|\\n| **Potentially dangerous situation during installation and initial start‑up** | The specific hazard or unsafe condition that could arise while the cyclone is being moved, assembled, or first powered. |\\n| **Measures that must be applied by the user during installation and initial start‑up** | Required preventive actions, procedural controls, or equipment specifications that the installer must follow to eliminate or mitigate the listed hazard. |\\n\\n---\\n\\n**3. Detailed Row‑by‑Row Analysis**\\n\\n| # | Hazard (Column\\u202f1) | Required Measure (Column\\u202f2) | Relationship & Explanation |\\n|---|-------------------|-----------------------------|-----------------------------|\\n| **1** | *Sparking in the event of transport accidents.* | • Do **not** drop the cyclone or any of its components during transport.<br>• Dropping can cause personal injury **and** generate sparks that may ignite a surrounding explosive atmosphere. | The measure directly addresses the cause of the hazard (impact → spark). By preventing drops, both injury risk and spark generation are eliminated. |\\n| **2** | *Welding as a source of sparks.* | • Welding is **prohibited** in hazardous zones\\u202f0,\\u202f1, or\\u202f2.<br>• Use **bolted connections** instead of welded joints. | Welding produces high‑energy sparks; in classified explosive zones it is a clear ignition source. Switching to mechanical (bolted) joints removes the ignition source altogether. |\\n| **3** | *Use of non‑explosion‑protected tools when dismantling or assembling the cyclone.* | • Only **explosion‑protected, non‑sparking tools** may be used. | Ordinary tools can create sparks or hot surfaces. Explosion‑protected tools are designed to prevent any spark emission, directly neutralizing the hazard. |\\n| **4** | *Build‑up of electrostatic charges on non‑earthed enclosure parts.* | • Connect an **external grounding wire** to the cyclone during on‑site installation. | Un‑grounded metal surfaces can accumulate static electricity, which may discharge as a spark. Providing a low‑impedance path to ground dissipates charge safely. |\\n\\n---\\n\\n**4. Key Comparisons & Insights**\\n\\n- **Common Theme:** Every listed danger is an **ignition source** (spark, static discharge, hot welding arc) that could trigger an explosion in an explosive atmosphere.\\n- **Preventive Strategy:** The table uniformly recommends **elimination of spark‑generating actions** (no dropping, no welding, use of non‑sparking tools) and **control of electrostatic energy** (grounding).\\n- **Regulatory Alignment:** Measures echo typical ATEX/IECEx requirements for equipment placed in zones\\u202f0‑2—i.e., **intrinsic safety**, **explosion‑proof tools**, and **strict prohibition of open flame or hot work**.\\n- **Risk Hierarchy:**  \\n  1. **Physical impact** (dropping) → immediate spark.  \\n  2. **Hot work** (welding) → continuous spark source.  \\n  3. **Tool selection** → intermittent spark potential.  \\n  4. **Electrostatic buildup** → latent spark that may appear later.  \\n  The table progresses from the most obvious, easily controllable risks to the more subtle, electrically‑based risk.\\n- **Action Simplicity:** All required actions are **procedural** (train staff, use correct tools, attach grounding wire) rather than requiring complex engineering redesign.\\n\\n---\\n\\n**5. Summary of Main Findings**\\n\\n- The table serves as a **quick‑reference safety checklist** for installers of cyclones destined for explosive environments.\\n- It identifies **four primary ignition hazards** that can arise during transport, assembly, and start‑up.\\n- For each hazard, a **single, concrete mitigation** is prescribed, emphasizing **no‑drop handling, prohibition of welding, use of explosion‑protected tools, and mandatory grounding**.\\n- Implementing these measures eliminates the most common sources of ignition, thereby ensuring compliance with hazardous‑area regulations and protecting personnel and equipment.\\n- Overall, the guidance stresses **prevent‑rather‑react** safety: by controlling actions and equipment before any energy is released, the risk of an explosive incident is effectively minimized.'}, {'type': 'TEXT DATA', 'page': 74, 'y': 397.318603515625, 'content': 'Potentially dangerous situation during  installation and initial start up Measures that must be applied by the user  during installation and initial start up Sparking in the event of transport accidents. The cyclone or the components of the cyclone must  not be dropped during transport - not only because  of the risk of personal injury but also due to the risk  of sparks being produced. Welding as a source of sparks. Welding is not permitted in zones 0, 1, or 2. Bolted  connections must be used instead. Use of non-explosion protected tools when  dismantling or assembling the cyclone. Only explosion-protected, non-sparking tools  must be used when dismantling or assembling the  cyclone. Build-up of electrostatic charges at all non-earthed  (non-grounded) enclosure parts During on-site installation, an external grounding  wire must be connected to the cyclone.'}, {'type': 'TEXT DATA', 'page': 74, 'y': 754.7430419921875, 'content': '12 K ice  I ndustries , I nc .'}, {'type': 'TEXT DATA', 'page': 75, 'y': 30.996490478515625, 'content': '7. T orque  V alues   for  M aintenance   and  I nstallation'}, {'type': 'TABLE DATA', 'page': 75, 'y': 79.005, 'content': '**1. Table Title / Purpose**  \\n*Recommended Torque Values for Coarse‑Thread U.S. Bolts (SAE grades 5 & 8 and socket‑head cap screws).*\\n\\nThe chart tells a mechanic or engineer how much tightening force (in\\u202flb‑ft or N·m) to apply to a bolt of a given diameter and thread pitch when the bolt is made to the specified SAE strength grade.\\n\\n---\\n\\n**2. Column Headers & What They Represent**\\n\\n| Column | Header (as shown in the table) | Meaning |\\n|--------|-------------------------------|---------|\\n| **A** | **Dia.** | Nominal bolt diameter (in inches). |\\n| **B** | **Thread** | Number of threads per inch (coarse‑thread series). |\\n| **C** | **lb‑ft** (under *SAE\\u202fGrade\\u202f5*) | Recommended torque for a Grade\\u202f5 bolt, expressed in pound‑feet. |\\n| **D** | **N\\u202fm** (under *SAE\\u202fGrade\\u202f5*) | Same as column\\u202fC, but in newton‑metres. |\\n| **E** | **lb‑ft** (under *SAE\\u202fGrade\\u202f8*) | Recommended torque for a Grade\\u202f8 bolt, in pound‑feet. |\\n| **F** | **N\\u202fm** (under *SAE\\u202fGrade\\u202f8*) | Same as column\\u202fE, but in newton‑metres. |\\n| **G** | **lb‑ft** (under *Socket\\u202fhead* ) | Torque for a socket‑head cap screw (usually Grade\\u202f8‑style), in pound‑feet. |\\n| **H** | **N\\u202fm** (under *Socket\\u202fhead* ) | Same as column\\u202fG, but in newton‑metres. |\\n\\n*Rows 0‑2 of the raw data are descriptive titles; rows\\u202f3‑5 set up the column headings shown above.*\\n\\n---\\n\\n**3. Row‑by‑Row Analysis (Diameter\\u202f→\\u202fThread\\u202f→\\u202fTorque Values)**  \\n\\n| Dia. | Thread |\\u202fGrade\\u202f5\\u202flb‑ft\\u202f|\\u202fGrade\\u202f5\\u202fN\\u202fm\\u202f|\\u202fGrade\\u202f8\\u202flb‑ft\\u202f|\\u202fGrade\\u202f8\\u202fN\\u202fm\\u202f|\\u202fSocket\\u202fhead\\u202flb‑ft\\u202f|\\u202fSocket\\u202fhead\\u202fN\\u202fm |\\n|------|--------|--------------|------------|--------------|------------|-------------------|-----------------|\\n| **1/4** | 20 | 8.4 | 11 | 12 | 16 | 11 | 15 |\\n| **5/16**| 18 | 17 | 24 | 25 | 33 | 23 | 31 |\\n| **3/8** | 16 | 31 | 42 | 44 | 59 | 41 | 55 |\\n| **7/16**| 14 | 49 | 67 | 70 | 95 | 65 | 59 |\\n| **1/2** | 13 | 74 |100 |110 |140 |100 |140 |\\n| **9/16**| 12 |100 |140 |150 |210 |140 |200 |\\n| **5/8** | 11 |140 |190 |210 |290 |200 |270 |\\n| **3/4** | 10 |240 |330 |380 |510 |350 |480 |\\n| **7/8** | 9  |390 |520 |610 |820 |570 |770 |\\n| **1**   | 8  |570 |780 |910 |1100|850 |1200|\\n| **1‑1/8**| 7 |790 |1100|1300|1700| – | – |\\n| **1‑1/4**| 7 |1100|1500|1800|2500| – | – |\\n| **1‑3/8**| 6 |1500|2000|2400|3200| – | – |\\n| **1‑1/2**| 6 |1900|2600|3200|4300| – | – |\\n| **1‑5/8**|5.5|2400|3300|4300|5900| – | – |\\n| **1‑3/4**|5  |3000|4100|5000|6800| – | – |\\n| **2**   |4.5|4500|6100|7500|10000| – | – |\\n\\n*Notes on the rows*  \\n\\n* **Thread count falls as diameter grows** – the table follows the standard coarse‑thread series (e.g., 1/4‑20, 5/16‑18, …, 2‑4.5).  \\n* **Torque rises sharply with diameter** – roughly proportional to the square of the diameter, as expected for shear‑area driven fasteners.  \\n* **Grade\\u202f8 torque ≈ 1.4\\u202f×\\u202fGrade\\u202f5** for the same size (e.g., 1/2″: 110\\u202flb‑ft vs\\u202f74\\u202flb‑ft).  \\n* **Socket‑head values track Grade\\u202f8** for sizes up to 1\\u202fin.; they are omitted for larger diameters where the chart historically does not list socket‑head caps.  \\n\\n---\\n\\n**4. Key Comparisons & Insights**\\n\\n- **Strength‑grade effect**  \\n  - Across all diameters, Grade\\u202f8 requires about **35‑45\\u202f% more torque** than Grade\\u202f5.  \\n  - This reflects the higher tensile strength of Grade\\u202f8 (≈\\u202f150\\u202fksi vs\\u202f120\\u202fksi for Grade\\u202f5).\\n\\n- **Socket‑head cap screws**  \\n  - For diameters **≤\\u202f1\\u202fin.**, the recommended torque is **slightly lower** than the Grade\\u202f8 bolt value (e.g., 1\\u202fin. → 910\\u202flb‑ft vs\\u202f850\\u202flb‑ft).  \\n  - No socket‑head data are provided for diameters larger than 1\\u202fin.; users should refer to the Grade\\u202f8 column for those sizes.\\n\\n- **Trend with thread pitch**  \\n  - As the thread pitch becomes coarser (lower TPI), the torque rises even for the same nominal diameter, because the thread engages more material per rotation.\\n\\n- **Metric conversion consistency**  \\n  - The N·m columns are the correct metric equivalents (1\\u202flb‑ft ≈\\u202f1.356\\u202fN·m). All rows keep this conversion factor within rounding error.\\n\\n- **Missing entries**  \\n  - Blank cells (shown as “”) indicate that the original source did not list a torque value for that combination – typically the socket‑head column for larger bolts.\\n\\n---\\n\\n**5. Summary of Main Findings**\\n\\n- The table is a **U.S. coarse‑thread bolt torque reference** for three fastener types: **SAE Grade\\u202f5**, **SAE Grade\\u202f8**, and **socket‑head cap screws**.  \\n- **Torque values increase dramatically with bolt diameter** and decrease modestly as thread count rises.  \\n- **Grade\\u202f8 bolts need roughly 1.4\\u202f× the torque of Grade\\u202f5** bolts of the same size, confirming the higher strength requirement.  \\n- **Socket‑head cap screws** (when listed) are torqued to values close to, but a bit lower than, Grade\\u202f8 bolts of the same diameter.  \\n- The chart stops providing socket‑head data beyond a 1‑inch diameter, implying that for larger sizes the **Grade\\u202f8 column should be used** as the practical guideline.  \\n\\nThese points give engineers a quick way to select the correct tightening effort for any coarse‑thread U.S. bolt within the listed size range.'}], [{'type': 'TEXT DATA', 'page': 67, 'y': 331.34259033203125, 'content': 'Use original Kice Cyclone replacement parts only.  These parts are available from Kice Industries, Inc.  To  obtain prompt, efficient service, always provide the following information when ordering parts:'}, {'type': 'TEXT DATA', 'page': 67, 'y': 370.9425964355469, 'content': '1.\\t Correct model number 2.\\t Correct serial number'}, {'type': 'TEXT DATA', 'page': 67, 'y': 410.5426025390625, 'content': 'For assistance in service or ordering parts, contact the customer service department at Kice Industries,  Inc., 5500 Mill Heights Drive, Wichita, KS 67219-2358, Phone 316-744-7151, and Fax 316-744-7355.'}, {'type': 'TEXT DATA', 'page': 67, 'y': 450.0106201171875, 'content': 'IMPORTANT:  Any unauthorized modification, alteration, or use of non-approved attachments voids the  warranty and releases Kice Industries, Inc., from any liability arising from subsequent use of the equipment.  Each type of Cyclone is designed to be used with a specific type and quantity of material.  Using the  Cyclone for any purpose other than that for which it was designed could result in reduced aspiration  performance or personal injury, as well as, product or property damage.'}, {'type': 'TEXT DATA', 'page': 67, 'y': 529.392578125, 'content': 'F or  M otor   and  S peed  R educer  P arts   and  S ervice'}, {'type': 'TEXT DATA', 'page': 67, 'y': 558.1426391601562, 'content': 'Any motor or speed reducer associated with the Kice Cyclones is covered by the manufacturer’s warranty.   If there is a problem, check with the local supplier or service representative.'}, {'type': 'TEXT DATA', 'page': 67, 'y': 754.742919921875, 'content': '5 K ice  I ndustries , I nc .'}, {'type': 'TEXT DATA', 'page': 68, 'y': 30.996490478515625, 'content': '2. S afety  P recautions'}, {'type': 'TEXT DATA', 'page': 68, 'y': 72.94229888916016, 'content': 'This safety alert symbol is used on equipment, safety decals and in manuals to call  your attention to an important safety message warning you of possible danger to your  personal safety.  When you see this symbol, be alert; your personal safety or the safety  of other persons involved.  Follow the instructions in the safety message.'}, {'type': 'TEXT DATA', 'page': 68, 'y': 147.583984375, 'content': 'H azard  L evels'}]]\n"
     ]
    }
   ],
   "source": [
    "context = get_final_context(chunk_id_to_text, index)\n",
    "print(context)"
   ]
  },
  {
   "cell_type": "code",
   "execution_count": 77,
   "id": "7ed3f90d",
   "metadata": {},
   "outputs": [],
   "source": [
    "def pre_rerank_indexer(context):\n",
    "    indexed_context = ''\n",
    "    for i in range(len(context[0])):\n",
    "        context_str = str(context[0][i])\n",
    "        context_str_w_idx = f\" INDEX {i}: \" + context_str\n",
    "        indexed_context += context_str_w_idx\n",
    "    return indexed_context"
   ]
  },
  {
   "cell_type": "code",
   "execution_count": 83,
   "id": "8b4773cd",
   "metadata": {},
   "outputs": [],
   "source": [
    "indexed_context = pre_rerank_indexer(context)"
   ]
  },
  {
   "cell_type": "markdown",
   "id": "0cc02c81",
   "metadata": {},
   "source": [
    "> ##### Reranking"
   ]
  },
  {
   "cell_type": "markdown",
   "id": "b231bf72",
   "metadata": {},
   "source": [
    "We will be going with LLM based reranking, where we provide the context along with the indices and the user query for it to decide further on what indices are best and to eliminate indices that are not required and then finally rank accordingly. "
   ]
  },
  {
   "cell_type": "code",
   "execution_count": 87,
   "id": "eb5618aa",
   "metadata": {},
   "outputs": [],
   "source": [
    "reranker_system_prompt = \"\"\"\"\n",
    "    You are a document reranker. You will be given a user query and a list of text chunks. Each chunk has an INDEX, type, page, y-coordinate, and content. Your task is to rank the chunks by relevance to the user query. \n",
    "\n",
    "    Instructions:\n",
    "    1. Focus only on relevance to the user query, ignoring page numbers and y-coordinates except for context.\n",
    "    2. Output the top k chunk indices only, in descending order of relevance (most relevant first).\n",
    "    3. Use the exact format: [index1, index2, ..., indexk].\n",
    "    4. Do not output any extra text or explanations.\n",
    "    5. If fewer than k chunks are relevant, return only those that are relevant.\n",
    "    6. Be precise, do not hallucinate content.\n",
    "    7. Make sure to always return only as mentioned in the above format, no extra words or phrases or markdowns.\n",
    "\"\"\""
   ]
  },
  {
   "cell_type": "code",
   "execution_count": 90,
   "id": "97a34a65",
   "metadata": {},
   "outputs": [],
   "source": [
    "def reranker_llm(indexed_context, reranker_system_prompt, user_query, k = 6):\n",
    "    completion = client.chat.completions.create(\n",
    "        model=\"openai/gpt-oss-120b\",\n",
    "        messages = [\n",
    "                {\"role\": \"system\", \"content\": reranker_system_prompt},\n",
    "                {\"role\": \"user\", \"content\": f\"\"\"\n",
    "                    User query: \"{user_query}\"\n",
    "\n",
    "                    Text chunks:\n",
    "                    {indexed_context}\n",
    "\n",
    "                    Return the top {k} indices only, formatted as a Python list.\n",
    "                \"\"\"}\n",
    "        ],\n",
    "        temperature = 0, # lower temperature for more deterministic responses\n",
    "        max_completion_tokens = 8192,\n",
    "        top_p = 1,\n",
    "        reasoning_effort = \"medium\",\n",
    "    )\n",
    "\n",
    "    return completion.choices[0].message.content"
   ]
  },
  {
   "cell_type": "code",
   "execution_count": 95,
   "id": "acaae315",
   "metadata": {},
   "outputs": [
    {
     "name": "stdout",
     "output_type": "stream",
     "text": [
      "Reranked IDs: [4, 5, 7, 9, 2, 6]\n"
     ]
    }
   ],
   "source": [
    "reranked_ids = reranker_llm(indexed_context, reranker_system_prompt, QUERY)\n",
    "print(f\"Reranked IDs: {reranked_ids}\")"
   ]
  },
  {
   "cell_type": "code",
   "execution_count": 103,
   "id": "55bb4b04",
   "metadata": {},
   "outputs": [],
   "source": [
    "def get_final_context(reranked_ids, context):\n",
    "    reranked_ids = ast.literal_eval(reranked_ids)\n",
    "    final_context = []\n",
    "    for i in range(len(context[0])):\n",
    "        if i in reranked_ids:\n",
    "            final_context.append(context[0][i])\n",
    "    return final_context"
   ]
  },
  {
   "cell_type": "code",
   "execution_count": 107,
   "id": "9f4239a8",
   "metadata": {},
   "outputs": [],
   "source": [
    "final_context = get_final_context(reranked_ids, context)"
   ]
  },
  {
   "cell_type": "markdown",
   "id": "1958e6ab",
   "metadata": {},
   "source": [
    ">##### Inference Setup"
   ]
  },
  {
   "cell_type": "markdown",
   "id": "f28a1092",
   "metadata": {},
   "source": [
    "Now for the final step, we make a function the an LLM that will answer the user query based on all the context that has been extracted. The prompt engineering here is very crucial as the LLM must know how all the information has been extracted and how the context is formatted.<br><br>\n",
    "We will be using the LLM `gpt-oss-120b`, sourced form Groq cloud."
   ]
  },
  {
   "cell_type": "code",
   "execution_count": 108,
   "id": "eaba8df5",
   "metadata": {},
   "outputs": [],
   "source": [
    "final_llm_sys_prompt = \"\"\"You are a document assistant. Answer the user query using only the provided context.\n",
    "\n",
    "    The context contains the modality from which the text has been extracted (text / table / image)\n",
    "    with page number, y-axis coordinates indicating their position on the page and the content itself.\n",
    "    The content for image and table modalities are LLM based descriptions of the image or table.\n",
    "\n",
    "    **Instructions:**\n",
    "    - Answer accurately based on the context\n",
    "    - If information is insufficient, state this clearly\n",
    "    - Use y-coordinates to understand content order and relationships\n",
    "    - Consider all content types (text, tables, images) together\n",
    "    - Keep the answers as brief as possible while keeping necessary information.\n",
    "\n",
    "    **Reference Format:**\n",
    "    At the end of your answer, provide references in this exact format:\n",
    "\n",
    "    References:\n",
    "    - [Content Type: text/table/image, Page number: {value}]\n",
    "    - [Content Type: text/table/image, Page number: {value}]\n",
    "\n",
    "    Only include references for content you actually used in your answer.\n",
    "\"\"\""
   ]
  },
  {
   "cell_type": "code",
   "execution_count": 109,
   "id": "93b8c017",
   "metadata": {},
   "outputs": [],
   "source": [
    "load_dotenv()\n",
    "client = Groq(\n",
    "    api_key = os.getenv(\"GROQ_API_KEY\")\n",
    ")"
   ]
  },
  {
   "cell_type": "code",
   "execution_count": 110,
   "id": "efd6c2a7",
   "metadata": {},
   "outputs": [],
   "source": [
    "def qna(final_llm_sys_prompt, context, query):\n",
    "    completion = client.chat.completions.create(\n",
    "        model=\"openai/gpt-oss-120b\",\n",
    "        messages = [\n",
    "                {\"role\": \"system\", \"content\": final_llm_sys_prompt},\n",
    "                {\"role\": \"user\", \"content\": f\"\"\"Based on the context: {context} \\n\\n Answer the question: {query}\"\"\"}\n",
    "            ],\n",
    "        temperature = 0.3, # lower temperature for more deterministic responses\n",
    "        max_completion_tokens = 8192,\n",
    "        top_p = 1,\n",
    "        reasoning_effort = \"medium\",\n",
    "    )\n",
    "\n",
    "    return completion.choices[0].message.content"
   ]
  },
  {
   "cell_type": "markdown",
   "id": "f00b192a",
   "metadata": {},
   "source": [
    ">##### Inference"
   ]
  },
  {
   "cell_type": "code",
   "execution_count": 111,
   "id": "825aac3c",
   "metadata": {},
   "outputs": [
    {
     "name": "stdout",
     "output_type": "stream",
     "text": [
      "Query: Tell me about kice cyclone parts.\n",
      "Response: Kice Cyclone replacement parts must be original parts supplied by Kice Industries, Inc. When ordering, you should provide the correct model and serial numbers (found on the metal identification plate near the horizontal inlet). Parts can be obtained directly from Kice Industries, and the company’s customer‑service department can assist with service or parts orders (5500 Mill Heights Drive, Wichita, KS 67219‑2358; Phone 316‑744‑7151; Fax 316‑744‑7355). Only genuine Kice Cyclone parts are recommended for service and speed‑reducer components.  \n",
      "\n",
      "References:\n",
      "- [Content Type: text, Page number: 67]\n",
      "- [Content Type: text, Page number: 67]\n"
     ]
    }
   ],
   "source": [
    "final_answer = qna(final_llm_sys_prompt, final_context, QUERY)\n",
    "\n",
    "print(f\"Query: {QUERY}\")\n",
    "print(f\"Response: {final_answer}\")"
   ]
  }
 ],
 "metadata": {
  "kernelspec": {
   "display_name": "exact-space",
   "language": "python",
   "name": "python3"
  },
  "language_info": {
   "codemirror_mode": {
    "name": "ipython",
    "version": 3
   },
   "file_extension": ".py",
   "mimetype": "text/x-python",
   "name": "python",
   "nbconvert_exporter": "python",
   "pygments_lexer": "ipython3",
   "version": "3.12.11"
  }
 },
 "nbformat": 4,
 "nbformat_minor": 5
}
