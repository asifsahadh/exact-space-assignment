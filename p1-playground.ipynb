{
 "cells": [
  {
   "cell_type": "markdown",
   "id": "ab7ee94d",
   "metadata": {},
   "source": [
    "#### Importing Libraries"
   ]
  },
  {
   "cell_type": "code",
   "execution_count": 1,
   "id": "ec5f5223",
   "metadata": {},
   "outputs": [],
   "source": [
    "import pandas as pd\n",
    "import numpy as np\n",
    "import warnings\n",
    "warnings.filterwarnings('ignore')"
   ]
  },
  {
   "cell_type": "markdown",
   "id": "237e9569",
   "metadata": {},
   "source": [
    "#### __1. Data Preparation & Exploratory Analysis__"
   ]
  },
  {
   "cell_type": "code",
   "execution_count": 2,
   "id": "9212d9bd",
   "metadata": {},
   "outputs": [
    {
     "data": {
      "text/html": [
       "<div>\n",
       "<style scoped>\n",
       "    .dataframe tbody tr th:only-of-type {\n",
       "        vertical-align: middle;\n",
       "    }\n",
       "\n",
       "    .dataframe tbody tr th {\n",
       "        vertical-align: top;\n",
       "    }\n",
       "\n",
       "    .dataframe thead th {\n",
       "        text-align: right;\n",
       "    }\n",
       "</style>\n",
       "<table border=\"1\" class=\"dataframe\">\n",
       "  <thead>\n",
       "    <tr style=\"text-align: right;\">\n",
       "      <th></th>\n",
       "      <th>time</th>\n",
       "      <th>Cyclone_Inlet_Gas_Temp</th>\n",
       "      <th>Cyclone_Material_Temp</th>\n",
       "      <th>Cyclone_Outlet_Gas_draft</th>\n",
       "      <th>Cyclone_cone_draft</th>\n",
       "      <th>Cyclone_Gas_Outlet_Temp</th>\n",
       "      <th>Cyclone_Inlet_Draft</th>\n",
       "    </tr>\n",
       "  </thead>\n",
       "  <tbody>\n",
       "    <tr>\n",
       "      <th>0</th>\n",
       "      <td>2017-01-01 00:00:00</td>\n",
       "      <td>867.63</td>\n",
       "      <td>910.42</td>\n",
       "      <td>-189.54</td>\n",
       "      <td>-186.04</td>\n",
       "      <td>852.13</td>\n",
       "      <td>-145.9</td>\n",
       "    </tr>\n",
       "    <tr>\n",
       "      <th>1</th>\n",
       "      <td>2017-01-01 00:05:00</td>\n",
       "      <td>879.23</td>\n",
       "      <td>918.14</td>\n",
       "      <td>-184.33</td>\n",
       "      <td>-182.1</td>\n",
       "      <td>862.53</td>\n",
       "      <td>-149.76</td>\n",
       "    </tr>\n",
       "    <tr>\n",
       "      <th>2</th>\n",
       "      <td>2017-01-01 00:10:00</td>\n",
       "      <td>875.67</td>\n",
       "      <td>924.18</td>\n",
       "      <td>-181.26</td>\n",
       "      <td>-166.47</td>\n",
       "      <td>866.06</td>\n",
       "      <td>-145.01</td>\n",
       "    </tr>\n",
       "    <tr>\n",
       "      <th>3</th>\n",
       "      <td>2017-01-01 00:15:00</td>\n",
       "      <td>875.28</td>\n",
       "      <td>923.15</td>\n",
       "      <td>-179.15</td>\n",
       "      <td>-174.83</td>\n",
       "      <td>865.85</td>\n",
       "      <td>-142.82</td>\n",
       "    </tr>\n",
       "    <tr>\n",
       "      <th>4</th>\n",
       "      <td>2017-01-01 00:20:00</td>\n",
       "      <td>891.66</td>\n",
       "      <td>934.26</td>\n",
       "      <td>-178.32</td>\n",
       "      <td>-173.72</td>\n",
       "      <td>876.06</td>\n",
       "      <td>-143.39</td>\n",
       "    </tr>\n",
       "  </tbody>\n",
       "</table>\n",
       "</div>"
      ],
      "text/plain": [
       "                 time Cyclone_Inlet_Gas_Temp Cyclone_Material_Temp  \\\n",
       "0 2017-01-01 00:00:00                 867.63                910.42   \n",
       "1 2017-01-01 00:05:00                 879.23                918.14   \n",
       "2 2017-01-01 00:10:00                 875.67                924.18   \n",
       "3 2017-01-01 00:15:00                 875.28                923.15   \n",
       "4 2017-01-01 00:20:00                 891.66                934.26   \n",
       "\n",
       "  Cyclone_Outlet_Gas_draft Cyclone_cone_draft Cyclone_Gas_Outlet_Temp  \\\n",
       "0                  -189.54            -186.04                  852.13   \n",
       "1                  -184.33             -182.1                  862.53   \n",
       "2                  -181.26            -166.47                  866.06   \n",
       "3                  -179.15            -174.83                  865.85   \n",
       "4                  -178.32            -173.72                  876.06   \n",
       "\n",
       "  Cyclone_Inlet_Draft  \n",
       "0              -145.9  \n",
       "1             -149.76  \n",
       "2             -145.01  \n",
       "3             -142.82  \n",
       "4             -143.39  "
      ]
     },
     "execution_count": 2,
     "metadata": {},
     "output_type": "execute_result"
    }
   ],
   "source": [
    "df = pd.read_excel(\"data.xlsx\")\n",
    "df.head()"
   ]
  },
  {
   "cell_type": "markdown",
   "id": "e1978544",
   "metadata": {},
   "source": [
    "__1.1 Check for missing values__"
   ]
  },
  {
   "cell_type": "code",
   "execution_count": 16,
   "id": "901fa542",
   "metadata": {},
   "outputs": [
    {
     "data": {
      "text/plain": [
       "time                        0\n",
       "Cyclone_Inlet_Gas_Temp      0\n",
       "Cyclone_Material_Temp       0\n",
       "Cyclone_Outlet_Gas_draft    0\n",
       "Cyclone_cone_draft          0\n",
       "Cyclone_Gas_Outlet_Temp     0\n",
       "Cyclone_Inlet_Draft         0\n",
       "dtype: int64"
      ]
     },
     "execution_count": 16,
     "metadata": {},
     "output_type": "execute_result"
    }
   ],
   "source": [
    "df.isna().sum()"
   ]
  },
  {
   "cell_type": "markdown",
   "id": "6e662fab",
   "metadata": {},
   "source": [
    "There are no missing values in the entire dataset."
   ]
  },
  {
   "cell_type": "markdown",
   "id": "24c7287b",
   "metadata": {},
   "source": [
    "__1.2 Ensuring strict 5-minute indexing.__"
   ]
  },
  {
   "cell_type": "markdown",
   "id": "f1767bda",
   "metadata": {},
   "source": [
    "First we can check if the time difference between the first and second data sample is 5 minutes or not."
   ]
  },
  {
   "cell_type": "code",
   "execution_count": 21,
   "id": "ba01f6be",
   "metadata": {},
   "outputs": [
    {
     "name": "stdout",
     "output_type": "stream",
     "text": [
      "0 days 00:05:00\n"
     ]
    }
   ],
   "source": [
    "print(df['time'].iloc[1] - df['time'].iloc[0])"
   ]
  },
  {
   "cell_type": "markdown",
   "id": "6c6622e2",
   "metadata": {},
   "source": [
    "It is! Now we can save that into a variable and loop over the entire set of samples to check if at any point, the time difference is not 5 minutes."
   ]
  },
  {
   "cell_type": "code",
   "execution_count": null,
   "id": "f3805a04",
   "metadata": {},
   "outputs": [],
   "source": [
    "time_diff = df['time'].iloc[1] - df['time'].iloc[0]\n",
    "\n",
    "for i in range(len(df['time'])):\n",
    "    if (df['time'].iloc[i + 1] - df['time'].iloc[i]) "
   ]
  }
 ],
 "metadata": {
  "kernelspec": {
   "display_name": "exact-space",
   "language": "python",
   "name": "python3"
  },
  "language_info": {
   "codemirror_mode": {
    "name": "ipython",
    "version": 3
   },
   "file_extension": ".py",
   "mimetype": "text/x-python",
   "name": "python",
   "nbconvert_exporter": "python",
   "pygments_lexer": "ipython3",
   "version": "3.12.11"
  }
 },
 "nbformat": 4,
 "nbformat_minor": 5
}
