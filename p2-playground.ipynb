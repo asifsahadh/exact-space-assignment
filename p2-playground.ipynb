{
 "cells": [
  {
   "cell_type": "markdown",
   "id": "b3df4b85",
   "metadata": {},
   "source": [
    "### _EXACTSPACE DATA SCIENCE INTERNSHIP ASSIGNMENT_\n",
    "## __Part 2: RAG + LLM System Design__"
   ]
  },
  {
   "cell_type": "markdown",
   "id": "d159ccbb",
   "metadata": {},
   "source": [
    "---"
   ]
  },
  {
   "cell_type": "markdown",
   "id": "077e68d2",
   "metadata": {},
   "source": [
    "### Workflow Diagram"
   ]
  },
  {
   "cell_type": "markdown",
   "id": "1a83f846",
   "metadata": {},
   "source": [
    "<div style=\"text-align: center;\">\n",
    "    <img src=\"workflow.png\" alt=\"workflow\" width=\"750\"/>\n",
    "</div>"
   ]
  },
  {
   "cell_type": "markdown",
   "id": "63a3ee4d",
   "metadata": {},
   "source": [
    "The document overall contains 3 modalities: text, image & table. The idea is to sequentially store each of these inside an array. The text data is taken as is, the image data is first passed into an LLM to gets its detailed description. Similar operation is performed on table data. These are stored into the data array.<br><br>\n",
    "Next, they are divided into chunks, where the chunking strategy is overlap. These chunks are converted to vector embeddings using the sentence transformer model `all-mpnet-base-v2`, which converts the data into a 768-dimensional vector. Next, the user query is also converted into its vector using the same embedding model. Cosine similarity is performed to get the top-k indices. Using this, we retrieve the text data from the chunks array.<br><br>\n",
    "Finally, we pass the original user query and the retrieved top-k text chunks and pass it into an LLM for getting the final response.<br><br><br>\n",
    "__Note:__\n",
    "1. For processing image data, the model is sourced from Ollama, where the model (`gemma3:4b`) runs locally on my PC. This is because in my research, vision language models (VLMs) hosted on cloud are not freely available. \n",
    "2. For processing tables and for the final LLM that processes the user query based on the final context, the model is sourced from Groq Cloud (`gpt-oss-120b`). This in my testing was very fast.\n",
    "3. Processing images locally via running the VLM locally is very time consuming. Processing 4 pages entirely using the data extraction pipeline (see function `extract_multimodal_data`) took almost 40 minutes. For this reason, image processing is only done for 30 of the 195 pages."
   ]
  },
  {
   "cell_type": "markdown",
   "id": "7a32e9d3",
   "metadata": {},
   "source": [
    "### Implementation"
   ]
  },
  {
   "cell_type": "markdown",
   "id": "0265f8b0",
   "metadata": {},
   "source": [
    ">Importing libraries"
   ]
  },
  {
   "cell_type": "code",
   "execution_count": 1,
   "id": "a32a4606",
   "metadata": {},
   "outputs": [
    {
     "name": "stderr",
     "output_type": "stream",
     "text": [
      "c:\\Users\\asifs\\anaconda3\\envs\\exact-space\\Lib\\site-packages\\tqdm\\auto.py:21: TqdmWarning: IProgress not found. Please update jupyter and ipywidgets. See https://ipywidgets.readthedocs.io/en/stable/user_install.html\n",
      "  from .autonotebook import tqdm as notebook_tqdm\n"
     ]
    }
   ],
   "source": [
    "from sentence_transformers import SentenceTransformer\n",
    "from PyPDF2 import PdfMerger\n",
    "from groq import Groq\n",
    "import os\n",
    "import numpy as np\n",
    "from dotenv import load_dotenv\n",
    "from numpy import dot\n",
    "from numpy.linalg import norm\n",
    "import fitz\n",
    "import pdfplumber\n",
    "from pathlib import Path\n",
    "import requests\n",
    "import base64\n",
    "import io\n",
    "import pickle\n",
    "import time"
   ]
  },
  {
   "cell_type": "markdown",
   "id": "27b85fae",
   "metadata": {},
   "source": [
    ">Combine PDFs"
   ]
  },
  {
   "cell_type": "code",
   "execution_count": 2,
   "id": "43141001",
   "metadata": {},
   "outputs": [],
   "source": [
    "folder = \"pdfs\"\n",
    "files_and_folders = os.listdir(folder)\n",
    "files = [f for f in files_and_folders if f.lower().endswith(\".pdf\")]\n",
    "files.sort()\n",
    "merger = PdfMerger()\n",
    "\n",
    "for pdf in files:\n",
    "    merger.append(os.path.join(folder, pdf))  \n",
    "\n",
    "merger.write(\"result.pdf\")\n",
    "merger.close()"
   ]
  },
  {
   "cell_type": "markdown",
   "id": "95ea0243",
   "metadata": {},
   "source": [
    "_We have the resulting PDF with 195 pages._"
   ]
  },
  {
   "cell_type": "markdown",
   "id": "a0e56033",
   "metadata": {},
   "source": [
    ">##### Data Extraction Pipeline Engineering"
   ]
  },
  {
   "cell_type": "markdown",
   "id": "1d9706e4",
   "metadata": {},
   "source": [
    "The idea is to ultimately save everything in text form. Text data will be extracted as it is, while the images and tables will be passed to an LLM with respective prompts to get their textual descriptions. Another important point is to maintain the sequence. For example if there is an image after a table in one page, the final `data_array` should have the image description after the table description. This is because if a table / image exists in a page, it is possible that the text surrounding that table / image serves as a description for that table / image. Therefore, maintaining the sequence can be better as this may benefit when chunking where similar information is still together.<br><br>\n",
    "On the other hand, if we maintain separate data arrays for each modality, it's possible that some context will be lost, and that retrieving the right information may be difficult. "
   ]
  },
  {
   "cell_type": "markdown",
   "id": "81ed1186",
   "metadata": {},
   "source": [
    "The model I'm using is the Gemma 3 12B model, sourced from Ollama. This is a locally downloaded VLM model that works pretty well with image data. A minor drawback is it's slow processing as the model needs to run locally. The specific model that I downloaded was the its quantized version (q4) to further speed up inference."
   ]
  },
  {
   "cell_type": "markdown",
   "id": "f8b91165",
   "metadata": {},
   "source": [
    "_Python class to send image data for inference._"
   ]
  },
  {
   "cell_type": "code",
   "execution_count": 3,
   "id": "383ed8ad",
   "metadata": {},
   "outputs": [],
   "source": [
    "class ImageDescriber:\n",
    "    def __init__(self, model, system_prompt):\n",
    "        self.model = model\n",
    "        self.system_prompt = system_prompt\n",
    "        self.chat_history = []\n",
    "        self.url = \"http://localhost:11434/api/chat\"\n",
    "\n",
    "        if system_prompt:\n",
    "            self.chat_history.append({\"role\" : \"system\", \"content\" : system_prompt})\n",
    "        \n",
    "    def send(self, user_input, image_path = None, image_bytes = None):\n",
    "        if image_path or image_bytes:\n",
    "            return self.send_with_image(user_input, image_path, image_bytes)\n",
    "\n",
    "        self.chat_history.append({\"role\": \"user\", \"content\": user_input})\n",
    "        payload = {\n",
    "            \"model\": self.model,\n",
    "            \"messages\": self.chat_history,\n",
    "            \"stream\": False\n",
    "        }\n",
    "        response = requests.post(self.url, json = payload)\n",
    "        if response.status_code != 200:\n",
    "            raise Exception(f\"Error {response.status_code}: {response.text}\")\n",
    "        \n",
    "        assistant_response = response.json()[\"message\"][\"content\"]\n",
    "        self.chat_history.append({\"role\": \"assistant\", \"content\": assistant_response})\n",
    "        return assistant_response\n",
    "    \n",
    "    def send_with_image(self, prompt, image_path = None, image_bytes = None):\n",
    "        if image_bytes:\n",
    "            image_b64 = base64.b64encode(image_bytes).decode('utf-8')\n",
    "        elif image_path:\n",
    "            with open(image_path, 'rb') as f:\n",
    "                image_b64 = base64.b64encode(f.read()).decode('utf-8')\n",
    "        else:\n",
    "            raise ValueError(\"Provide either image_path or image_bytes\")\n",
    "        \n",
    "        self.chat_history.append({\n",
    "            \"role\": \"user\",\n",
    "            \"content\": prompt,\n",
    "            \"images\": [image_b64]\n",
    "        })\n",
    "        \n",
    "        payload = {\n",
    "            \"model\": self.model,\n",
    "            \"messages\": self.chat_history,\n",
    "            \"stream\": False\n",
    "        }\n",
    "        \n",
    "        response = requests.post(self.url, json=payload)\n",
    "        if response.status_code != 200:\n",
    "            raise Exception(f\"Error {response.status_code}: {response.text}\")\n",
    "        \n",
    "        assistant_response = response.json()[\"message\"][\"content\"]\n",
    "        self.chat_history.append({\"role\": \"assistant\", \"content\": assistant_response})\n",
    "        return assistant_response"
   ]
  },
  {
   "cell_type": "code",
   "execution_count": 4,
   "id": "a833a9c1",
   "metadata": {},
   "outputs": [],
   "source": [
    "def pil_image_to_base64(pil_image): # convert PIL image to base64\n",
    "    buffered = io.BytesIO()\n",
    "    pil_image.save(buffered, format = \"PNG\")\n",
    "    return base64.b64encode(buffered.getvalue()).decode(\"utf-8\")"
   ]
  },
  {
   "cell_type": "markdown",
   "id": "ed70257f",
   "metadata": {},
   "source": [
    "_System prompt & model initialization for image processing._"
   ]
  },
  {
   "cell_type": "code",
   "execution_count": 5,
   "id": "1e4a6449",
   "metadata": {},
   "outputs": [],
   "source": [
    "# vlm_model_name = \"gemma3:12b-it-q4_K_M\" # good accuracy, but slow\n",
    "vlm_model_name = \"gemma3:4b-it-qat\" # moderate accuracy, but faster\n",
    "vlm_sys_prompt = \"\"\"\n",
    "    You are an expert image analyzer with capabilities in visual interpretation, OCR, and technical documentation. \n",
    "\n",
    "    When analyzing images:\n",
    "    - Extract and transcribe ALL visible text, labels, numbers, and annotations exactly as shown\n",
    "    - Identify the image type (photograph, diagram, chart, screenshot, technical drawing, etc.)\n",
    "    - Describe visual elements systematically from top to bottom, left to right\n",
    "    - For technical content: explain diagrams, formulas, code, data visualizations, and their relationships\n",
    "    - For general content: describe subjects, composition, colors, context, and notable details\n",
    "    - Maintain accuracy - if something is unclear, state \"unclear\" rather than guessing\n",
    "    - Use structured formatting (headings, lists) for complex images to improve readability\n",
    "\n",
    "    Be comprehensive yet concise. Your goal is to make the image content accessible and understandable through text alone.\n",
    "\"\"\"\n",
    "vlm_model = ImageDescriber(vlm_model_name, vlm_sys_prompt)"
   ]
  },
  {
   "cell_type": "markdown",
   "id": "4419acac",
   "metadata": {},
   "source": [
    "_Python class to describe table data._"
   ]
  },
  {
   "cell_type": "code",
   "execution_count": 6,
   "id": "4962c21c",
   "metadata": {},
   "outputs": [],
   "source": [
    "load_dotenv()\n",
    "client = Groq(\n",
    "    api_key = os.getenv(\"GROQ_API_KEY\")\n",
    ")"
   ]
  },
  {
   "cell_type": "code",
   "execution_count": 7,
   "id": "f84dc038",
   "metadata": {},
   "outputs": [],
   "source": [
    "def table_describe_llm(llm_sys_prompt, prompt_for_llm_model):\n",
    "    completion = client.chat.completions.create(\n",
    "        model=\"openai/gpt-oss-120b\",\n",
    "        messages = [\n",
    "            {\"role\": \"system\", \"content\": llm_sys_prompt},\n",
    "            {\"role\": \"user\", \"content\": prompt_for_llm_model}\n",
    "        ],\n",
    "        temperature = 1,\n",
    "        max_completion_tokens = 8192,\n",
    "        top_p = 1,\n",
    "        reasoning_effort = \"medium\",\n",
    "    )\n",
    "\n",
    "    return completion.choices[0].message.content"
   ]
  },
  {
   "cell_type": "markdown",
   "id": "5a9d973b",
   "metadata": {},
   "source": [
    "_Python function to extract text / image / table information sequencially._"
   ]
  },
  {
   "cell_type": "code",
   "execution_count": 8,
   "id": "ced75f0a",
   "metadata": {},
   "outputs": [],
   "source": [
    "def extract_multimodal_data(pdf_path):\n",
    "\n",
    "    pdf_file = Path(pdf_path)\n",
    "    if not pdf_file.is_file() or pdf_file.suffix.lower() != \".pdf\":\n",
    "        raise FileNotFoundError(\"Provided file path is not a valid PDF.\")\n",
    "    \n",
    "    os.makedirs(\"images\", exist_ok = True) # make dir for images\n",
    "\n",
    "    doc = fitz.open(str(pdf_file))\n",
    "    result = []\n",
    "\n",
    "    # text extraction\n",
    "    for page_num, page in enumerate(doc, start = 1):\n",
    "        page_blocks = []\n",
    "\n",
    "        blocks = page.get_text(\"dict\")[\"blocks\"]\n",
    "        for block in blocks:\n",
    "            if block[\"type\"] == 0: # type 0 is text\n",
    "                text_content = \" \".join(\n",
    "                    span[\"text\"] for line in block[\"lines\"] for span in line[\"spans\"]\n",
    "                ).strip()\n",
    "                if text_content:\n",
    "                    y = block[\"bbox\"][1] # top coordinate\n",
    "                    page_blocks.append({\n",
    "                        \"type\": \"TEXT DATA\",\n",
    "                        \"page\": page_num,\n",
    "                        \"y\": y,\n",
    "                        \"content\": text_content\n",
    "                    })\n",
    "        print(f\"Text from page {page_num} extracted.\")\n",
    "\n",
    "        # table extraction    \n",
    "        try:\n",
    "            with pdfplumber.open(str(pdf_file)) as pdf:\n",
    "                pdf_page = pdf.pages[page_num - 1]\n",
    "                table_objects = pdf_page.find_tables()\n",
    "        except Exception as e:\n",
    "            print(f\"Failed to read tables on page {page_num}: {e}\")\n",
    "            table_objects = []\n",
    "\n",
    "        for table_obj in table_objects:\n",
    "            if table_obj:\n",
    "                bbox = table_obj.bbox  \n",
    "                y = bbox[1]  \n",
    "                \n",
    "                table_data = table_obj.extract()\n",
    "\n",
    "                llm_sys_prompt = \"\"\"You are a technical table analysis expert. When given table data in list format:\n",
    "\n",
    "                    1. Identify and clearly state the table headers\n",
    "                    2. Analyze each row systematically, explaining the relationships between columns\n",
    "                    3. Extract key comparisons, advantages, and disadvantages\n",
    "                    4. Summarize the overall purpose and insights from the table\n",
    "                    5. Highlight patterns, trends, or notable information\n",
    "                    6. Use clear formatting with headers and bullet points for readability\n",
    "\n",
    "                    Provide comprehensive yet organized analysis that makes the table's content immediately understandable.\n",
    "                \"\"\"\n",
    "\n",
    "                prompt_for_llm_model = f\"\"\"Analyze this table data and provide a detailed description:\n",
    "\n",
    "                    Table Data:\n",
    "                    {table_data}\n",
    "\n",
    "                    Please provide:\n",
    "                    1. Table title/purpose (infer from content)\n",
    "                    2. Column headers and their meanings\n",
    "                    3. Detailed analysis of each row\n",
    "                    4. Key comparisons and insights\n",
    "                    5. Summary of main findings\n",
    "\n",
    "                    Format your response clearly with sections and bullet points. Keep it minimal.\n",
    "                \"\"\"\n",
    "                \n",
    "                table_desc = table_describe_llm(llm_sys_prompt, prompt_for_llm_model)\n",
    "                page_blocks.append({\n",
    "                    \"type\": \"TABLE DATA\",\n",
    "                    \"page\": page_num,\n",
    "                    \"y\": y,\n",
    "                    \"content\": table_desc\n",
    "                })\n",
    "        print(f\"Description for table from page {page_num} retrieved.\")\n",
    "        \n",
    "        # image extraction only for first 30 pages   \n",
    "        if page_num <= 30:   \n",
    "            image_list = page.get_images(full = True)             \n",
    "            for img_index, img in enumerate(image_list):\n",
    "                xref = img[0]\n",
    "                base_image = doc.extract_image(xref)\n",
    "                image_bytes = base_image[\"image\"]\n",
    "                \n",
    "                img_rects = page.get_image_rects(xref)\n",
    "                y = img_rects[0].y0 if img_rects else 0\n",
    "                \n",
    "                page_text = page.get_text().strip()\n",
    "                prompt_for_vlm_model = f\"\"\"\n",
    "                    This is an image taken from a technical document. \n",
    "                    Unless it is a blank image or a logo or only text in the image,\n",
    "                    analyze this image thoroughly. Identify and transcribe:\n",
    "                        - All text, labels, and annotations\n",
    "                        - Technical diagrams, charts, or graphs\n",
    "                        - Data values, measurements, or statistics\n",
    "                        - Structural elements and their relationships\n",
    "                        - Any equations, formulas, or code\n",
    "                    Explain the purpose and context of what's shown.\n",
    "                    You may use the surrounding textual information taken from the \n",
    "                    same page as the image to get more accurate insights: {page_text}.\n",
    "                    Keep your description minimal.\"\n",
    "                \"\"\"\n",
    "                image_desc = vlm_model.send(prompt_for_vlm_model, image_bytes = image_bytes)\n",
    "                page_blocks.append({\n",
    "                    \"type\": \"IMAGE DATA\",\n",
    "                    \"page\": page_num,\n",
    "                    \"y\": y,\n",
    "                    \"content\": image_desc\n",
    "                })\n",
    "            print(f\"Description for image from page {page_num} retrieved.\")\n",
    "\n",
    "        page_blocks.sort(key = lambda b: b[\"y\"])\n",
    "        result.extend(page_blocks)\n",
    "\n",
    "    return result"
   ]
  },
  {
   "cell_type": "code",
   "execution_count": 9,
   "id": "cdb583d4",
   "metadata": {},
   "outputs": [
    {
     "name": "stdout",
     "output_type": "stream",
     "text": [
      "Text from page 1 extracted.\n",
      "Description for table from page 1 retrieved.\n",
      "Description for image from page 1 retrieved.\n",
      "Text from page 2 extracted.\n",
      "Description for table from page 2 retrieved.\n",
      "Description for image from page 2 retrieved.\n",
      "Text from page 3 extracted.\n",
      "Description for table from page 3 retrieved.\n",
      "Description for image from page 3 retrieved.\n",
      "Text from page 4 extracted.\n",
      "Description for table from page 4 retrieved.\n",
      "Description for image from page 4 retrieved.\n",
      "Text from page 5 extracted.\n",
      "Description for table from page 5 retrieved.\n",
      "Description for image from page 5 retrieved.\n",
      "Text from page 6 extracted.\n",
      "Description for table from page 6 retrieved.\n",
      "Description for image from page 6 retrieved.\n",
      "Text from page 7 extracted.\n",
      "Description for table from page 7 retrieved.\n",
      "Description for image from page 7 retrieved.\n",
      "Text from page 8 extracted.\n",
      "Description for table from page 8 retrieved.\n",
      "Description for image from page 8 retrieved.\n",
      "Text from page 9 extracted.\n",
      "Description for table from page 9 retrieved.\n",
      "Description for image from page 9 retrieved.\n",
      "Text from page 10 extracted.\n",
      "Description for table from page 10 retrieved.\n",
      "Description for image from page 10 retrieved.\n",
      "Text from page 11 extracted.\n",
      "Description for table from page 11 retrieved.\n",
      "Description for image from page 11 retrieved.\n",
      "Text from page 12 extracted.\n",
      "Description for table from page 12 retrieved.\n",
      "Description for image from page 12 retrieved.\n",
      "Text from page 13 extracted.\n",
      "Description for table from page 13 retrieved.\n",
      "Description for image from page 13 retrieved.\n",
      "Text from page 14 extracted.\n",
      "Description for table from page 14 retrieved.\n",
      "Description for image from page 14 retrieved.\n",
      "Text from page 15 extracted.\n",
      "Description for table from page 15 retrieved.\n",
      "Description for image from page 15 retrieved.\n",
      "Text from page 16 extracted.\n",
      "Description for table from page 16 retrieved.\n",
      "Description for image from page 16 retrieved.\n",
      "Text from page 17 extracted.\n",
      "Description for table from page 17 retrieved.\n",
      "Description for image from page 17 retrieved.\n",
      "Text from page 18 extracted.\n",
      "Description for table from page 18 retrieved.\n",
      "Description for image from page 18 retrieved.\n",
      "Text from page 19 extracted.\n",
      "Description for table from page 19 retrieved.\n",
      "Description for image from page 19 retrieved.\n",
      "Text from page 20 extracted.\n",
      "Description for table from page 20 retrieved.\n",
      "Description for image from page 20 retrieved.\n",
      "Text from page 21 extracted.\n",
      "Description for table from page 21 retrieved.\n",
      "Description for image from page 21 retrieved.\n",
      "Text from page 22 extracted.\n",
      "Description for table from page 22 retrieved.\n",
      "Description for image from page 22 retrieved.\n",
      "Text from page 23 extracted.\n",
      "Description for table from page 23 retrieved.\n",
      "Description for image from page 23 retrieved.\n",
      "Text from page 24 extracted.\n",
      "Description for table from page 24 retrieved.\n",
      "Description for image from page 24 retrieved.\n",
      "Text from page 25 extracted.\n",
      "Description for table from page 25 retrieved.\n",
      "Description for image from page 25 retrieved.\n",
      "Text from page 26 extracted.\n",
      "Description for table from page 26 retrieved.\n",
      "Description for image from page 26 retrieved.\n",
      "Text from page 27 extracted.\n",
      "Description for table from page 27 retrieved.\n",
      "Description for image from page 27 retrieved.\n",
      "Text from page 28 extracted.\n",
      "Description for table from page 28 retrieved.\n",
      "Description for image from page 28 retrieved.\n",
      "Text from page 29 extracted.\n",
      "Description for table from page 29 retrieved.\n",
      "Description for image from page 29 retrieved.\n",
      "Text from page 30 extracted.\n",
      "Description for table from page 30 retrieved.\n",
      "Description for image from page 30 retrieved.\n",
      "Text from page 31 extracted.\n",
      "Description for table from page 31 retrieved.\n",
      "Text from page 32 extracted.\n",
      "Description for table from page 32 retrieved.\n",
      "Text from page 33 extracted.\n",
      "Description for table from page 33 retrieved.\n",
      "Text from page 34 extracted.\n",
      "Description for table from page 34 retrieved.\n",
      "Text from page 35 extracted.\n",
      "Description for table from page 35 retrieved.\n",
      "Text from page 36 extracted.\n",
      "Description for table from page 36 retrieved.\n",
      "Text from page 37 extracted.\n",
      "Description for table from page 37 retrieved.\n",
      "Text from page 38 extracted.\n",
      "Description for table from page 38 retrieved.\n",
      "Text from page 39 extracted.\n",
      "Description for table from page 39 retrieved.\n",
      "Text from page 40 extracted.\n",
      "Description for table from page 40 retrieved.\n",
      "Text from page 41 extracted.\n",
      "Description for table from page 41 retrieved.\n",
      "Text from page 42 extracted.\n",
      "Description for table from page 42 retrieved.\n",
      "Text from page 43 extracted.\n",
      "Description for table from page 43 retrieved.\n",
      "Text from page 44 extracted.\n",
      "Description for table from page 44 retrieved.\n",
      "Text from page 45 extracted.\n",
      "Description for table from page 45 retrieved.\n",
      "Text from page 46 extracted.\n",
      "Description for table from page 46 retrieved.\n",
      "Text from page 47 extracted.\n",
      "Description for table from page 47 retrieved.\n",
      "Text from page 48 extracted.\n",
      "Description for table from page 48 retrieved.\n",
      "Text from page 49 extracted.\n",
      "Description for table from page 49 retrieved.\n",
      "Text from page 50 extracted.\n",
      "Description for table from page 50 retrieved.\n",
      "Text from page 51 extracted.\n",
      "Description for table from page 51 retrieved.\n",
      "Text from page 52 extracted.\n",
      "Description for table from page 52 retrieved.\n",
      "Text from page 53 extracted.\n",
      "Description for table from page 53 retrieved.\n",
      "Text from page 54 extracted.\n",
      "Description for table from page 54 retrieved.\n",
      "Text from page 55 extracted.\n",
      "Description for table from page 55 retrieved.\n",
      "Text from page 56 extracted.\n",
      "Description for table from page 56 retrieved.\n",
      "Text from page 57 extracted.\n",
      "Description for table from page 57 retrieved.\n",
      "Text from page 58 extracted.\n",
      "Description for table from page 58 retrieved.\n",
      "Text from page 59 extracted.\n",
      "Description for table from page 59 retrieved.\n",
      "Text from page 60 extracted.\n",
      "Description for table from page 60 retrieved.\n",
      "Text from page 61 extracted.\n",
      "Description for table from page 61 retrieved.\n",
      "Text from page 62 extracted.\n",
      "Description for table from page 62 retrieved.\n",
      "Text from page 63 extracted.\n",
      "Description for table from page 63 retrieved.\n",
      "Text from page 64 extracted.\n",
      "Description for table from page 64 retrieved.\n",
      "Text from page 65 extracted.\n",
      "Description for table from page 65 retrieved.\n",
      "Text from page 66 extracted.\n",
      "Description for table from page 66 retrieved.\n",
      "Text from page 67 extracted.\n",
      "Description for table from page 67 retrieved.\n",
      "Text from page 68 extracted.\n",
      "Description for table from page 68 retrieved.\n",
      "Text from page 69 extracted.\n",
      "Description for table from page 69 retrieved.\n",
      "Text from page 70 extracted.\n",
      "Description for table from page 70 retrieved.\n",
      "Text from page 71 extracted.\n",
      "Description for table from page 71 retrieved.\n",
      "Text from page 72 extracted.\n",
      "Description for table from page 72 retrieved.\n",
      "Text from page 73 extracted.\n",
      "Description for table from page 73 retrieved.\n",
      "Text from page 74 extracted.\n",
      "Description for table from page 74 retrieved.\n",
      "Text from page 75 extracted.\n",
      "Description for table from page 75 retrieved.\n",
      "Text from page 76 extracted.\n",
      "Description for table from page 76 retrieved.\n",
      "Text from page 77 extracted.\n",
      "Description for table from page 77 retrieved.\n",
      "Text from page 78 extracted.\n",
      "Description for table from page 78 retrieved.\n",
      "Text from page 79 extracted.\n",
      "Description for table from page 79 retrieved.\n",
      "Text from page 80 extracted.\n",
      "Description for table from page 80 retrieved.\n",
      "Text from page 81 extracted.\n",
      "Description for table from page 81 retrieved.\n",
      "Text from page 82 extracted.\n",
      "Description for table from page 82 retrieved.\n",
      "Text from page 83 extracted.\n",
      "Description for table from page 83 retrieved.\n",
      "Text from page 84 extracted.\n",
      "Description for table from page 84 retrieved.\n",
      "Text from page 85 extracted.\n",
      "Description for table from page 85 retrieved.\n",
      "Text from page 86 extracted.\n",
      "Description for table from page 86 retrieved.\n",
      "Text from page 87 extracted.\n",
      "Description for table from page 87 retrieved.\n",
      "Text from page 88 extracted.\n",
      "Description for table from page 88 retrieved.\n",
      "Text from page 89 extracted.\n",
      "Description for table from page 89 retrieved.\n",
      "Text from page 90 extracted.\n",
      "Description for table from page 90 retrieved.\n",
      "Text from page 91 extracted.\n",
      "Description for table from page 91 retrieved.\n",
      "Text from page 92 extracted.\n",
      "Description for table from page 92 retrieved.\n",
      "Text from page 93 extracted.\n",
      "Description for table from page 93 retrieved.\n",
      "Text from page 94 extracted.\n",
      "Description for table from page 94 retrieved.\n",
      "Text from page 95 extracted.\n",
      "Description for table from page 95 retrieved.\n",
      "Text from page 96 extracted.\n",
      "Description for table from page 96 retrieved.\n",
      "Text from page 97 extracted.\n",
      "Description for table from page 97 retrieved.\n",
      "Text from page 98 extracted.\n",
      "Description for table from page 98 retrieved.\n",
      "Text from page 99 extracted.\n",
      "Description for table from page 99 retrieved.\n",
      "Text from page 100 extracted.\n",
      "Description for table from page 100 retrieved.\n",
      "Text from page 101 extracted.\n",
      "Description for table from page 101 retrieved.\n",
      "Text from page 102 extracted.\n",
      "Description for table from page 102 retrieved.\n",
      "Text from page 103 extracted.\n",
      "Description for table from page 103 retrieved.\n",
      "Text from page 104 extracted.\n",
      "Description for table from page 104 retrieved.\n",
      "Text from page 105 extracted.\n",
      "Description for table from page 105 retrieved.\n",
      "Text from page 106 extracted.\n",
      "Description for table from page 106 retrieved.\n",
      "Text from page 107 extracted.\n",
      "Description for table from page 107 retrieved.\n",
      "Text from page 108 extracted.\n",
      "Description for table from page 108 retrieved.\n",
      "Text from page 109 extracted.\n",
      "Description for table from page 109 retrieved.\n",
      "Text from page 110 extracted.\n",
      "Description for table from page 110 retrieved.\n",
      "Text from page 111 extracted.\n",
      "Description for table from page 111 retrieved.\n",
      "Text from page 112 extracted.\n",
      "Description for table from page 112 retrieved.\n",
      "Text from page 113 extracted.\n",
      "Description for table from page 113 retrieved.\n",
      "Text from page 114 extracted.\n",
      "Description for table from page 114 retrieved.\n",
      "Text from page 115 extracted.\n",
      "Description for table from page 115 retrieved.\n",
      "Text from page 116 extracted.\n",
      "Description for table from page 116 retrieved.\n",
      "Text from page 117 extracted.\n",
      "Description for table from page 117 retrieved.\n",
      "Text from page 118 extracted.\n",
      "Description for table from page 118 retrieved.\n",
      "Text from page 119 extracted.\n",
      "Description for table from page 119 retrieved.\n",
      "Text from page 120 extracted.\n",
      "Description for table from page 120 retrieved.\n",
      "Text from page 121 extracted.\n",
      "Description for table from page 121 retrieved.\n",
      "Text from page 122 extracted.\n",
      "Description for table from page 122 retrieved.\n",
      "Text from page 123 extracted.\n",
      "Description for table from page 123 retrieved.\n",
      "Text from page 124 extracted.\n",
      "Description for table from page 124 retrieved.\n",
      "Text from page 125 extracted.\n",
      "Description for table from page 125 retrieved.\n",
      "Text from page 126 extracted.\n",
      "Description for table from page 126 retrieved.\n",
      "Text from page 127 extracted.\n",
      "Description for table from page 127 retrieved.\n",
      "Text from page 128 extracted.\n",
      "Description for table from page 128 retrieved.\n",
      "Text from page 129 extracted.\n",
      "Description for table from page 129 retrieved.\n",
      "Text from page 130 extracted.\n",
      "Description for table from page 130 retrieved.\n",
      "Text from page 131 extracted.\n",
      "Description for table from page 131 retrieved.\n",
      "Text from page 132 extracted.\n",
      "Description for table from page 132 retrieved.\n",
      "Text from page 133 extracted.\n",
      "Description for table from page 133 retrieved.\n",
      "Text from page 134 extracted.\n",
      "Description for table from page 134 retrieved.\n",
      "Text from page 135 extracted.\n",
      "Description for table from page 135 retrieved.\n",
      "Text from page 136 extracted.\n",
      "Description for table from page 136 retrieved.\n",
      "Text from page 137 extracted.\n",
      "Description for table from page 137 retrieved.\n",
      "Text from page 138 extracted.\n",
      "Description for table from page 138 retrieved.\n",
      "Text from page 139 extracted.\n",
      "Description for table from page 139 retrieved.\n",
      "Text from page 140 extracted.\n",
      "Description for table from page 140 retrieved.\n",
      "Text from page 141 extracted.\n",
      "Description for table from page 141 retrieved.\n",
      "Text from page 142 extracted.\n",
      "Description for table from page 142 retrieved.\n",
      "Text from page 143 extracted.\n",
      "Description for table from page 143 retrieved.\n",
      "Text from page 144 extracted.\n",
      "Description for table from page 144 retrieved.\n",
      "Text from page 145 extracted.\n",
      "Description for table from page 145 retrieved.\n",
      "Text from page 146 extracted.\n",
      "Description for table from page 146 retrieved.\n",
      "Text from page 147 extracted.\n",
      "Description for table from page 147 retrieved.\n",
      "Text from page 148 extracted.\n",
      "Description for table from page 148 retrieved.\n",
      "Text from page 149 extracted.\n",
      "Description for table from page 149 retrieved.\n",
      "Text from page 150 extracted.\n",
      "Description for table from page 150 retrieved.\n",
      "Text from page 151 extracted.\n",
      "Description for table from page 151 retrieved.\n",
      "Text from page 152 extracted.\n",
      "Description for table from page 152 retrieved.\n",
      "Text from page 153 extracted.\n",
      "Description for table from page 153 retrieved.\n",
      "Text from page 154 extracted.\n",
      "Description for table from page 154 retrieved.\n",
      "Text from page 155 extracted.\n",
      "Description for table from page 155 retrieved.\n",
      "Text from page 156 extracted.\n",
      "Description for table from page 156 retrieved.\n",
      "Text from page 157 extracted.\n",
      "Description for table from page 157 retrieved.\n",
      "Text from page 158 extracted.\n",
      "Description for table from page 158 retrieved.\n",
      "Text from page 159 extracted.\n",
      "Description for table from page 159 retrieved.\n",
      "Text from page 160 extracted.\n",
      "Description for table from page 160 retrieved.\n",
      "Text from page 161 extracted.\n",
      "Description for table from page 161 retrieved.\n",
      "Text from page 162 extracted.\n",
      "Description for table from page 162 retrieved.\n",
      "Text from page 163 extracted.\n",
      "Description for table from page 163 retrieved.\n",
      "Text from page 164 extracted.\n",
      "Description for table from page 164 retrieved.\n",
      "Text from page 165 extracted.\n",
      "Description for table from page 165 retrieved.\n",
      "Text from page 166 extracted.\n",
      "Description for table from page 166 retrieved.\n",
      "Text from page 167 extracted.\n",
      "Description for table from page 167 retrieved.\n",
      "Text from page 168 extracted.\n",
      "Description for table from page 168 retrieved.\n",
      "Text from page 169 extracted.\n",
      "Description for table from page 169 retrieved.\n",
      "Text from page 170 extracted.\n",
      "Description for table from page 170 retrieved.\n",
      "Text from page 171 extracted.\n",
      "Description for table from page 171 retrieved.\n",
      "Text from page 172 extracted.\n",
      "Description for table from page 172 retrieved.\n",
      "Text from page 173 extracted.\n",
      "Description for table from page 173 retrieved.\n",
      "Text from page 174 extracted.\n",
      "Description for table from page 174 retrieved.\n",
      "Text from page 175 extracted.\n",
      "Description for table from page 175 retrieved.\n",
      "Text from page 176 extracted.\n",
      "Description for table from page 176 retrieved.\n",
      "Text from page 177 extracted.\n",
      "Description for table from page 177 retrieved.\n",
      "Text from page 178 extracted.\n",
      "Description for table from page 178 retrieved.\n",
      "Text from page 179 extracted.\n",
      "Description for table from page 179 retrieved.\n",
      "Text from page 180 extracted.\n",
      "Description for table from page 180 retrieved.\n",
      "Text from page 181 extracted.\n",
      "Description for table from page 181 retrieved.\n",
      "Text from page 182 extracted.\n",
      "Description for table from page 182 retrieved.\n",
      "Text from page 183 extracted.\n",
      "Description for table from page 183 retrieved.\n",
      "Text from page 184 extracted.\n",
      "Description for table from page 184 retrieved.\n",
      "Text from page 185 extracted.\n",
      "Description for table from page 185 retrieved.\n",
      "Text from page 186 extracted.\n",
      "Description for table from page 186 retrieved.\n",
      "Text from page 187 extracted.\n",
      "Description for table from page 187 retrieved.\n",
      "Text from page 188 extracted.\n",
      "Description for table from page 188 retrieved.\n",
      "Text from page 189 extracted.\n",
      "Description for table from page 189 retrieved.\n",
      "Text from page 190 extracted.\n",
      "Description for table from page 190 retrieved.\n",
      "Text from page 191 extracted.\n",
      "Description for table from page 191 retrieved.\n",
      "Text from page 192 extracted.\n",
      "Description for table from page 192 retrieved.\n",
      "Text from page 193 extracted.\n",
      "Description for table from page 193 retrieved.\n",
      "Text from page 194 extracted.\n",
      "Description for table from page 194 retrieved.\n",
      "Text from page 195 extracted.\n",
      "Description for table from page 195 retrieved.\n",
      "Text from page 196 extracted.\n",
      "Description for table from page 196 retrieved.\n"
     ]
    }
   ],
   "source": [
    "start = time.time()\n",
    "data_array = extract_multimodal_data(r\"final.pdf\") # final.pdf is all the 11 pdf's combined into one\n",
    "end = time.time()"
   ]
  },
  {
   "cell_type": "code",
   "execution_count": 11,
   "id": "28dd6ea3",
   "metadata": {},
   "outputs": [
    {
     "name": "stdout",
     "output_type": "stream",
     "text": [
      "Time taken to process document: 7.77 hours\n",
      "Number of elements extracted: 2244\n"
     ]
    }
   ],
   "source": [
    "print(f\"Time taken to process document: {(end - start) / 60 / 60:.2f} hours\")\n",
    "print(f\"Number of elements extracted: {len(data_array)}\")"
   ]
  },
  {
   "cell_type": "markdown",
   "id": "762ac64b",
   "metadata": {},
   "source": [
    "It must be noted that the prmary reason for such latency is due to the VLM being inferenced locally. Processing a single image takes around 40 seconds in my testing.<br><br>\n",
    "This issue can be reduced in 2 ways:\n",
    "1. By using a cloud based VLM. Example, `gpt-4o-mini` from OpenAI\n",
    "2. Introcuding concurrency / parallel processing"
   ]
  },
  {
   "cell_type": "markdown",
   "id": "1e10cf20",
   "metadata": {},
   "source": [
    "_Saving the data array locally._"
   ]
  },
  {
   "cell_type": "code",
   "execution_count": 12,
   "id": "8e6bf52f",
   "metadata": {},
   "outputs": [],
   "source": [
    "with open(\"data_array\", \"wb\") as fp:   \n",
    "    pickle.dump(data_array, fp)"
   ]
  },
  {
   "cell_type": "markdown",
   "id": "077b5c99",
   "metadata": {},
   "source": [
    ">##### RAG Setup"
   ]
  },
  {
   "cell_type": "markdown",
   "id": "1dcd1a7b",
   "metadata": {},
   "source": [
    "_Loading the data array._"
   ]
  },
  {
   "cell_type": "code",
   "execution_count": 15,
   "id": "9dd3d278",
   "metadata": {},
   "outputs": [
    {
     "name": "stdout",
     "output_type": "stream",
     "text": [
      "Element count: 2244\n"
     ]
    }
   ],
   "source": [
    "with open(\"data_array\", \"rb\") as fp:   \n",
    "    data_array = pickle.load(fp)\n",
    "print(f\"Element count: {len(data_array)}\")"
   ]
  },
  {
   "cell_type": "markdown",
   "id": "237ab4db",
   "metadata": {},
   "source": [
    "Now we make chunks. The strategy used here is overlap chunking. My plan is to have chunks of size 20 with an overlap of 10. This can be edited later."
   ]
  },
  {
   "cell_type": "code",
   "execution_count": 16,
   "id": "2f825058",
   "metadata": {},
   "outputs": [],
   "source": [
    "def make_chunks(data_array, size, overlap):\n",
    "    chunks = []\n",
    "    step = size - overlap\n",
    "\n",
    "    for i in range(0, len(data_array), step):\n",
    "        chunk = data_array[i : i + size]\n",
    "        chunks.append(chunk)\n",
    "    return chunks"
   ]
  },
  {
   "cell_type": "code",
   "execution_count": 50,
   "id": "e16484a2",
   "metadata": {},
   "outputs": [
    {
     "data": {
      "text/plain": [
       "True"
      ]
     },
     "execution_count": 50,
     "metadata": {},
     "output_type": "execute_result"
    }
   ],
   "source": [
    "chunks = make_chunks(data_array, 10, 5)\n",
    "chunks[0][5] == chunks[1][0] # checking if the overlap strategy worked"
   ]
  },
  {
   "cell_type": "code",
   "execution_count": 51,
   "id": "712e9133",
   "metadata": {},
   "outputs": [
    {
     "name": "stdout",
     "output_type": "stream",
     "text": [
      "Number of chunks: 449\n"
     ]
    }
   ],
   "source": [
    "print(f\"Number of chunks: {len(chunks)}\")"
   ]
  },
  {
   "cell_type": "markdown",
   "id": "b0e8225d",
   "metadata": {},
   "source": [
    "_Converting chunks to embeddings._"
   ]
  },
  {
   "cell_type": "code",
   "execution_count": 52,
   "id": "3aa9e23e",
   "metadata": {},
   "outputs": [],
   "source": [
    "embedding_model = SentenceTransformer('sentence-transformers/all-mpnet-base-v2')"
   ]
  },
  {
   "cell_type": "code",
   "execution_count": 53,
   "id": "834bf8b6",
   "metadata": {},
   "outputs": [],
   "source": [
    "def get_embedding_vecs(chunks, embedding_model):\n",
    "    embeddings = []\n",
    "    for chunk in chunks:\n",
    "        chunk = str(chunk)\n",
    "        embedding = embedding_model.encode(chunk).reshape(1, -1)\n",
    "        embeddings.append(embedding)\n",
    "    return embeddings"
   ]
  },
  {
   "cell_type": "code",
   "execution_count": 54,
   "id": "432d9283",
   "metadata": {},
   "outputs": [],
   "source": [
    "embedding_vecs = get_embedding_vecs(chunks, embedding_model)"
   ]
  },
  {
   "cell_type": "markdown",
   "id": "57e26601",
   "metadata": {},
   "source": [
    "_Get the user query and pass the it into the same embedding model._"
   ]
  },
  {
   "cell_type": "code",
   "execution_count": 55,
   "id": "8dfa9414",
   "metadata": {},
   "outputs": [],
   "source": [
    "def get_query_embedding(data, embedding_model):\n",
    "    return embedding_model.encode(data).reshape(1, -1)"
   ]
  },
  {
   "cell_type": "code",
   "execution_count": 56,
   "id": "610b0aa3",
   "metadata": {},
   "outputs": [],
   "source": [
    "QUERY = \"Tell me about kice cyclone parts.\"\n",
    "query_embedding = get_query_embedding(QUERY, embedding_model)"
   ]
  },
  {
   "cell_type": "markdown",
   "id": "73b0667c",
   "metadata": {},
   "source": [
    "_Calculate cosine similarity between user query and all the embedding vectors._"
   ]
  },
  {
   "cell_type": "code",
   "execution_count": 57,
   "id": "c6cfa767",
   "metadata": {},
   "outputs": [],
   "source": [
    "def cosine_sim(query_embedding, embedding_vecs):\n",
    "    scores = []\n",
    "    for i in range(len(embedding_vecs)):\n",
    "        score = dot(query_embedding, embedding_vecs[i].T) / (norm(query_embedding) * norm(embedding_vecs[i]))\n",
    "        scores.append(score)\n",
    "    return scores"
   ]
  },
  {
   "cell_type": "code",
   "execution_count": 58,
   "id": "32ddac38",
   "metadata": {},
   "outputs": [],
   "source": [
    "sim_scores = cosine_sim(query_embedding, embedding_vecs)\n",
    "sim_scores = [item.item() for item in sim_scores]"
   ]
  },
  {
   "cell_type": "markdown",
   "id": "e2380b4f",
   "metadata": {},
   "source": [
    "_Making sure that the number of scores matches number of chunks._"
   ]
  },
  {
   "cell_type": "code",
   "execution_count": 59,
   "id": "e1f40897",
   "metadata": {},
   "outputs": [
    {
     "name": "stdout",
     "output_type": "stream",
     "text": [
      "Lengths match. Good to go.\n"
     ]
    }
   ],
   "source": [
    "if len(sim_scores) == len(chunks):\n",
    "    print(\"Lengths match. Good to go.\")\n",
    "else:\n",
    "    print(\"There is a length mismatch. Some mistake has taken place earlier.\")"
   ]
  },
  {
   "cell_type": "markdown",
   "id": "9c07cecc",
   "metadata": {},
   "source": [
    "_Get top-k chunk indices. Default is set to 8._"
   ]
  },
  {
   "cell_type": "code",
   "execution_count": 60,
   "id": "741f7817",
   "metadata": {},
   "outputs": [],
   "source": [
    "def top_k_ids(sim_scores, k = 8):\n",
    "    sim_scores = np.array(sim_scores)\n",
    "    top_k_indices = np.argsort(sim_scores)[::-1][:k]\n",
    "    return top_k_indices.tolist()"
   ]
  },
  {
   "cell_type": "code",
   "execution_count": 61,
   "id": "eccd4f9d",
   "metadata": {},
   "outputs": [
    {
     "name": "stdout",
     "output_type": "stream",
     "text": [
      "[161, 167, 169, 155, 160, 173, 154, 170]\n"
     ]
    }
   ],
   "source": [
    "top_k_ids = top_k_ids(sim_scores)\n",
    "print(top_k_ids)"
   ]
  },
  {
   "cell_type": "markdown",
   "id": "317bb6a8",
   "metadata": {},
   "source": [
    "_Extract context based on top-k chunk indices._"
   ]
  },
  {
   "cell_type": "code",
   "execution_count": 62,
   "id": "547a0826",
   "metadata": {},
   "outputs": [],
   "source": [
    "def get_final_context(chunks, top_k_ids):\n",
    "    final_context = []\n",
    "    for i in range(len(chunks)):\n",
    "        if i in top_k_ids:\n",
    "            final_context.append(chunks[i])\n",
    "    return str(final_context)"
   ]
  },
  {
   "cell_type": "code",
   "execution_count": 63,
   "id": "84ea5923",
   "metadata": {},
   "outputs": [
    {
     "name": "stdout",
     "output_type": "stream",
     "text": [
      "[[{'type': 'TEXT DATA', 'page': 63, 'y': 758.3043823242188, 'content': 'II 3 D c'}, {'type': 'TEXT DATA', 'page': 64, 'y': 30.996490478515625, 'content': 'I ntroduction'}, {'type': 'TEXT DATA', 'page': 64, 'y': 68.94229888916016, 'content': 'When you purchased your Kice Cyclone, you obtained a high efficiency product cleaner of a proven design  based on thousands of installations and years of proven reliability and operation.'}, {'type': 'TEXT DATA', 'page': 64, 'y': 108.5423355102539, 'content': 'We’re proud of our products and the people at Kice Industries who craft them.  At Kice, we use high  manufacturing standards and processes to produce the highest quality products, which have been a  trademark of our organization for over 60 years.'}, {'type': 'TEXT DATA', 'page': 64, 'y': 161.34239196777344, 'content': 'Our product development work, driven by the requirements of our customers, has resulted in the present  designs of the Kice Cyclones.'}, {'type': 'TEXT DATA', 'page': 64, 'y': 200.9424285888672, 'content': 'This owner’s manual is intended as a guide for the proper installation, operation and maintenance to keep  your Kice Cyclone operating safely and efficiently on the job.  Service information is also included for your  benefit.'}, {'type': 'TEXT DATA', 'page': 64, 'y': 253.7424774169922, 'content': 'Sincerely,'}, {'type': 'TEXT DATA', 'page': 64, 'y': 293.34246826171875, 'content': 'Drew Kice, President Kice Industries, Inc.'}, {'type': 'TEXT DATA', 'page': 64, 'y': 332.9923095703125, 'content': 'W arranty'}, {'type': 'TEXT DATA', 'page': 64, 'y': 361.7422790527344, 'content': 'Limited Warranty and Limitations of Warranty: Kice warrants the equipment manufactured by Kice to be  free of defects in material and workmanship for a period of one (1) year from the date of shipment.  Kice  agrees to repair or replace, at its discretion, any parts found to be defective in the opinion of Kice.  Kice  is not liable for any costs in connection with the removal, shipment or reinstallation of said parts.  This  warranty does not apply to abrasion, corrosion, erosion, abuse or misuse of the product.  Assistance by  Kice in system layout or selecting equipment does not imply Kice’s responsibility.  Buyer agrees to look to  the warranty, if any, of the manufacturer or supplier of products manufactured by others and supplied by  Kice for any alleged defects in such products and for any damages or injuries caused thereby or as a result  thereof.  Where work is made to measurements or specifications furnished by the Buyer, Kice does not  assume any responsibility for the accuracy of Buyer’s specifications.  Kice will not assume responsibility for  alteration or repairs unless the same are made with the written consent and approval of Kice.'}], [{'type': 'TEXT DATA', 'page': 64, 'y': 200.9424285888672, 'content': 'This owner’s manual is intended as a guide for the proper installation, operation and maintenance to keep  your Kice Cyclone operating safely and efficiently on the job.  Service information is also included for your  benefit.'}, {'type': 'TEXT DATA', 'page': 64, 'y': 253.7424774169922, 'content': 'Sincerely,'}, {'type': 'TEXT DATA', 'page': 64, 'y': 293.34246826171875, 'content': 'Drew Kice, President Kice Industries, Inc.'}, {'type': 'TEXT DATA', 'page': 64, 'y': 332.9923095703125, 'content': 'W arranty'}, {'type': 'TEXT DATA', 'page': 64, 'y': 361.7422790527344, 'content': 'Limited Warranty and Limitations of Warranty: Kice warrants the equipment manufactured by Kice to be  free of defects in material and workmanship for a period of one (1) year from the date of shipment.  Kice  agrees to repair or replace, at its discretion, any parts found to be defective in the opinion of Kice.  Kice  is not liable for any costs in connection with the removal, shipment or reinstallation of said parts.  This  warranty does not apply to abrasion, corrosion, erosion, abuse or misuse of the product.  Assistance by  Kice in system layout or selecting equipment does not imply Kice’s responsibility.  Buyer agrees to look to  the warranty, if any, of the manufacturer or supplier of products manufactured by others and supplied by  Kice for any alleged defects in such products and for any damages or injuries caused thereby or as a result  thereof.  Where work is made to measurements or specifications furnished by the Buyer, Kice does not  assume any responsibility for the accuracy of Buyer’s specifications.  Kice will not assume responsibility for  alteration or repairs unless the same are made with the written consent and approval of Kice.'}, {'type': 'TEXT DATA', 'page': 64, 'y': 520.0103759765625, 'content': 'BUYER SHALL BE RESPONSIBLE FOR COMPLIANCE WITH ELECTRICAL MANUFACTURER’S  RECOMMENDATIONS, UNDERWRITERS CODE AND ALL SAFETY PRECAUTIONS.'}, {'type': 'TEXT DATA', 'page': 64, 'y': 559.742431640625, 'content': 'Kice extends no other warranty for any of its products other than the above express warranty, and there  are no other warranties, express or implied, including warranties of merchantability, fitness for a particular  purpose or otherwise which extend beyond the above limited express warranty.  Kice and its dealers shall  not in any event be liable for consequential or incidental damages, and this agreement provides buyer’s  sole and exclusive remedy.  Any actions for breach of this agreement or warranty must be commenced  within one year after the cause of action has occurred.'}, {'type': 'TEXT DATA', 'page': 64, 'y': 754.7430419921875, 'content': '2 K ice  I ndustries , I nc .'}, {'type': 'TEXT DATA', 'page': 65, 'y': 30.996490478515625, 'content': 'T able   of  C ontents'}, {'type': 'TEXT DATA', 'page': 65, 'y': 60.288516998291016, 'content': 'I ntroduction ......................................................................................................................................\\x082'}], [{'type': 'TEXT DATA', 'page': 66, 'y': 30.996490478515625, 'content': '1. G eneral  I nformation'}, {'type': 'TEXT DATA', 'page': 66, 'y': 68.52032470703125, 'content': 'T o   the  N ew  O wner \\t The purpose of this manual is to assist owners and operators in maintaining and operating Kice Cyclone  systems.  Please read it carefully; information and instructions furnished can help you achieve years  of dependable performance.  Separate manuals are included for auxiliary equipment, such as airlock  valves, fans, cyclones and filters.  They contain additional information that may not be repeated in this  manual.  You are urged to read all manuals before attempting any operation or repair of the equipment  in the system.  If these manuals are not included in your owner’s packet, contact our customer service  department.  \\t Along with high efficiency separation of particles, some fringe benefits are often obtained which add to the  desirability of the Kice Cyclones.  These benefits include:'}, {'type': 'TEXT DATA', 'page': 66, 'y': 241.2704315185547, 'content': '1.\\t Cooling of material, depending on particle size and temperature differential of air and stock. 2.\\t Conveying of the liftings to the desired destination by the same air that lifts the fines from the stock 3.\\t Virtually no operator or maintenance attention is required because of the simplicity of the unit.  Once  the air volume is adjusted to lift the desired particles, the unit will consistently remove the majority of  these particles that are present in the incoming product.'}, {'type': 'TEXT DATA', 'page': 66, 'y': 320.470458984375, 'content': 'General operation, adjustment and maintenance guidelines are outlined for owners and operators of  Kice Cyclones.  Operating conditions vary considerably and cannot be addressed individually.  Through  experience, however, operators should have no difficulty in developing good operating, safety and  monitoring skills. \\t The term “disconnect and lockout” as used in this manual means that power to the equipment has been  disconnected through the use of a padlock, manual, power cutoff, or power lockout switch. \\t Directions used in this manual, for example RIGHT or LEFT, CLOCKWISE or COUNTERCLOCKWISE,  refer to directions when facing the front (air inlet) side of the Cyclone or looking down in plan view.'}, {'type': 'TEXT DATA', 'page': 66, 'y': 465.6705627441406, 'content': 'Photographs and illustrations were current at the time of printing, but subsequent production revisions  may cause your Cyclone to vary slightly in detail.  Kice Industries, Inc., reserves the right to redesign and  change the equipment as deemed necessary, without notification.  If a change has been made to your Kice  Cyclone that is not reflected in this owner’s manual, please write or call Kice Industries, Inc., for current  parts and information.'}, {'type': 'TEXT DATA', 'page': 66, 'y': 754.7430419921875, 'content': '4 K ice  I ndustries , I nc .'}, {'type': 'TEXT DATA', 'page': 67, 'y': 32.520328521728516, 'content': 'G eneral  I nformation  C ontinued'}, {'type': 'TEXT DATA', 'page': 67, 'y': 68.52032470703125, 'content': 'M odel   and  S erial  N umber The Kice Cyclone model and serial number can be found stamped on the metal identification plate located  near the horizontal inlet of the Cyclone (just behind the air inlet flange).'}, {'type': 'TEXT DATA', 'page': 67, 'y': 276.142578125, 'content': 'Identification Plate Examples'}, {'type': 'TEXT DATA', 'page': 67, 'y': 302.5926818847656, 'content': 'K ice  C yclone  P arts   and  S ervices'}], [{'type': 'TEXT DATA', 'page': 66, 'y': 754.7430419921875, 'content': '4 K ice  I ndustries , I nc .'}, {'type': 'TEXT DATA', 'page': 67, 'y': 32.520328521728516, 'content': 'G eneral  I nformation  C ontinued'}, {'type': 'TEXT DATA', 'page': 67, 'y': 68.52032470703125, 'content': 'M odel   and  S erial  N umber The Kice Cyclone model and serial number can be found stamped on the metal identification plate located  near the horizontal inlet of the Cyclone (just behind the air inlet flange).'}, {'type': 'TEXT DATA', 'page': 67, 'y': 276.142578125, 'content': 'Identification Plate Examples'}, {'type': 'TEXT DATA', 'page': 67, 'y': 302.5926818847656, 'content': 'K ice  C yclone  P arts   and  S ervices'}, {'type': 'TEXT DATA', 'page': 67, 'y': 331.34259033203125, 'content': 'Use original Kice Cyclone replacement parts only.  These parts are available from Kice Industries, Inc.  To  obtain prompt, efficient service, always provide the following information when ordering parts:'}, {'type': 'TEXT DATA', 'page': 67, 'y': 370.9425964355469, 'content': '1.\\t Correct model number 2.\\t Correct serial number'}, {'type': 'TEXT DATA', 'page': 67, 'y': 410.5426025390625, 'content': 'For assistance in service or ordering parts, contact the customer service department at Kice Industries,  Inc., 5500 Mill Heights Drive, Wichita, KS 67219-2358, Phone 316-744-7151, and Fax 316-744-7355.'}, {'type': 'TEXT DATA', 'page': 67, 'y': 450.0106201171875, 'content': 'IMPORTANT:  Any unauthorized modification, alteration, or use of non-approved attachments voids the  warranty and releases Kice Industries, Inc., from any liability arising from subsequent use of the equipment.  Each type of Cyclone is designed to be used with a specific type and quantity of material.  Using the  Cyclone for any purpose other than that for which it was designed could result in reduced aspiration  performance or personal injury, as well as, product or property damage.'}, {'type': 'TEXT DATA', 'page': 67, 'y': 529.392578125, 'content': 'F or  M otor   and  S peed  R educer  P arts   and  S ervice'}], [{'type': 'TEXT DATA', 'page': 70, 'y': 97.27030181884766, 'content': 'Kice Industries, Inc. has prepared your new Cyclone for shipment in accordance with the Uniform Freight  Classification.  It has been thoroughly inspected at the factory and, barring damage in transit, should be in  excellent condition upon arrival. \\t The Kice Cyclone and accessory equipment should be inspected upon receipt for any shipping damage.  If  dampers or shutters are provided, check these accessories for free operation of all moving parts. \\t When a carrier signs the Kice Industries, Inc., bill of lading, the  carrier accepts the responsibility  for  any subsequent shortages or damage, evident or concealed, and  any claim must be made against the  carrier by the purchaser .  Evident shortage or  damage should be noted on the carrier’s delivery  document  before signature of acceptance.  Inspection by the carrier of damage, evident or concealed,  must be requested.  After inspection, issue a purchase order for necessary parts or arrange for return of  the equipment to Kice Industries, Inc., for repair.'}, {'type': 'TEXT DATA', 'page': 70, 'y': 282.12030029296875, 'content': 'C yclone  H andling   and  S torage'}, {'type': 'TEXT DATA', 'page': 70, 'y': 310.87030029296875, 'content': 'Kice cyclones are shipped completely assembled and skidded when size permits.  These units may be  handled and moved using good rigging techniques, being careful to avoid concentrated stresses that will  distort any of the parts.  Items or parts of the cyclones that are shipped separately (knocked down) will be  clearly labeled for reassembly.'}, {'type': 'TEXT DATA', 'page': 70, 'y': 376.8703308105469, 'content': 'If the cyclone is not to be installed promptly, store it in a clean, dry location to prevent rust and corrosion  of steel components.  If outdoor storage is necessary, protection should be provided.  Cover the inlets  and outlets to prevent the accumulation of dirt and moisture inside the housing.  Refer to the cyclone  maintenance section of this manual regarding any further storage instructions.'}, {'type': 'TEXT DATA', 'page': 70, 'y': 754.7430419921875, 'content': '8 K ice  I ndustries , I nc .'}, {'type': 'TEXT DATA', 'page': 71, 'y': 32.520328521728516, 'content': 'C yclone  I nformation   and  O perating  I nstructions  C ontinued'}, {'type': 'TEXT DATA', 'page': 71, 'y': 68.52032470703125, 'content': 'C yclone  I nstallation'}, {'type': 'TEXT DATA', 'page': 71, 'y': 97.27030181884766, 'content': 'To ensure appropriate cyclone operation, the unit must be adequately supported and properly installed.'}, {'type': 'TEXT DATA', 'page': 71, 'y': 123.538330078125, 'content': 'After unpacking and inspection has been completed, install the Cyclone with the following  guidelines:'}, {'type': 'TEXT DATA', 'page': 71, 'y': 214.35130310058594, 'content': 'Lifting Lugs'}], [{'type': 'TEXT DATA', 'page': 71, 'y': 242.34629821777344, 'content': 'Mounting Points'}, {'type': 'TEXT DATA', 'page': 71, 'y': 340.7082824707031, 'content': 'The Cyclone has locations where the equipment necessary for lifting the device can be attached.  These  will be the lifting lugs and/or the frame mounts of the cyclone where it will be attached to a support structure  (see figure above).'}, {'type': 'TEXT DATA', 'page': 71, 'y': 393.50830078125, 'content': 'Lifting the cyclone at any other point is hazardous and may compromise human safety as well as the  structural integrity of cyclone itself.'}, {'type': 'TEXT DATA', 'page': 71, 'y': 433.1083068847656, 'content': 'The cyclone must be lifted by a means with sufficient lifting capacity.'}, {'type': 'TEXT DATA', 'page': 71, 'y': 459.3763122558594, 'content': 'CAUTION:  Use the proper equipment when lifting or moving the Cyclone.  Make sure all persons and  obstructions are clear from path and installation area.'}, {'type': 'TEXT DATA', 'page': 71, 'y': 499.1083068847656, 'content': 'Kice Cyclones may be supported in two different ways.  Smaller cyclones may be designed to be supported  by the duct work or machinery connected to them, but most are designed with frame mounts in order to be  supported by an additional structure or framework (see figure above).  The unit should only be mounted  on a structure designed to support it.  The cyclone must be separately grounded, and installed on steel  construction intended for this purpose.  Product inlet or outlet transitions are not designed to support the  weight of accessory equipment such as an airlock valve.  If the unit is installed outdoors, cross bracing from  the angle iron frame may be required for wind loading connections.  The Cyclone should be installed in a  level position, to prevent material from flowing to one side of the unit, thereby ensuring proper and efficient  operation.  Remove all foreign material before fully enclosing and operating the cyclone.'}, {'type': 'TEXT DATA', 'page': 71, 'y': 631.1083374023438, 'content': 'Place a bead of caulking (or any provided gasket material) to seal the inlet and outlet points of the cyclone  during installation.'}, {'type': 'TEXT DATA', 'page': 71, 'y': 670.7083129882812, 'content': 'Proper installation of the cyclone also includes assembling the duct work and required machinery to  the cyclone, fully enclosing it for quality operation.  The unit should only be operated once it is properly  connected and fully encapsulated.  All duct work or stacks should be independently supported as excess  weight may distort the cyclone assembly, causing improper airflow which may affect the efficiency of the  unit, and all subsequent points in the system.'}, {'type': 'TEXT DATA', 'page': 71, 'y': 754.742919921875, 'content': '9 K ice  I ndustries , I nc .'}, {'type': 'TEXT DATA', 'page': 72, 'y': 32.520328521728516, 'content': 'C yclone  I nformation   and  O perating  I nstructions  C ontinued'}], [{'type': 'TEXT DATA', 'page': 71, 'y': 499.1083068847656, 'content': 'Kice Cyclones may be supported in two different ways.  Smaller cyclones may be designed to be supported  by the duct work or machinery connected to them, but most are designed with frame mounts in order to be  supported by an additional structure or framework (see figure above).  The unit should only be mounted  on a structure designed to support it.  The cyclone must be separately grounded, and installed on steel  construction intended for this purpose.  Product inlet or outlet transitions are not designed to support the  weight of accessory equipment such as an airlock valve.  If the unit is installed outdoors, cross bracing from  the angle iron frame may be required for wind loading connections.  The Cyclone should be installed in a  level position, to prevent material from flowing to one side of the unit, thereby ensuring proper and efficient  operation.  Remove all foreign material before fully enclosing and operating the cyclone.'}, {'type': 'TEXT DATA', 'page': 71, 'y': 631.1083374023438, 'content': 'Place a bead of caulking (or any provided gasket material) to seal the inlet and outlet points of the cyclone  during installation.'}, {'type': 'TEXT DATA', 'page': 71, 'y': 670.7083129882812, 'content': 'Proper installation of the cyclone also includes assembling the duct work and required machinery to  the cyclone, fully enclosing it for quality operation.  The unit should only be operated once it is properly  connected and fully encapsulated.  All duct work or stacks should be independently supported as excess  weight may distort the cyclone assembly, causing improper airflow which may affect the efficiency of the  unit, and all subsequent points in the system.'}, {'type': 'TEXT DATA', 'page': 71, 'y': 754.742919921875, 'content': '9 K ice  I ndustries , I nc .'}, {'type': 'TEXT DATA', 'page': 72, 'y': 32.520328521728516, 'content': 'C yclone  I nformation   and  O perating  I nstructions  C ontinued'}, {'type': 'TEXT DATA', 'page': 72, 'y': 68.94229888916016, 'content': 'NOTE:  To ensure proper operation and optimum cyclone efficiency, inlet and outlet ductwork design is  critical.  The ductwork should have a length of straight section from the inlet and outlet of the cyclone that is  at least five times the diameter of the duct.  If this not possible, elbows in the ductwork should be oriented  in a manner that refrains from countering the air rotation inside the cyclone.  This will help maintain  efficiency.  Some acceptable examples include:'}, {'type': 'TEXT DATA', 'page': 72, 'y': 342.0105895996094, 'content': 'An unacceptable example would include:'}, {'type': 'TEXT DATA', 'page': 72, 'y': 554.7489013671875, 'content': 'Also to ensure proper rotation, verify the cyclone outlet is opposite the inlet on the cyclone body as  shown in the above figures.'}, {'type': 'TEXT DATA', 'page': 72, 'y': 754.7430419921875, 'content': '10 K ice  I ndustries , I nc .'}, {'type': 'TEXT DATA', 'page': 73, 'y': 32.520328521728516, 'content': 'C yclone  I nformation   and  O perating  I nstructions  C ontinued'}], [{'type': 'TEXT DATA', 'page': 73, 'y': 404.6282958984375, 'content': '4. S tart -U p  P rocedure 1.\\t Insure that all personnel are clear of any moving pieces of equipment. 2.\\t Start the motors on the Cyclone accessory equipment, such as fans, filters and airlock valves.  3.\\t Start any conveying equipment mounted beneath the discharge of the Cyclone. 4.\\t Start the material feeding into the system. 5.\\t Begin opening the fan damper until excessive material (that has a higher terminal velocity than the  material slated to be removed) is detected in the output stream.  The determination of what material  is to be removed will be made by the system operator. 6.\\t Slightly decrease the airflow by slowly closing the fan damper and lock the damper in place at the  optimum setting.'}, {'type': 'TEXT DATA', 'page': 73, 'y': 558.228271484375, 'content': '5. C yclone  M aintenance There are no moving parts in the Kice Cyclone to wear out or malfunction, so no lubrication or periodic  servicing is required.  Kice Cyclones are designed and built in a manner such that all wall thicknesses  are sufficient to the point that danger due to wear and tear can be excluded.  However, elbows, fans and  separators in the system are subject to the normal wear expected in any system handling comparable  stocks, so equipment must be examined regularly for signs of wear and damage.  Painted surfaces must  be cleaned by means of vacuuming and with an anti-static cloth.  If heavy machine components must be  dismantled to carry out service and maintenance activities, suitable lifting equipment must be used.  Use  the proper hardware torque values listed at the end of this manual for all maintenance and installation  activity.'}, {'type': 'TEXT DATA', 'page': 73, 'y': 754.742919921875, 'content': '11 K ice  I ndustries , I nc .'}, {'type': 'TEXT DATA', 'page': 74, 'y': 32.520328521728516, 'content': '5. C yclone  M aintenance  C ontinued'}, {'type': 'TEXT DATA', 'page': 74, 'y': 68.94229888916016, 'content': '1.\\t The cyclone inlet, barrel and cone for signs of wear and damage. 2.\\t The cyclone door & connections (if equipped) for a proper seal. 3.\\t The proper function of the rotary airlock valve attached to the cyclone, to verify that material is  adequately removed to maintain cyclone efficiency.  The airlock may need to be inspected for signs  of wear (see rotary airlock manual). 4.\\t Material buildup inside the cyclone which may affect function and efficiency.'}, {'type': 'TEXT DATA', 'page': 74, 'y': 161.34239196777344, 'content': 'Painted surfaces must be cleaned by means of vacuuming and with an anti-static cloth.   As a means to verify or troubleshoot cyclone efficiency, air volume can be measured and checked against  the air system specifications as well.'}, {'type': 'TEXT DATA', 'page': 74, 'y': 214.14244079589844, 'content': 'If heavy machine components must be dismantled to carry out service and maintenance activities, suitable  lifting equipment must be used.  Use the proper hardware torque values listed at the end of this manual for  all maintenance and installation activity.'}, {'type': 'TEXT DATA', 'page': 74, 'y': 268.30029296875, 'content': '6. S pecial  ATEX I nformation'}, {'type': 'TEXT DATA', 'page': 74, 'y': 301.7422790527344, 'content': 'The Cyclone is intended for use in areas in which explosive atmospheres caused by air/dusts mixtures are  unlikely to occur or, if they do occur, are likely to do so only infrequently and for a short period only.'}, {'type': 'TEXT DATA', 'page': 74, 'y': 341.4302978515625, 'content': 'When installing any electric or non-electric equipment on the cyclone, be sure that all those components  are suitable for being operated in zone 22, meaning they must fulfill the ATEX-requirements for Group II  category 3D equipment.'}]]\n"
     ]
    }
   ],
   "source": [
    "final_context = get_final_context(chunks, top_k_ids)\n",
    "print(final_context)"
   ]
  },
  {
   "cell_type": "markdown",
   "id": "f28a1092",
   "metadata": {},
   "source": [
    "Now for the final step, we make a function the an LLM that will answer the user query based on all the context that has been extracted. The prompt engineering here is very crucial as the LLM must know how all the information has been extracted and how the context is formatted.<br><br>\n",
    "We will be using the LLM `gpt-oss-120b`, sourced form Groq cloud."
   ]
  },
  {
   "cell_type": "code",
   "execution_count": 64,
   "id": "eaba8df5",
   "metadata": {},
   "outputs": [],
   "source": [
    "final_llm_sys_prompt = \"\"\"You are a document assistant. Answer the user query using only the provided context.\n",
    "\n",
    "    The context contains text, tables, and images with y-axis coordinates indicating their position on the page.\n",
    "\n",
    "    **Instructions:**\n",
    "    - Answer accurately based on the context\n",
    "    - If information is insufficient, state this clearly\n",
    "    - Use y-coordinates to understand content order and relationships\n",
    "    - Consider all content types (text, tables, images) together\n",
    "    - Keep the answers as brief as possible while keeping necessary information.\n",
    "\n",
    "    **Reference Format:**\n",
    "    At the end of your answer, provide references in this exact format:\n",
    "\n",
    "    References:\n",
    "    - [Content Type: text/table/image, Page number: {value}]\n",
    "    - [Content Type: text/table/image, Page number: {value}]\n",
    "\n",
    "    Only include references for content you actually used in your answer.\n",
    "\"\"\""
   ]
  },
  {
   "cell_type": "code",
   "execution_count": null,
   "id": "efd6c2a7",
   "metadata": {},
   "outputs": [],
   "source": [
    "def qna(final_llm_sys_prompt, context, query):\n",
    "    completion = client.chat.completions.create(\n",
    "        model=\"openai/gpt-oss-120b\",\n",
    "        messages = [\n",
    "                {\"role\": \"system\", \"content\": final_llm_sys_prompt},\n",
    "                {\"role\": \"user\", \"content\": f\"\"\"Based on the context: {context} \\n\\n Answer the question: {query}\"\"\"}\n",
    "            ],\n",
    "        temperature = 0.3, # lower temperature for more deterministic responses\n",
    "        max_completion_tokens = 8192,\n",
    "        top_p = 1,\n",
    "        reasoning_effort = \"medium\",\n",
    "    )\n",
    "\n",
    "    return completion.choices[0].message.content"
   ]
  },
  {
   "cell_type": "markdown",
   "id": "f00b192a",
   "metadata": {},
   "source": [
    ">##### Inference"
   ]
  },
  {
   "cell_type": "code",
   "execution_count": 66,
   "id": "825aac3c",
   "metadata": {},
   "outputs": [
    {
     "name": "stdout",
     "output_type": "stream",
     "text": [
      "Query: Tell me about kice cyclone parts.\n",
      "Response: Kice Cyclone parts are supplied only by Kice Industries, Inc. The manual stresses that **only original Kice Cyclone replacement parts should be used** and that they are available directly from the company. When ordering parts you must provide the **correct model number and serial number** of the cyclone, and you can contact Kice’s customer‑service department (5500 Mill Heights Drive, Wichita, KS 67219‑2358; Phone 316‑744‑7151; Fax 316‑744‑7355). The parts catalogue includes **motor and speed‑reducer components** as well as other service items. The manual also warns that any **unauthorized modification, alteration, or use of non‑approved attachments voids the warranty** and releases Kice Industries from liability. A “Kice Cyclone Parts and Services” section is listed in the manual.  \n",
      "\n",
      "References:  \n",
      "- [Content Type: text, Page number: 67] (original‑part requirement, ordering info, contact details)  \n",
      "- [Content Type: text, Page number: 67] (motor and speed‑reducer parts)  \n",
      "- [Content Type: text, Page number: 67] (warning about unauthorized modifications)\n"
     ]
    }
   ],
   "source": [
    "final_answer = qna(final_llm_sys_prompt, final_context, QUERY)\n",
    "\n",
    "print(f\"Query: {QUERY}\")\n",
    "print(f\"Response: {final_answer}\")"
   ]
  }
 ],
 "metadata": {
  "kernelspec": {
   "display_name": "exact-space",
   "language": "python",
   "name": "python3"
  },
  "language_info": {
   "codemirror_mode": {
    "name": "ipython",
    "version": 3
   },
   "file_extension": ".py",
   "mimetype": "text/x-python",
   "name": "python",
   "nbconvert_exporter": "python",
   "pygments_lexer": "ipython3",
   "version": "3.12.11"
  }
 },
 "nbformat": 4,
 "nbformat_minor": 5
}
