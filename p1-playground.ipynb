{
 "cells": [
  {
   "cell_type": "markdown",
   "id": "ab7ee94d",
   "metadata": {},
   "source": [
    "### Importing Libraries"
   ]
  },
  {
   "cell_type": "code",
   "execution_count": 40,
   "id": "ec5f5223",
   "metadata": {},
   "outputs": [],
   "source": [
    "import pandas as pd\n",
    "import numpy as np\n",
    "import matplotlib.pyplot as plt\n",
    "import seaborn as sns\n",
    "import warnings\n",
    "warnings.filterwarnings('ignore')"
   ]
  },
  {
   "cell_type": "markdown",
   "id": "237e9569",
   "metadata": {},
   "source": [
    "### __1. Data Preparation & Exploratory Analysis__"
   ]
  },
  {
   "cell_type": "code",
   "execution_count": 2,
   "id": "9212d9bd",
   "metadata": {},
   "outputs": [
    {
     "data": {
      "text/html": [
       "<div>\n",
       "<style scoped>\n",
       "    .dataframe tbody tr th:only-of-type {\n",
       "        vertical-align: middle;\n",
       "    }\n",
       "\n",
       "    .dataframe tbody tr th {\n",
       "        vertical-align: top;\n",
       "    }\n",
       "\n",
       "    .dataframe thead th {\n",
       "        text-align: right;\n",
       "    }\n",
       "</style>\n",
       "<table border=\"1\" class=\"dataframe\">\n",
       "  <thead>\n",
       "    <tr style=\"text-align: right;\">\n",
       "      <th></th>\n",
       "      <th>time</th>\n",
       "      <th>Cyclone_Inlet_Gas_Temp</th>\n",
       "      <th>Cyclone_Material_Temp</th>\n",
       "      <th>Cyclone_Outlet_Gas_draft</th>\n",
       "      <th>Cyclone_cone_draft</th>\n",
       "      <th>Cyclone_Gas_Outlet_Temp</th>\n",
       "      <th>Cyclone_Inlet_Draft</th>\n",
       "    </tr>\n",
       "  </thead>\n",
       "  <tbody>\n",
       "    <tr>\n",
       "      <th>0</th>\n",
       "      <td>2017-01-01 00:00:00</td>\n",
       "      <td>867.63</td>\n",
       "      <td>910.42</td>\n",
       "      <td>-189.54</td>\n",
       "      <td>-186.04</td>\n",
       "      <td>852.13</td>\n",
       "      <td>-145.9</td>\n",
       "    </tr>\n",
       "    <tr>\n",
       "      <th>1</th>\n",
       "      <td>2017-01-01 00:05:00</td>\n",
       "      <td>879.23</td>\n",
       "      <td>918.14</td>\n",
       "      <td>-184.33</td>\n",
       "      <td>-182.1</td>\n",
       "      <td>862.53</td>\n",
       "      <td>-149.76</td>\n",
       "    </tr>\n",
       "    <tr>\n",
       "      <th>2</th>\n",
       "      <td>2017-01-01 00:10:00</td>\n",
       "      <td>875.67</td>\n",
       "      <td>924.18</td>\n",
       "      <td>-181.26</td>\n",
       "      <td>-166.47</td>\n",
       "      <td>866.06</td>\n",
       "      <td>-145.01</td>\n",
       "    </tr>\n",
       "    <tr>\n",
       "      <th>3</th>\n",
       "      <td>2017-01-01 00:15:00</td>\n",
       "      <td>875.28</td>\n",
       "      <td>923.15</td>\n",
       "      <td>-179.15</td>\n",
       "      <td>-174.83</td>\n",
       "      <td>865.85</td>\n",
       "      <td>-142.82</td>\n",
       "    </tr>\n",
       "    <tr>\n",
       "      <th>4</th>\n",
       "      <td>2017-01-01 00:20:00</td>\n",
       "      <td>891.66</td>\n",
       "      <td>934.26</td>\n",
       "      <td>-178.32</td>\n",
       "      <td>-173.72</td>\n",
       "      <td>876.06</td>\n",
       "      <td>-143.39</td>\n",
       "    </tr>\n",
       "  </tbody>\n",
       "</table>\n",
       "</div>"
      ],
      "text/plain": [
       "                 time Cyclone_Inlet_Gas_Temp Cyclone_Material_Temp  \\\n",
       "0 2017-01-01 00:00:00                 867.63                910.42   \n",
       "1 2017-01-01 00:05:00                 879.23                918.14   \n",
       "2 2017-01-01 00:10:00                 875.67                924.18   \n",
       "3 2017-01-01 00:15:00                 875.28                923.15   \n",
       "4 2017-01-01 00:20:00                 891.66                934.26   \n",
       "\n",
       "  Cyclone_Outlet_Gas_draft Cyclone_cone_draft Cyclone_Gas_Outlet_Temp  \\\n",
       "0                  -189.54            -186.04                  852.13   \n",
       "1                  -184.33             -182.1                  862.53   \n",
       "2                  -181.26            -166.47                  866.06   \n",
       "3                  -179.15            -174.83                  865.85   \n",
       "4                  -178.32            -173.72                  876.06   \n",
       "\n",
       "  Cyclone_Inlet_Draft  \n",
       "0              -145.9  \n",
       "1             -149.76  \n",
       "2             -145.01  \n",
       "3             -142.82  \n",
       "4             -143.39  "
      ]
     },
     "execution_count": 2,
     "metadata": {},
     "output_type": "execute_result"
    }
   ],
   "source": [
    "df = pd.read_excel(\"data.xlsx\")\n",
    "df.head()"
   ]
  },
  {
   "cell_type": "code",
   "execution_count": 3,
   "id": "db59a632",
   "metadata": {},
   "outputs": [
    {
     "name": "stdout",
     "output_type": "stream",
     "text": [
      "<class 'pandas.core.frame.DataFrame'>\n",
      "RangeIndex: 377719 entries, 0 to 377718\n",
      "Data columns (total 7 columns):\n",
      " #   Column                    Non-Null Count   Dtype         \n",
      "---  ------                    --------------   -----         \n",
      " 0   time                      377719 non-null  datetime64[ns]\n",
      " 1   Cyclone_Inlet_Gas_Temp    377719 non-null  object        \n",
      " 2   Cyclone_Material_Temp     377719 non-null  object        \n",
      " 3   Cyclone_Outlet_Gas_draft  377719 non-null  object        \n",
      " 4   Cyclone_cone_draft        377719 non-null  object        \n",
      " 5   Cyclone_Gas_Outlet_Temp   377719 non-null  object        \n",
      " 6   Cyclone_Inlet_Draft       377719 non-null  object        \n",
      "dtypes: datetime64[ns](1), object(6)\n",
      "memory usage: 20.2+ MB\n"
     ]
    }
   ],
   "source": [
    "df.info()"
   ]
  },
  {
   "cell_type": "markdown",
   "id": "7151bfe7",
   "metadata": {},
   "source": [
    "We need to convert the data types of all features aprat from time to numeric."
   ]
  },
  {
   "cell_type": "code",
   "execution_count": 4,
   "id": "26c2c2db",
   "metadata": {},
   "outputs": [
    {
     "data": {
      "text/html": [
       "<div>\n",
       "<style scoped>\n",
       "    .dataframe tbody tr th:only-of-type {\n",
       "        vertical-align: middle;\n",
       "    }\n",
       "\n",
       "    .dataframe tbody tr th {\n",
       "        vertical-align: top;\n",
       "    }\n",
       "\n",
       "    .dataframe thead th {\n",
       "        text-align: right;\n",
       "    }\n",
       "</style>\n",
       "<table border=\"1\" class=\"dataframe\">\n",
       "  <thead>\n",
       "    <tr style=\"text-align: right;\">\n",
       "      <th></th>\n",
       "      <th>time</th>\n",
       "      <th>Cyclone_Inlet_Gas_Temp</th>\n",
       "      <th>Cyclone_Material_Temp</th>\n",
       "      <th>Cyclone_Outlet_Gas_draft</th>\n",
       "      <th>Cyclone_cone_draft</th>\n",
       "      <th>Cyclone_Gas_Outlet_Temp</th>\n",
       "      <th>Cyclone_Inlet_Draft</th>\n",
       "    </tr>\n",
       "  </thead>\n",
       "  <tbody>\n",
       "    <tr>\n",
       "      <th>0</th>\n",
       "      <td>2017-01-01 00:00:00</td>\n",
       "      <td>867.63</td>\n",
       "      <td>910.42</td>\n",
       "      <td>-189.54</td>\n",
       "      <td>-186.04</td>\n",
       "      <td>852.13</td>\n",
       "      <td>-145.90</td>\n",
       "    </tr>\n",
       "    <tr>\n",
       "      <th>1</th>\n",
       "      <td>2017-01-01 00:05:00</td>\n",
       "      <td>879.23</td>\n",
       "      <td>918.14</td>\n",
       "      <td>-184.33</td>\n",
       "      <td>-182.10</td>\n",
       "      <td>862.53</td>\n",
       "      <td>-149.76</td>\n",
       "    </tr>\n",
       "    <tr>\n",
       "      <th>2</th>\n",
       "      <td>2017-01-01 00:10:00</td>\n",
       "      <td>875.67</td>\n",
       "      <td>924.18</td>\n",
       "      <td>-181.26</td>\n",
       "      <td>-166.47</td>\n",
       "      <td>866.06</td>\n",
       "      <td>-145.01</td>\n",
       "    </tr>\n",
       "    <tr>\n",
       "      <th>3</th>\n",
       "      <td>2017-01-01 00:15:00</td>\n",
       "      <td>875.28</td>\n",
       "      <td>923.15</td>\n",
       "      <td>-179.15</td>\n",
       "      <td>-174.83</td>\n",
       "      <td>865.85</td>\n",
       "      <td>-142.82</td>\n",
       "    </tr>\n",
       "    <tr>\n",
       "      <th>4</th>\n",
       "      <td>2017-01-01 00:20:00</td>\n",
       "      <td>891.66</td>\n",
       "      <td>934.26</td>\n",
       "      <td>-178.32</td>\n",
       "      <td>-173.72</td>\n",
       "      <td>876.06</td>\n",
       "      <td>-143.39</td>\n",
       "    </tr>\n",
       "  </tbody>\n",
       "</table>\n",
       "</div>"
      ],
      "text/plain": [
       "                 time  Cyclone_Inlet_Gas_Temp  Cyclone_Material_Temp  \\\n",
       "0 2017-01-01 00:00:00                  867.63                 910.42   \n",
       "1 2017-01-01 00:05:00                  879.23                 918.14   \n",
       "2 2017-01-01 00:10:00                  875.67                 924.18   \n",
       "3 2017-01-01 00:15:00                  875.28                 923.15   \n",
       "4 2017-01-01 00:20:00                  891.66                 934.26   \n",
       "\n",
       "   Cyclone_Outlet_Gas_draft  Cyclone_cone_draft  Cyclone_Gas_Outlet_Temp  \\\n",
       "0                   -189.54             -186.04                   852.13   \n",
       "1                   -184.33             -182.10                   862.53   \n",
       "2                   -181.26             -166.47                   866.06   \n",
       "3                   -179.15             -174.83                   865.85   \n",
       "4                   -178.32             -173.72                   876.06   \n",
       "\n",
       "   Cyclone_Inlet_Draft  \n",
       "0              -145.90  \n",
       "1              -149.76  \n",
       "2              -145.01  \n",
       "3              -142.82  \n",
       "4              -143.39  "
      ]
     },
     "execution_count": 4,
     "metadata": {},
     "output_type": "execute_result"
    }
   ],
   "source": [
    "for col in df.columns:\n",
    "    if df[col].dtype == 'object' and df[col] is not \"time\":\n",
    "        df[col] = pd.to_numeric(df[col], errors='coerce')\n",
    "\n",
    "df.head()"
   ]
  },
  {
   "cell_type": "code",
   "execution_count": 5,
   "id": "b83c7c09",
   "metadata": {},
   "outputs": [
    {
     "name": "stdout",
     "output_type": "stream",
     "text": [
      "<class 'pandas.core.frame.DataFrame'>\n",
      "RangeIndex: 377719 entries, 0 to 377718\n",
      "Data columns (total 7 columns):\n",
      " #   Column                    Non-Null Count   Dtype         \n",
      "---  ------                    --------------   -----         \n",
      " 0   time                      377719 non-null  datetime64[ns]\n",
      " 1   Cyclone_Inlet_Gas_Temp    376399 non-null  float64       \n",
      " 2   Cyclone_Material_Temp     376128 non-null  float64       \n",
      " 3   Cyclone_Outlet_Gas_draft  376398 non-null  float64       \n",
      " 4   Cyclone_cone_draft        376399 non-null  float64       \n",
      " 5   Cyclone_Gas_Outlet_Temp   376398 non-null  float64       \n",
      " 6   Cyclone_Inlet_Draft       376397 non-null  float64       \n",
      "dtypes: datetime64[ns](1), float64(6)\n",
      "memory usage: 20.2 MB\n"
     ]
    }
   ],
   "source": [
    "df.info()"
   ]
  },
  {
   "cell_type": "markdown",
   "id": "e1978544",
   "metadata": {},
   "source": [
    ">__1.1 Check for missing values__"
   ]
  },
  {
   "cell_type": "code",
   "execution_count": 6,
   "id": "901fa542",
   "metadata": {},
   "outputs": [
    {
     "data": {
      "text/plain": [
       "time                           0\n",
       "Cyclone_Inlet_Gas_Temp      1320\n",
       "Cyclone_Material_Temp       1591\n",
       "Cyclone_Outlet_Gas_draft    1321\n",
       "Cyclone_cone_draft          1320\n",
       "Cyclone_Gas_Outlet_Temp     1321\n",
       "Cyclone_Inlet_Draft         1322\n",
       "dtype: int64"
      ]
     },
     "execution_count": 6,
     "metadata": {},
     "output_type": "execute_result"
    }
   ],
   "source": [
    "df.isna().sum()"
   ]
  },
  {
   "cell_type": "code",
   "execution_count": 7,
   "id": "9dd8ae84",
   "metadata": {},
   "outputs": [
    {
     "data": {
      "text/html": [
       "<div>\n",
       "<style scoped>\n",
       "    .dataframe tbody tr th:only-of-type {\n",
       "        vertical-align: middle;\n",
       "    }\n",
       "\n",
       "    .dataframe tbody tr th {\n",
       "        vertical-align: top;\n",
       "    }\n",
       "\n",
       "    .dataframe thead th {\n",
       "        text-align: right;\n",
       "    }\n",
       "</style>\n",
       "<table border=\"1\" class=\"dataframe\">\n",
       "  <thead>\n",
       "    <tr style=\"text-align: right;\">\n",
       "      <th></th>\n",
       "      <th>time</th>\n",
       "      <th>Cyclone_Inlet_Gas_Temp</th>\n",
       "      <th>Cyclone_Material_Temp</th>\n",
       "      <th>Cyclone_Outlet_Gas_draft</th>\n",
       "      <th>Cyclone_cone_draft</th>\n",
       "      <th>Cyclone_Gas_Outlet_Temp</th>\n",
       "      <th>Cyclone_Inlet_Draft</th>\n",
       "    </tr>\n",
       "  </thead>\n",
       "  <tbody>\n",
       "    <tr>\n",
       "      <th>count</th>\n",
       "      <td>377719</td>\n",
       "      <td>376399.000000</td>\n",
       "      <td>376128.000000</td>\n",
       "      <td>376398.000000</td>\n",
       "      <td>376399.000000</td>\n",
       "      <td>376398.000000</td>\n",
       "      <td>376397.000000</td>\n",
       "    </tr>\n",
       "    <tr>\n",
       "      <th>mean</th>\n",
       "      <td>2018-10-20 02:10:21.647840</td>\n",
       "      <td>727.348549</td>\n",
       "      <td>750.830483</td>\n",
       "      <td>-177.820685</td>\n",
       "      <td>-164.572619</td>\n",
       "      <td>715.759972</td>\n",
       "      <td>-141.302857</td>\n",
       "    </tr>\n",
       "    <tr>\n",
       "      <th>min</th>\n",
       "      <td>2017-01-01 00:00:00</td>\n",
       "      <td>0.000000</td>\n",
       "      <td>-185.000000</td>\n",
       "      <td>-456.660000</td>\n",
       "      <td>-459.310000</td>\n",
       "      <td>13.790000</td>\n",
       "      <td>-396.370000</td>\n",
       "    </tr>\n",
       "    <tr>\n",
       "      <th>25%</th>\n",
       "      <td>2017-11-24 21:07:30</td>\n",
       "      <td>856.270000</td>\n",
       "      <td>867.667500</td>\n",
       "      <td>-247.190000</td>\n",
       "      <td>-226.770000</td>\n",
       "      <td>801.960000</td>\n",
       "      <td>-193.510000</td>\n",
       "    </tr>\n",
       "    <tr>\n",
       "      <th>50%</th>\n",
       "      <td>2018-10-19 18:10:00</td>\n",
       "      <td>882.380000</td>\n",
       "      <td>913.360000</td>\n",
       "      <td>-215.260000</td>\n",
       "      <td>-198.560000</td>\n",
       "      <td>871.525000</td>\n",
       "      <td>-169.460000</td>\n",
       "    </tr>\n",
       "    <tr>\n",
       "      <th>75%</th>\n",
       "      <td>2019-09-13 15:12:30</td>\n",
       "      <td>901.110000</td>\n",
       "      <td>943.660000</td>\n",
       "      <td>-170.130000</td>\n",
       "      <td>-143.640000</td>\n",
       "      <td>899.300000</td>\n",
       "      <td>-136.290000</td>\n",
       "    </tr>\n",
       "    <tr>\n",
       "      <th>max</th>\n",
       "      <td>2020-08-07 12:15:00</td>\n",
       "      <td>1157.630000</td>\n",
       "      <td>1375.000000</td>\n",
       "      <td>40.270000</td>\n",
       "      <td>488.860000</td>\n",
       "      <td>1375.000000</td>\n",
       "      <td>41.640000</td>\n",
       "    </tr>\n",
       "    <tr>\n",
       "      <th>std</th>\n",
       "      <td>NaN</td>\n",
       "      <td>328.664814</td>\n",
       "      <td>350.921068</td>\n",
       "      <td>99.147236</td>\n",
       "      <td>90.103023</td>\n",
       "      <td>325.346446</td>\n",
       "      <td>77.615576</td>\n",
       "    </tr>\n",
       "  </tbody>\n",
       "</table>\n",
       "</div>"
      ],
      "text/plain": [
       "                             time  Cyclone_Inlet_Gas_Temp  \\\n",
       "count                      377719           376399.000000   \n",
       "mean   2018-10-20 02:10:21.647840              727.348549   \n",
       "min           2017-01-01 00:00:00                0.000000   \n",
       "25%           2017-11-24 21:07:30              856.270000   \n",
       "50%           2018-10-19 18:10:00              882.380000   \n",
       "75%           2019-09-13 15:12:30              901.110000   \n",
       "max           2020-08-07 12:15:00             1157.630000   \n",
       "std                           NaN              328.664814   \n",
       "\n",
       "       Cyclone_Material_Temp  Cyclone_Outlet_Gas_draft  Cyclone_cone_draft  \\\n",
       "count          376128.000000             376398.000000       376399.000000   \n",
       "mean              750.830483               -177.820685         -164.572619   \n",
       "min              -185.000000               -456.660000         -459.310000   \n",
       "25%               867.667500               -247.190000         -226.770000   \n",
       "50%               913.360000               -215.260000         -198.560000   \n",
       "75%               943.660000               -170.130000         -143.640000   \n",
       "max              1375.000000                 40.270000          488.860000   \n",
       "std               350.921068                 99.147236           90.103023   \n",
       "\n",
       "       Cyclone_Gas_Outlet_Temp  Cyclone_Inlet_Draft  \n",
       "count            376398.000000        376397.000000  \n",
       "mean                715.759972          -141.302857  \n",
       "min                  13.790000          -396.370000  \n",
       "25%                 801.960000          -193.510000  \n",
       "50%                 871.525000          -169.460000  \n",
       "75%                 899.300000          -136.290000  \n",
       "max                1375.000000            41.640000  \n",
       "std                 325.346446            77.615576  "
      ]
     },
     "execution_count": 7,
     "metadata": {},
     "output_type": "execute_result"
    }
   ],
   "source": [
    "df.describe()"
   ]
  },
  {
   "cell_type": "markdown",
   "id": "aa6c6556",
   "metadata": {},
   "source": [
    "My idea was to fill all the null values with the mean, provided that there isn't much variance for the feature. From the above output it is clear that there exists a heavy amount of variance. Dropping the nulls won't be helpful either as this would completely disrupt the strict 5-minute indexing criteria. The next best bet is to use forward filling."
   ]
  },
  {
   "cell_type": "code",
   "execution_count": 8,
   "id": "434933f2",
   "metadata": {},
   "outputs": [],
   "source": [
    "df_temp = df.copy()"
   ]
  },
  {
   "cell_type": "code",
   "execution_count": 9,
   "id": "4f1bcadd",
   "metadata": {},
   "outputs": [
    {
     "name": "stdout",
     "output_type": "stream",
     "text": [
      "All clear!\n"
     ]
    }
   ],
   "source": [
    "df = df.fillna(method = \"ffill\")\n",
    "df.isna().sum()\n",
    "if len(df) - len(df_temp) != 0:\n",
    "    print(\"Some data samples have been dropped! Carefully check previous steps again.\")\n",
    "else:\n",
    "    print(\"All clear!\")"
   ]
  },
  {
   "cell_type": "markdown",
   "id": "90cbda6a",
   "metadata": {},
   "source": [
    "We can also check the difference between the data before and after applying forward filling to check if there is a huge difference."
   ]
  },
  {
   "cell_type": "code",
   "execution_count": 10,
   "id": "6f0b17a5",
   "metadata": {},
   "outputs": [
    {
     "data": {
      "text/html": [
       "<div>\n",
       "<style scoped>\n",
       "    .dataframe tbody tr th:only-of-type {\n",
       "        vertical-align: middle;\n",
       "    }\n",
       "\n",
       "    .dataframe tbody tr th {\n",
       "        vertical-align: top;\n",
       "    }\n",
       "\n",
       "    .dataframe thead th {\n",
       "        text-align: right;\n",
       "    }\n",
       "</style>\n",
       "<table border=\"1\" class=\"dataframe\">\n",
       "  <thead>\n",
       "    <tr style=\"text-align: right;\">\n",
       "      <th></th>\n",
       "      <th>time</th>\n",
       "      <th>Cyclone_Inlet_Gas_Temp</th>\n",
       "      <th>Cyclone_Material_Temp</th>\n",
       "      <th>Cyclone_Outlet_Gas_draft</th>\n",
       "      <th>Cyclone_cone_draft</th>\n",
       "      <th>Cyclone_Gas_Outlet_Temp</th>\n",
       "      <th>Cyclone_Inlet_Draft</th>\n",
       "    </tr>\n",
       "  </thead>\n",
       "  <tbody>\n",
       "    <tr>\n",
       "      <th>count</th>\n",
       "      <td>0</td>\n",
       "      <td>1320.000000</td>\n",
       "      <td>1591.000000</td>\n",
       "      <td>1321.000000</td>\n",
       "      <td>1320.000000</td>\n",
       "      <td>1321.000000</td>\n",
       "      <td>1322.000000</td>\n",
       "    </tr>\n",
       "    <tr>\n",
       "      <th>mean</th>\n",
       "      <td>0 days 00:00:00</td>\n",
       "      <td>-1.298574</td>\n",
       "      <td>-1.404495</td>\n",
       "      <td>0.362569</td>\n",
       "      <td>0.315049</td>\n",
       "      <td>-1.270224</td>\n",
       "      <td>0.279743</td>\n",
       "    </tr>\n",
       "    <tr>\n",
       "      <th>min</th>\n",
       "      <td>0 days 00:00:00</td>\n",
       "      <td>0.000000</td>\n",
       "      <td>0.000000</td>\n",
       "      <td>0.000000</td>\n",
       "      <td>0.000000</td>\n",
       "      <td>0.000000</td>\n",
       "      <td>0.000000</td>\n",
       "    </tr>\n",
       "    <tr>\n",
       "      <th>25%</th>\n",
       "      <td>0 days 00:00:00</td>\n",
       "      <td>-0.370000</td>\n",
       "      <td>-0.587500</td>\n",
       "      <td>0.040000</td>\n",
       "      <td>0.050000</td>\n",
       "      <td>-2.680000</td>\n",
       "      <td>0.060000</td>\n",
       "    </tr>\n",
       "    <tr>\n",
       "      <th>50%</th>\n",
       "      <td>0 days 00:00:00</td>\n",
       "      <td>-0.060000</td>\n",
       "      <td>-0.130000</td>\n",
       "      <td>0.180000</td>\n",
       "      <td>0.130000</td>\n",
       "      <td>-0.125000</td>\n",
       "      <td>0.100000</td>\n",
       "    </tr>\n",
       "    <tr>\n",
       "      <th>75%</th>\n",
       "      <td>0 days 00:00:00</td>\n",
       "      <td>-0.010000</td>\n",
       "      <td>-0.065000</td>\n",
       "      <td>0.895000</td>\n",
       "      <td>1.200000</td>\n",
       "      <td>-0.060000</td>\n",
       "      <td>0.780000</td>\n",
       "    </tr>\n",
       "    <tr>\n",
       "      <th>max</th>\n",
       "      <td>0 days 00:00:00</td>\n",
       "      <td>0.000000</td>\n",
       "      <td>0.000000</td>\n",
       "      <td>0.000000</td>\n",
       "      <td>0.000000</td>\n",
       "      <td>0.000000</td>\n",
       "      <td>0.000000</td>\n",
       "    </tr>\n",
       "    <tr>\n",
       "      <th>std</th>\n",
       "      <td>NaN</td>\n",
       "      <td>1.089456</td>\n",
       "      <td>1.194657</td>\n",
       "      <td>0.233049</td>\n",
       "      <td>0.206107</td>\n",
       "      <td>1.040391</td>\n",
       "      <td>0.168133</td>\n",
       "    </tr>\n",
       "  </tbody>\n",
       "</table>\n",
       "</div>"
      ],
      "text/plain": [
       "                  time  Cyclone_Inlet_Gas_Temp  Cyclone_Material_Temp  \\\n",
       "count                0             1320.000000            1591.000000   \n",
       "mean   0 days 00:00:00               -1.298574              -1.404495   \n",
       "min    0 days 00:00:00                0.000000               0.000000   \n",
       "25%    0 days 00:00:00               -0.370000              -0.587500   \n",
       "50%    0 days 00:00:00               -0.060000              -0.130000   \n",
       "75%    0 days 00:00:00               -0.010000              -0.065000   \n",
       "max    0 days 00:00:00                0.000000               0.000000   \n",
       "std                NaN                1.089456               1.194657   \n",
       "\n",
       "       Cyclone_Outlet_Gas_draft  Cyclone_cone_draft  Cyclone_Gas_Outlet_Temp  \\\n",
       "count               1321.000000         1320.000000              1321.000000   \n",
       "mean                   0.362569            0.315049                -1.270224   \n",
       "min                    0.000000            0.000000                 0.000000   \n",
       "25%                    0.040000            0.050000                -2.680000   \n",
       "50%                    0.180000            0.130000                -0.125000   \n",
       "75%                    0.895000            1.200000                -0.060000   \n",
       "max                    0.000000            0.000000                 0.000000   \n",
       "std                    0.233049            0.206107                 1.040391   \n",
       "\n",
       "       Cyclone_Inlet_Draft  \n",
       "count          1322.000000  \n",
       "mean              0.279743  \n",
       "min               0.000000  \n",
       "25%               0.060000  \n",
       "50%               0.100000  \n",
       "75%               0.780000  \n",
       "max               0.000000  \n",
       "std               0.168133  "
      ]
     },
     "execution_count": 10,
     "metadata": {},
     "output_type": "execute_result"
    }
   ],
   "source": [
    "df.describe() - df_temp.describe()"
   ]
  },
  {
   "cell_type": "markdown",
   "id": "8a4140e7",
   "metadata": {},
   "source": [
    "Seemingly less variation exists."
   ]
  },
  {
   "cell_type": "markdown",
   "id": "24c7287b",
   "metadata": {},
   "source": [
    ">__1.2 Ensuring strict 5-minute indexing__"
   ]
  },
  {
   "cell_type": "markdown",
   "id": "f1767bda",
   "metadata": {},
   "source": [
    "First we can check if the time difference between the first and second data sample is 5 minutes or not."
   ]
  },
  {
   "cell_type": "code",
   "execution_count": 11,
   "id": "ba01f6be",
   "metadata": {},
   "outputs": [
    {
     "name": "stdout",
     "output_type": "stream",
     "text": [
      "0 days 00:05:00\n"
     ]
    }
   ],
   "source": [
    "print(df['time'].iloc[1] - df['time'].iloc[0])"
   ]
  },
  {
   "cell_type": "markdown",
   "id": "6c6622e2",
   "metadata": {},
   "source": [
    "It is! Now we can save that into a variable and loop over the entire set of samples to check if at any point, the time difference is not 5 minutes."
   ]
  },
  {
   "cell_type": "code",
   "execution_count": 12,
   "id": "f3805a04",
   "metadata": {},
   "outputs": [
    {
     "name": "stdout",
     "output_type": "stream",
     "text": [
      "Non 5-minute index found!\n",
      "2017-12-31 00:00:00 at index 104832 & 2018-01-01 00:00:00 at index 104833\n",
      "Time difference: 1 days 00:00:00\n",
      "\n",
      "Non 5-minute index found!\n",
      "2018-12-31 00:00:00 at index 209665 & 2019-01-01 00:00:00 at index 209666\n",
      "Time difference: 1 days 00:00:00\n",
      "\n",
      "Non 5-minute index found!\n",
      "2019-12-31 00:00:00 at index 314498 & 2020-01-01 00:00:00 at index 314499\n",
      "Time difference: 1 days 00:00:00\n",
      "\n",
      "Check complete!\n"
     ]
    }
   ],
   "source": [
    "def time_diff_check(df):\n",
    "\n",
    "    time_diff = df['time'].iloc[1] - df['time'].iloc[0]\n",
    "\n",
    "    for i in range(len(df['time']) - 1):\n",
    "        if (df['time'].iloc[i + 1] - df['time'].iloc[i]) != time_diff:\n",
    "            print(\"Non 5-minute index found!\")\n",
    "            print(f\"{df['time'].iloc[i]} at index {i} & {df['time'].iloc[i + 1]} at index {i + 1}\")\n",
    "            print(f\"Time difference: {df['time'].iloc[i + 1] - df['time'].iloc[i]}\")\n",
    "            print()\n",
    "    print(\"Check complete!\")\n",
    "\n",
    "time_diff_check(df)"
   ]
  },
  {
   "cell_type": "markdown",
   "id": "d3207b1b",
   "metadata": {},
   "source": [
    "There is a time difference of 1 day for the above three sample pairs. A quick move would be to drop them, but we can explore them further."
   ]
  },
  {
   "cell_type": "code",
   "execution_count": 13,
   "id": "c16bfba3",
   "metadata": {},
   "outputs": [
    {
     "name": "stdout",
     "output_type": "stream",
     "text": [
      "time                        2017-12-31 00:00:00\n",
      "Cyclone_Inlet_Gas_Temp                   853.09\n",
      "Cyclone_Material_Temp                    866.88\n",
      "Cyclone_Outlet_Gas_draft                -234.32\n",
      "Cyclone_cone_draft                      -234.99\n",
      "Cyclone_Gas_Outlet_Temp                   832.7\n",
      "Cyclone_Inlet_Draft                     -185.94\n",
      "Name: 104832, dtype: object\n",
      "\n",
      "time                        2018-01-01 00:00:00\n",
      "Cyclone_Inlet_Gas_Temp                   870.97\n",
      "Cyclone_Material_Temp                    920.72\n",
      "Cyclone_Outlet_Gas_draft                -222.35\n",
      "Cyclone_cone_draft                      -223.12\n",
      "Cyclone_Gas_Outlet_Temp                  883.63\n",
      "Cyclone_Inlet_Draft                      -173.8\n",
      "Name: 104833, dtype: object\n"
     ]
    }
   ],
   "source": [
    "print(df.iloc[104832])\n",
    "print()\n",
    "print(df.iloc[104833])"
   ]
  },
  {
   "cell_type": "code",
   "execution_count": 14,
   "id": "d3c43182",
   "metadata": {},
   "outputs": [
    {
     "name": "stdout",
     "output_type": "stream",
     "text": [
      "time                        2018-12-31 00:00:00\n",
      "Cyclone_Inlet_Gas_Temp                   889.42\n",
      "Cyclone_Material_Temp                    910.71\n",
      "Cyclone_Outlet_Gas_draft                -242.28\n",
      "Cyclone_cone_draft                       -223.3\n",
      "Cyclone_Gas_Outlet_Temp                  847.83\n",
      "Cyclone_Inlet_Draft                     -181.69\n",
      "Name: 209665, dtype: object\n",
      "\n",
      "time                        2019-01-01 00:00:00\n",
      "Cyclone_Inlet_Gas_Temp                   873.19\n",
      "Cyclone_Material_Temp                    892.16\n",
      "Cyclone_Outlet_Gas_draft                -217.47\n",
      "Cyclone_cone_draft                      -205.11\n",
      "Cyclone_Gas_Outlet_Temp                  830.25\n",
      "Cyclone_Inlet_Draft                     -164.51\n",
      "Name: 209666, dtype: object\n"
     ]
    }
   ],
   "source": [
    "print(df.iloc[209665])\n",
    "print()\n",
    "print(df.iloc[209666])"
   ]
  },
  {
   "cell_type": "code",
   "execution_count": 15,
   "id": "438e2493",
   "metadata": {},
   "outputs": [
    {
     "name": "stdout",
     "output_type": "stream",
     "text": [
      "time                        2019-12-31 00:00:00\n",
      "Cyclone_Inlet_Gas_Temp                   896.89\n",
      "Cyclone_Material_Temp                    926.33\n",
      "Cyclone_Outlet_Gas_draft                -217.88\n",
      "Cyclone_cone_draft                      -187.76\n",
      "Cyclone_Gas_Outlet_Temp                  908.99\n",
      "Cyclone_Inlet_Draft                     -163.87\n",
      "Name: 314498, dtype: object\n",
      "\n",
      "time                        2020-01-01 00:00:00\n",
      "Cyclone_Inlet_Gas_Temp                   886.49\n",
      "Cyclone_Material_Temp                    909.28\n",
      "Cyclone_Outlet_Gas_draft                -237.14\n",
      "Cyclone_cone_draft                      -210.54\n",
      "Cyclone_Gas_Outlet_Temp                  914.37\n",
      "Cyclone_Inlet_Draft                     -180.15\n",
      "Name: 314499, dtype: object\n"
     ]
    }
   ],
   "source": [
    "print(df.iloc[314498])\n",
    "print()\n",
    "print(df.iloc[314499])"
   ]
  },
  {
   "cell_type": "markdown",
   "id": "71456085",
   "metadata": {},
   "source": [
    "We can infer that these are basically records at the same time, but right before end of the year and right after start of the next year. The differnece here will show 1 full day. We don't want that. So we fix this using `date_range` function from pandas."
   ]
  },
  {
   "cell_type": "code",
   "execution_count": 16,
   "id": "7da2bde2",
   "metadata": {},
   "outputs": [],
   "source": [
    "clean_time = pd.date_range(start = df['time'].iloc[0], periods = len(df), freq = \"5T\") # 5 minutes\n",
    "df['time'] = clean_time"
   ]
  },
  {
   "cell_type": "code",
   "execution_count": 17,
   "id": "78aa4861",
   "metadata": {},
   "outputs": [
    {
     "name": "stdout",
     "output_type": "stream",
     "text": [
      "Check complete!\n"
     ]
    }
   ],
   "source": [
    "time_diff_check(df)"
   ]
  },
  {
   "cell_type": "markdown",
   "id": "1ca249a6",
   "metadata": {},
   "source": [
    "Strict 5-minute indexing ensured!"
   ]
  },
  {
   "cell_type": "markdown",
   "id": "a16faa00",
   "metadata": {},
   "source": [
    ">__1.3 Outlier analysis & handling__"
   ]
  },
  {
   "cell_type": "markdown",
   "id": "f9546b2a",
   "metadata": {},
   "source": [
    "We will use the classic IQR method to look for outliers."
   ]
  },
  {
   "cell_type": "code",
   "execution_count": 46,
   "id": "1c68c910",
   "metadata": {},
   "outputs": [
    {
     "name": "stdout",
     "output_type": "stream",
     "text": [
      "Number of outliers in Cyclone_Inlet_Gas_Temp: 85816\n",
      "Number of outliers in Cyclone_Material_Temp: 79776\n",
      "Number of outliers in Cyclone_Outlet_Gas_draft: 82014\n",
      "Number of outliers in Cyclone_cone_draft: 75350\n",
      "Number of outliers in Cyclone_Gas_Outlet_Temp: 80770\n",
      "Number of outliers in Cyclone_Inlet_Draft: 82481\n"
     ]
    }
   ],
   "source": [
    "df_temp = df.copy()\n",
    "df_temp.drop(columns = ['time'], inplace = True)\n",
    "\n",
    "def iqr_outliers(df):\n",
    "    outliers = {}\n",
    "    for col in df.columns:\n",
    "        Q1 = df[col].quantile(0.25)\n",
    "        Q3 = df[col].quantile(0.75)\n",
    "        IQR = Q3 - Q1\n",
    "        lower_bound = Q1 - 1.5 * IQR\n",
    "        upper_bound = Q3 + 1.5 * IQR\n",
    "        \n",
    "        outliers[col] = df[(df[col] < lower_bound) | (df[col] > upper_bound)][col].tolist()\n",
    "    for col in outliers:\n",
    "        print(f\"Number of outliers in {col}: {len(outliers[col])}\")\n",
    "        \n",
    "iqr_outliers(df_temp)"
   ]
  },
  {
   "cell_type": "code",
   "execution_count": 47,
   "id": "5e821bc9",
   "metadata": {},
   "outputs": [
    {
     "data": {
      "image/png": "[encoded data removed]",
      "text/plain": [
       "<Figure size 1500x800 with 6 Axes>"
      ]
     },
     "metadata": {},
     "output_type": "display_data"
    }
   ],
   "source": [
    "num_features = len(df_temp)\n",
    "\n",
    "fig, axes = plt.subplots(2, 3, figsize = (15, 8))\n",
    "axes = axes.flatten()  \n",
    "\n",
    "for i, col in enumerate(df_temp.columns):\n",
    "    sns.boxplot(y = df_temp[col], ax = axes[i])\n",
    "    axes[i].set_title(f'Boxplot of {col}')\n",
    "\n",
    "plt.tight_layout()\n",
    "plt.show()"
   ]
  },
  {
   "cell_type": "markdown",
   "id": "03aa0555",
   "metadata": {},
   "source": [
    "Several outliers exist in all the features. However, dropping them is not helpful as that will break the strict 5-minute index interval rule. Another option is to cap the outliers using the IQR method, which limits extreme values to the upper and lower bounds without removing any rows. "
   ]
  },
  {
   "cell_type": "code",
   "execution_count": 50,
   "id": "0a3c1e2a",
   "metadata": {},
   "outputs": [
    {
     "name": "stdout",
     "output_type": "stream",
     "text": [
      "Number of outliers in Cyclone_Inlet_Gas_Temp: 0\n",
      "Number of outliers in Cyclone_Material_Temp: 0\n",
      "Number of outliers in Cyclone_Outlet_Gas_draft: 0\n",
      "Number of outliers in Cyclone_cone_draft: 0\n",
      "Number of outliers in Cyclone_Gas_Outlet_Temp: 0\n",
      "Number of outliers in Cyclone_Inlet_Draft: 0\n"
     ]
    }
   ],
   "source": [
    "def cap_outliers(df):\n",
    "    df_capped = df.copy()\n",
    "    for col in df_capped.select_dtypes(include=['number']).columns:\n",
    "        Q1 = df_capped[col].quantile(0.25)\n",
    "        Q3 = df_capped[col].quantile(0.75)\n",
    "        IQR = Q3 - Q1\n",
    "        lower_bound = Q1 - 1.5 * IQR\n",
    "        upper_bound = Q3 + 1.5 * IQR\n",
    "        \n",
    "        # cap the values at bounds\n",
    "        df_capped[col] = df_capped[col].clip(lower=lower_bound, upper=upper_bound)\n",
    "    return df_capped\n",
    "\n",
    "capped_df = cap_outliers(df_temp)\n",
    "iqr_outliers(capped_df)"
   ]
  },
  {
   "cell_type": "code",
   "execution_count": 51,
   "id": "1cfb5ed6",
   "metadata": {},
   "outputs": [
    {
     "data": {
      "image/png": "[encoded data removed]",
      "text/plain": [
       "<Figure size 1500x800 with 6 Axes>"
      ]
     },
     "metadata": {},
     "output_type": "display_data"
    }
   ],
   "source": [
    "num_features = len(capped_df)\n",
    "\n",
    "fig, axes = plt.subplots(2, 3, figsize = (15, 8))\n",
    "axes = axes.flatten()  \n",
    "\n",
    "for i, col in enumerate(capped_df.columns):\n",
    "    sns.boxplot(y = capped_df[col], ax = axes[i])\n",
    "    axes[i].set_title(f'Boxplot of {col}')\n",
    "\n",
    "plt.tight_layout()\n",
    "plt.show()"
   ]
  },
  {
   "cell_type": "markdown",
   "id": "a30dfcf0",
   "metadata": {},
   "source": [
    "Outliers handled."
   ]
  },
  {
   "cell_type": "markdown",
   "id": "7a2cfff8",
   "metadata": {},
   "source": [
    ">__1.4 Summary statistics & correlation matrix__"
   ]
  },
  {
   "cell_type": "code",
   "execution_count": null,
   "id": "c44fe904",
   "metadata": {},
   "outputs": [],
   "source": []
  }
 ],
 "metadata": {
  "kernelspec": {
   "display_name": "exact-space",
   "language": "python",
   "name": "python3"
  },
  "language_info": {
   "codemirror_mode": {
    "name": "ipython",
    "version": 3
   },
   "file_extension": ".py",
   "mimetype": "text/x-python",
   "name": "python",
   "nbconvert_exporter": "python",
   "pygments_lexer": "ipython3",
   "version": "3.12.11"
  }
 },
 "nbformat": 4,
 "nbformat_minor": 5
}
