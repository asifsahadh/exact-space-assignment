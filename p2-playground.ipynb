{
 "cells": [
  {
   "cell_type": "markdown",
   "id": "077e68d2",
   "metadata": {},
   "source": [
    "### Workflow Diagram"
   ]
  },
  {
   "cell_type": "markdown",
   "id": "1a83f846",
   "metadata": {},
   "source": [
    "<img src=\"workflow.png\" alt=\"workflow\" width=\"750\"/>"
   ]
  },
  {
   "cell_type": "markdown",
   "id": "7a32e9d3",
   "metadata": {},
   "source": [
    "### Implementation"
   ]
  },
  {
   "cell_type": "markdown",
   "id": "0265f8b0",
   "metadata": {},
   "source": [
    ">Importing libraries"
   ]
  },
  {
   "cell_type": "code",
   "execution_count": 18,
   "id": "a32a4606",
   "metadata": {},
   "outputs": [],
   "source": [
    "import os\n",
    "from PyPDF2 import PdfMerger\n",
    "import fitz\n",
    "import camelot\n",
    "from pathlib import Path"
   ]
  },
  {
   "cell_type": "markdown",
   "id": "27b85fae",
   "metadata": {},
   "source": [
    ">Combine PDFs"
   ]
  },
  {
   "cell_type": "code",
   "execution_count": 2,
   "id": "43141001",
   "metadata": {},
   "outputs": [],
   "source": [
    "folder = \"pdfs\"\n",
    "files_and_folders = os.listdir(folder)\n",
    "files = [f for f in files_and_folders if f.lower().endswith(\".pdf\")]\n",
    "files.sort()\n",
    "merger = PdfMerger()\n",
    "\n",
    "for pdf in files:\n",
    "    merger.append(os.path.join(folder, pdf))  \n",
    "\n",
    "merger.write(\"result.pdf\")\n",
    "merger.close()"
   ]
  },
  {
   "cell_type": "markdown",
   "id": "95ea0243",
   "metadata": {},
   "source": [
    "Now we have the resulting PDF with 195 pages."
   ]
  },
  {
   "cell_type": "code",
   "execution_count": 7,
   "id": "7d615a1b",
   "metadata": {},
   "outputs": [],
   "source": [
    "doc = fitz.open(\"result.pdf\")\n",
    "for page in doc:\n",
    "    text = page.get_text(\"blocks\")  "
   ]
  },
  {
   "cell_type": "code",
   "execution_count": null,
   "id": "946d479d",
   "metadata": {},
   "outputs": [],
   "source": [
    "tables = camelot.read_pdf(\"result.pdf\", pages = \"all\")\n",
    "for i, table in enumerate(tables):\n",
    "    df = table.df\n",
    "    df.to_csv(f\"table_{i}.csv\", index=False)"
   ]
  },
  {
   "cell_type": "code",
   "execution_count": null,
   "id": "310304e7",
   "metadata": {},
   "outputs": [],
   "source": [
    "os.makedirs(\"images\", exist_ok=True)\n",
    "\n",
    "doc = fitz.open(\"result.pdf\")\n",
    "\n",
    "for page_number, page in enumerate(doc):\n",
    "    # get all image objects on the page\n",
    "    image_list = page.get_images(full=True)\n",
    "    \n",
    "    for img_index, img in enumerate(image_list):\n",
    "        xref = img[0]\n",
    "        base_image = doc.extract_image(xref)\n",
    "        image_bytes = base_image[\"image\"]\n",
    "        image_ext = base_image[\"ext\"]\n",
    "        \n",
    "        with open(f\"images/page{page_number+1}_img{img_index}.{image_ext}\", \"wb\") as f:\n",
    "            f.write(image_bytes)"
   ]
  },
  {
   "cell_type": "code",
   "execution_count": null,
   "id": "ced75f0a",
   "metadata": {},
   "outputs": [],
   "source": [
    "def extract_text_and_tables(pdf_path):\n",
    "\n",
    "    pdf_file = Path(pdf_path)\n",
    "    if not pdf_file.is_file() or pdf_file.suffix.lower() != \".pdf\":\n",
    "        raise FileNotFoundError(\"Provided file path is not a valid PDF.\")\n",
    "\n",
    "    doc = fitz.open(str(pdf_file))\n",
    "    result = []\n",
    "\n",
    "    # text extraction\n",
    "    for page_num, page in enumerate(doc, start = 1):\n",
    "        page_blocks = []\n",
    "\n",
    "        blocks = page.get_text(\"dict\")[\"blocks\"]\n",
    "        for block in blocks:\n",
    "            if block[\"type\"] == 0: # type 0 is text\n",
    "                text_content = \" \".join(\n",
    "                    span[\"text\"] for line in block[\"lines\"] for span in line[\"spans\"]\n",
    "                ).strip()\n",
    "                if text_content:\n",
    "                    y = block[\"bbox\"][1]\n",
    "                    page_blocks.append({\n",
    "                        \"type\": \"TEXT DATA\",\n",
    "                        \"y\": y,\n",
    "                        \"content\": text_content\n",
    "                    })\n",
    "\n",
    "        # table extraction\n",
    "        try:\n",
    "            tables = camelot.read_pdf(str(pdf_file), pages = str(page_num), flavor = 'lattice') # lattice flavor to extract tables\n",
    "        except Exception as e:\n",
    "            print(f\"Failed to read tables on page {page_num}: {e}\")\n",
    "            tables = []\n",
    "\n",
    "        for table in tables:\n",
    "            table_data = table.data\n",
    "            bbox = table._bbox\n",
    "            y = float(bbox[1])\n",
    "            page_blocks.append({\n",
    "                \"type\": \"TABLE DATA\",\n",
    "                \"y\": y,\n",
    "                \"content\": table_data\n",
    "            })\n",
    "\n",
    "        page_blocks.sort(key = lambda b: b[\"y\"]) # sort contents on current page\n",
    "        result.extend(page_blocks) # append content to result list\n",
    "\n",
    "    return result"
   ]
  }
 ],
 "metadata": {
  "kernelspec": {
   "display_name": "exact-space",
   "language": "python",
   "name": "python3"
  },
  "language_info": {
   "codemirror_mode": {
    "name": "ipython",
    "version": 3
   },
   "file_extension": ".py",
   "mimetype": "text/x-python",
   "name": "python",
   "nbconvert_exporter": "python",
   "pygments_lexer": "ipython3",
   "version": "3.12.11"
  }
 },
 "nbformat": 4,
 "nbformat_minor": 5
}
